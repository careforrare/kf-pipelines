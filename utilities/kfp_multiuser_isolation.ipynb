{
 "cells": [
  {
   "cell_type": "markdown",
   "id": "10d42802-b55e-4ea5-abe8-8920cc79b381",
   "metadata": {},
   "source": [
    "# About\n",
    "@Yingding Wang\n",
    "\n",
    "\n",
    "Reference:\n",
    "* KubeFlow Multi-Tenancy: https://www.kubeflow.org/docs/components/multi-tenancy/\n",
    "* KubeFlow Pipeline Multi-user Isolation: https://www.kubeflow.org/docs/components/pipelines/overview/multi-user/"
   ]
  },
  {
   "cell_type": "code",
   "execution_count": 1,
   "id": "edc077b5-2a40-45da-a649-3415104d2929",
   "metadata": {},
   "outputs": [
    {
     "name": "stdout",
     "output_type": "stream",
     "text": [
      "NAME             SECRETS   AGE\n",
      "default          1         84d\n",
      "default-editor   1         84d\n",
      "default-viewer   1         84d\n"
     ]
    }
   ],
   "source": [
    "# get all service account\n",
    "NAME_SPACE=\"kubeflow-kindfor\"\n",
    "!kubectl -n $NAME_SPACE get serviceaccounts"
   ]
  },
  {
   "cell_type": "markdown",
   "id": "6f230282-9f79-4c90-931b-8a85399cbccf",
   "metadata": {
    "tags": []
   },
   "source": [
    "## Notebook Pod ServiceAccount: default-editor\n",
    "\n",
    "Reference:\n",
    "* https://www.kubeflow.org/docs/components/notebooks/submit-kubernetes/\n",
    "\n",
    "`default-editor` ServiceAccount is bound to the `kubeflow-edit` ClusterRole"
   ]
  },
  {
   "cell_type": "code",
   "execution_count": 9,
   "id": "7d6870c6-a511-4d6f-bcdc-f7d306a4731d",
   "metadata": {},
   "outputs": [
    {
     "name": "stdout",
     "output_type": "stream",
     "text": [
      "apiVersion: v1\n",
      "kind: ServiceAccount\n",
      "metadata:\n",
      "  creationTimestamp: \"2021-11-03T15:25:28Z\"\n",
      "  name: default-editor\n",
      "  namespace: kubeflow-kindfor\n",
      "  ownerReferences:\n",
      "  - apiVersion: kubeflow.org/v1\n",
      "    blockOwnerDeletion: true\n",
      "    controller: true\n",
      "    kind: Profile\n",
      "    name: kubeflow-kindfor\n",
      "    uid: 2ae4bf38-49bb-4279-8517-8e10c6a2f087\n",
      "  resourceVersion: \"39907218\"\n",
      "  uid: 4da93784-b390-45be-bc8a-a0060555a864\n",
      "secrets:\n",
      "- name: default-editor-token-22zfg\n"
     ]
    }
   ],
   "source": [
    "!kubectl -n $NAME_SPACE get serviceaccounts default-editor -o yaml"
   ]
  },
  {
   "cell_type": "code",
   "execution_count": 8,
   "id": "2feb6a74-4a78-45a0-ade3-ce5d81a1d4b6",
   "metadata": {},
   "outputs": [
    {
     "name": "stdout",
     "output_type": "stream",
     "text": [
      "Error from server (Forbidden): clusterroles.rbac.authorization.k8s.io \"kubeflow-edit\" is forbidden: User \"system:serviceaccount:kubeflow-kindfor:default-editor\" cannot get resource \"clusterroles\" in API group \"rbac.authorization.k8s.io\" at the cluster scope\n"
     ]
    }
   ],
   "source": [
    "!kubectl -n $NAME_SPACE describe clusterrole kubeflow-edit"
   ]
  },
  {
   "cell_type": "code",
   "execution_count": 11,
   "id": "6e8717d2-9fd0-47cb-8891-7e89bceafd56",
   "metadata": {},
   "outputs": [
    {
     "name": "stdout",
     "output_type": "stream",
     "text": [
      "Error from server (Forbidden): clusterrolebindings.rbac.authorization.k8s.io is forbidden: User \"system:serviceaccount:kubeflow-kindfor:default-editor\" cannot list resource \"clusterrolebindings\" in API group \"rbac.authorization.k8s.io\" at the cluster scope\n"
     ]
    }
   ],
   "source": [
    "!kubectl -n $NAME_SPACE get clusterrolebindings"
   ]
  },
  {
   "cell_type": "code",
   "execution_count": null,
   "id": "cf46006a-2b70-4407-8b21-5be4c0517d80",
   "metadata": {},
   "outputs": [],
   "source": []
  }
 ],
 "metadata": {
  "kernelspec": {
   "display_name": "Python 3",
   "language": "python",
   "name": "python3"
  },
  "language_info": {
   "codemirror_mode": {
    "name": "ipython",
    "version": 3
   },
   "file_extension": ".py",
   "mimetype": "text/x-python",
   "name": "python",
   "nbconvert_exporter": "python",
   "pygments_lexer": "ipython3",
   "version": "3.8.10"
  }
 },
 "nbformat": 4,
 "nbformat_minor": 5
}
