{
 "cells": [
  {
   "cell_type": "markdown",
   "id": "f32a1f44-3f26-4572-89dd-ccb1c50a2209",
   "metadata": {},
   "source": [
    "# About this notebook\n",
    "\n",
    "@author: Yingding Wang\n",
    "\n",
    "This notebook shall be run to set the default kubeflow notebook"
   ]
  },
  {
   "cell_type": "code",
   "execution_count": null,
   "id": "86486178-ffbe-4ee2-b4ef-42c2d3dc9386",
   "metadata": {},
   "outputs": [],
   "source": [
    "import sys\n",
    "print(f\"Sys version: {sys.version}\")"
   ]
  },
  {
   "cell_type": "markdown",
   "id": "606f0136-b9e2-409a-83cc-1d2eb86fd674",
   "metadata": {},
   "source": [
    "## Useful JupyterLab Basic\n",
    "\n",
    "Before start, you may consider to update the jupyterlab with the command\n",
    "\n",
    "<code>python\n",
    "!{sys.executable} -m pip install --upgrade --user jupyterlab    \n",
    "</code>  \n",
    "\n",
    "1. Autocomplete syntax with \"Tab\"\n",
    "2. View Doc String with \"Shift + Tab\"\n",
    "3. mark the code snippet -> select with right mouse -> Show Contextual Help (see the function code)"
   ]
  },
  {
   "cell_type": "code",
   "execution_count": null,
   "id": "addd98f0-7245-4ab1-806e-e72b47fd13f1",
   "metadata": {},
   "outputs": [],
   "source": [
    "# upgrade jupyter lab\n",
    "!{sys.executable} -m pip install --upgrade --user jupyterlab==3.2.8"
   ]
  },
  {
   "cell_type": "markdown",
   "id": "7d40132c-4e12-471e-82e7-bb7703a0d762",
   "metadata": {},
   "source": [
    "## Restart this notebook server\n",
    "* Stop kernel\n",
    "* close Notebook\n",
    "* close JupyterLab Tab\n",
    "* Stop the JupyterLab Server in KubeFlow Notebook\n",
    "* Start the JupyterLab Server in KubeFlow Notebook"
   ]
  },
  {
   "cell_type": "code",
   "execution_count": null,
   "id": "8497db31-0728-4ace-8e11-b151e63470e6",
   "metadata": {},
   "outputs": [],
   "source": [
    "# Know you shall see the Jupyter Lab is updated\n",
    "!{sys.executable} -m pip show jupyterlab # 3.0.16"
   ]
  },
  {
   "cell_type": "markdown",
   "id": "7c687d75-4f36-4c90-8af2-ec5780f16e9a",
   "metadata": {},
   "source": [
    "# Install packages in Jupter notebook\n",
    "\n",
    "https://jakevdp.github.io/blog/2017/12/05/installing-python-packages-from-jupyter/"
   ]
  },
  {
   "cell_type": "code",
   "execution_count": null,
   "id": "7361c65b-eca6-4422-8557-3385472f7830",
   "metadata": {},
   "outputs": [],
   "source": [
    "# Install a pip package in the current Jupyter Kernel\n",
    "# import sys\n",
    "!{sys.executable} -m pip install --user numpy tensorflow panda"
   ]
  },
  {
   "cell_type": "markdown",
   "id": "d0363e64-dc78-47df-a120-4300afaa6e30",
   "metadata": {},
   "source": [
    "# Running TensorFlow code"
   ]
  },
  {
   "cell_type": "code",
   "execution_count": null,
   "id": "93747137-8822-4425-8771-89641bc109a5",
   "metadata": {},
   "outputs": [],
   "source": [
    "import tensorflow as tf\n",
    "print(\"TensorFlow version:\", tf.__version__)"
   ]
  },
  {
   "cell_type": "code",
   "execution_count": null,
   "id": "d64eff80-a4bf-4edf-9b0d-2576f87e947f",
   "metadata": {},
   "outputs": [],
   "source": [
    "\n"
   ]
  }
 ],
 "metadata": {
  "kernelspec": {
   "display_name": "Python 3",
   "language": "python",
   "name": "python3"
  },
  "language_info": {
   "codemirror_mode": {
    "name": "ipython",
    "version": 3
   },
   "file_extension": ".py",
   "mimetype": "text/x-python",
   "name": "python",
   "nbconvert_exporter": "python",
   "pygments_lexer": "ipython3",
   "version": "3.8.10"
  }
 },
 "nbformat": 4,
 "nbformat_minor": 5
}
