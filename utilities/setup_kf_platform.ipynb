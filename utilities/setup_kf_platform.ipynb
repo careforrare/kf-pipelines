{
 "cells": [
  {
   "cell_type": "markdown",
   "id": "f32a1f44-3f26-4572-89dd-ccb1c50a2209",
   "metadata": {},
   "source": [
    "# About this notebook\n",
    "\n",
    "@author: Yingding Wang\n",
    "\n",
    "This notebook shall be run to set the default kubeflow notebook"
   ]
  },
  {
   "cell_type": "code",
   "execution_count": 1,
   "id": "86486178-ffbe-4ee2-b4ef-42c2d3dc9386",
   "metadata": {},
   "outputs": [
    {
     "name": "stdout",
     "output_type": "stream",
     "text": [
      "Sys version: 3.8.10 | packaged by conda-forge | (default, May 11 2021, 07:01:05) \n",
      "[GCC 9.3.0]\n"
     ]
    }
   ],
   "source": [
    "import sys\n",
    "print(f\"Sys version: {sys.version}\")"
   ]
  },
  {
   "cell_type": "markdown",
   "id": "606f0136-b9e2-409a-83cc-1d2eb86fd674",
   "metadata": {},
   "source": [
    "## Useful JupyterLab Basic\n",
    "\n",
    "Before start, you may consider to update the jupyterlab with the command\n",
    "\n",
    "<code>python\n",
    "!{sys.executable} -m pip install --upgrade --user jupyterlab    \n",
    "</code>  \n",
    "\n",
    "1. Autocomplete syntax with \"Tab\"\n",
    "2. View Doc String with \"Shift + Tab\"\n",
    "3. mark the code snippet -> select with right mouse -> Show Contextual Help (see the function code)"
   ]
  },
  {
   "cell_type": "code",
   "execution_count": 2,
   "id": "addd98f0-7245-4ab1-806e-e72b47fd13f1",
   "metadata": {},
   "outputs": [
    {
     "name": "stdout",
     "output_type": "stream",
     "text": [
      "Collecting jupyterlab==3.4.8\n",
      "  Downloading jupyterlab-3.4.8-py3-none-any.whl (8.8 MB)\n",
      "\u001b[K     |████████████████████████████████| 8.8 MB 4.9 MB/s eta 0:00:01\n",
      "\u001b[?25hRequirement already satisfied: jinja2>=2.1 in /opt/conda/lib/python3.8/site-packages (from jupyterlab==3.4.8) (3.0.1)\n",
      "Collecting jupyterlab-server~=2.10\n",
      "  Downloading jupyterlab_server-2.15.2-py3-none-any.whl (54 kB)\n",
      "\u001b[K     |████████████████████████████████| 54 kB 3.1 MB/s  eta 0:00:01\n",
      "\u001b[?25hRequirement already satisfied: tornado>=6.1.0 in /opt/conda/lib/python3.8/site-packages (from jupyterlab==3.4.8) (6.1)\n",
      "Requirement already satisfied: ipython in /opt/conda/lib/python3.8/site-packages (from jupyterlab==3.4.8) (7.24.1)\n",
      "Requirement already satisfied: jupyter-core in /opt/conda/lib/python3.8/site-packages (from jupyterlab==3.4.8) (4.7.1)\n",
      "Collecting tomli\n",
      "  Downloading tomli-2.0.1-py3-none-any.whl (12 kB)\n",
      "Requirement already satisfied: nbclassic in /opt/conda/lib/python3.8/site-packages (from jupyterlab==3.4.8) (0.3.1)\n",
      "Requirement already satisfied: notebook<7 in /opt/conda/lib/python3.8/site-packages (from jupyterlab==3.4.8) (6.4.0)\n",
      "Collecting jupyter-server~=1.16\n",
      "  Downloading jupyter_server-1.19.1-py3-none-any.whl (346 kB)\n",
      "\u001b[K     |████████████████████████████████| 346 kB 57.4 MB/s eta 0:00:01\n",
      "\u001b[?25hRequirement already satisfied: packaging in /opt/conda/lib/python3.8/site-packages (from jupyterlab==3.4.8) (20.9)\n",
      "Requirement already satisfied: MarkupSafe>=2.0 in /opt/conda/lib/python3.8/site-packages (from jinja2>=2.1->jupyterlab==3.4.8) (2.0.1)\n",
      "Requirement already satisfied: prometheus-client in /opt/conda/lib/python3.8/site-packages (from jupyter-server~=1.16->jupyterlab==3.4.8) (0.11.0)\n",
      "Collecting traitlets>=5.1\n",
      "  Downloading traitlets-5.4.0-py3-none-any.whl (107 kB)\n",
      "\u001b[K     |████████████████████████████████| 107 kB 64.5 MB/s eta 0:00:01\n",
      "\u001b[?25hRequirement already satisfied: anyio<4,>=3.1.0 in /home/jovyan/.local/lib/python3.8/site-packages (from jupyter-server~=1.16->jupyterlab==3.4.8) (3.6.1)\n",
      "Requirement already satisfied: pyzmq>=17 in /opt/conda/lib/python3.8/site-packages (from jupyter-server~=1.16->jupyterlab==3.4.8) (22.1.0)\n",
      "Collecting nbconvert>=6.4.4\n",
      "  Downloading nbconvert-7.2.1-py3-none-any.whl (271 kB)\n",
      "\u001b[K     |████████████████████████████████| 271 kB 65.5 MB/s eta 0:00:01\n",
      "\u001b[?25hRequirement already satisfied: websocket-client in /opt/conda/lib/python3.8/site-packages (from jupyter-server~=1.16->jupyterlab==3.4.8) (1.0.1)\n",
      "Requirement already satisfied: jupyter-client>=6.1.12 in /opt/conda/lib/python3.8/site-packages (from jupyter-server~=1.16->jupyterlab==3.4.8) (6.1.12)\n",
      "Requirement already satisfied: Send2Trash in /opt/conda/lib/python3.8/site-packages (from jupyter-server~=1.16->jupyterlab==3.4.8) (1.5.0)\n",
      "Requirement already satisfied: argon2-cffi in /opt/conda/lib/python3.8/site-packages (from jupyter-server~=1.16->jupyterlab==3.4.8) (20.1.0)\n",
      "Requirement already satisfied: terminado>=0.8.3 in /opt/conda/lib/python3.8/site-packages (from jupyter-server~=1.16->jupyterlab==3.4.8) (0.10.0)\n",
      "Collecting nbformat>=5.2.0\n",
      "  Downloading nbformat-5.6.1-py3-none-any.whl (77 kB)\n",
      "\u001b[K     |████████████████████████████████| 77 kB 2.9 MB/s eta 0:00:01\n",
      "\u001b[?25hRequirement already satisfied: idna>=2.8 in /opt/conda/lib/python3.8/site-packages (from anyio<4,>=3.1.0->jupyter-server~=1.16->jupyterlab==3.4.8) (2.10)\n",
      "Requirement already satisfied: sniffio>=1.1 in /opt/conda/lib/python3.8/site-packages (from anyio<4,>=3.1.0->jupyter-server~=1.16->jupyterlab==3.4.8) (1.2.0)\n",
      "Requirement already satisfied: python-dateutil>=2.1 in /opt/conda/lib/python3.8/site-packages (from jupyter-client>=6.1.12->jupyter-server~=1.16->jupyterlab==3.4.8) (2.8.1)\n",
      "Requirement already satisfied: babel in /opt/conda/lib/python3.8/site-packages (from jupyterlab-server~=2.10->jupyterlab==3.4.8) (2.9.1)\n",
      "Requirement already satisfied: jsonschema>=3.0.1 in /opt/conda/lib/python3.8/site-packages (from jupyterlab-server~=2.10->jupyterlab==3.4.8) (3.2.0)\n",
      "Collecting jinja2>=2.1\n",
      "  Downloading Jinja2-3.1.2-py3-none-any.whl (133 kB)\n",
      "\u001b[K     |████████████████████████████████| 133 kB 65.6 MB/s eta 0:00:01\n",
      "\u001b[?25hRequirement already satisfied: requests in /opt/conda/lib/python3.8/site-packages (from jupyterlab-server~=2.10->jupyterlab==3.4.8) (2.25.1)\n",
      "Requirement already satisfied: importlib-metadata>=3.6 in /home/jovyan/.local/lib/python3.8/site-packages (from jupyterlab-server~=2.10->jupyterlab==3.4.8) (4.8.2)\n",
      "Requirement already satisfied: json5 in /opt/conda/lib/python3.8/site-packages (from jupyterlab-server~=2.10->jupyterlab==3.4.8) (0.9.5)\n",
      "Requirement already satisfied: zipp>=0.5 in /home/jovyan/.local/lib/python3.8/site-packages (from importlib-metadata>=3.6->jupyterlab-server~=2.10->jupyterlab==3.4.8) (3.6.0)\n",
      "Requirement already satisfied: pyrsistent>=0.14.0 in /opt/conda/lib/python3.8/site-packages (from jsonschema>=3.0.1->jupyterlab-server~=2.10->jupyterlab==3.4.8) (0.17.3)\n",
      "Requirement already satisfied: setuptools in /home/jovyan/.local/lib/python3.8/site-packages (from jsonschema>=3.0.1->jupyterlab-server~=2.10->jupyterlab==3.4.8) (65.3.0)\n",
      "Requirement already satisfied: attrs>=17.4.0 in /opt/conda/lib/python3.8/site-packages (from jsonschema>=3.0.1->jupyterlab-server~=2.10->jupyterlab==3.4.8) (21.2.0)\n",
      "Requirement already satisfied: six>=1.11.0 in /opt/conda/lib/python3.8/site-packages (from jsonschema>=3.0.1->jupyterlab-server~=2.10->jupyterlab==3.4.8) (1.16.0)\n",
      "Requirement already satisfied: jupyterlab-pygments in /opt/conda/lib/python3.8/site-packages (from nbconvert>=6.4.4->jupyter-server~=1.16->jupyterlab==3.4.8) (0.1.2)\n",
      "Requirement already satisfied: pandocfilters>=1.4.1 in /opt/conda/lib/python3.8/site-packages (from nbconvert>=6.4.4->jupyter-server~=1.16->jupyterlab==3.4.8) (1.4.3)\n",
      "Collecting mistune<3,>=2.0.3\n",
      "  Downloading mistune-2.0.4-py2.py3-none-any.whl (24 kB)\n",
      "Requirement already satisfied: bleach in /opt/conda/lib/python3.8/site-packages (from nbconvert>=6.4.4->jupyter-server~=1.16->jupyterlab==3.4.8) (3.3.0)\n",
      "Requirement already satisfied: defusedxml in /opt/conda/lib/python3.8/site-packages (from nbconvert>=6.4.4->jupyter-server~=1.16->jupyterlab==3.4.8) (0.7.1)\n",
      "Collecting tinycss2\n",
      "  Downloading tinycss2-1.1.1-py3-none-any.whl (21 kB)\n",
      "Requirement already satisfied: beautifulsoup4 in /opt/conda/lib/python3.8/site-packages (from nbconvert>=6.4.4->jupyter-server~=1.16->jupyterlab==3.4.8) (4.9.3)\n",
      "Requirement already satisfied: pygments>=2.4.1 in /opt/conda/lib/python3.8/site-packages (from nbconvert>=6.4.4->jupyter-server~=1.16->jupyterlab==3.4.8) (2.9.0)\n",
      "Requirement already satisfied: nbclient>=0.5.0 in /opt/conda/lib/python3.8/site-packages (from nbconvert>=6.4.4->jupyter-server~=1.16->jupyterlab==3.4.8) (0.5.3)\n",
      "Requirement already satisfied: nest-asyncio in /opt/conda/lib/python3.8/site-packages (from nbclient>=0.5.0->nbconvert>=6.4.4->jupyter-server~=1.16->jupyterlab==3.4.8) (1.5.1)\n",
      "Requirement already satisfied: async-generator in /opt/conda/lib/python3.8/site-packages (from nbclient>=0.5.0->nbconvert>=6.4.4->jupyter-server~=1.16->jupyterlab==3.4.8) (1.10)\n",
      "Collecting fastjsonschema\n",
      "  Downloading fastjsonschema-2.16.2-py3-none-any.whl (22 kB)\n",
      "Requirement already satisfied: ipykernel in /opt/conda/lib/python3.8/site-packages (from notebook<7->jupyterlab==3.4.8) (5.5.5)\n",
      "Requirement already satisfied: ipython-genutils in /opt/conda/lib/python3.8/site-packages (from notebook<7->jupyterlab==3.4.8) (0.2.0)\n",
      "Requirement already satisfied: ptyprocess in /opt/conda/lib/python3.8/site-packages (from terminado>=0.8.3->jupyter-server~=1.16->jupyterlab==3.4.8) (0.7.0)\n",
      "Requirement already satisfied: cffi>=1.0.0 in /opt/conda/lib/python3.8/site-packages (from argon2-cffi->jupyter-server~=1.16->jupyterlab==3.4.8) (1.14.5)\n",
      "Requirement already satisfied: pycparser in /opt/conda/lib/python3.8/site-packages (from cffi>=1.0.0->argon2-cffi->jupyter-server~=1.16->jupyterlab==3.4.8) (2.20)\n",
      "Requirement already satisfied: pytz>=2015.7 in /opt/conda/lib/python3.8/site-packages (from babel->jupyterlab-server~=2.10->jupyterlab==3.4.8) (2021.1)\n",
      "Requirement already satisfied: soupsieve>1.2 in /opt/conda/lib/python3.8/site-packages (from beautifulsoup4->nbconvert>=6.4.4->jupyter-server~=1.16->jupyterlab==3.4.8) (2.2.1)\n",
      "Requirement already satisfied: webencodings in /opt/conda/lib/python3.8/site-packages (from bleach->nbconvert>=6.4.4->jupyter-server~=1.16->jupyterlab==3.4.8) (0.5.1)\n",
      "Requirement already satisfied: jedi>=0.16 in /opt/conda/lib/python3.8/site-packages (from ipython->jupyterlab==3.4.8) (0.18.0)\n",
      "Requirement already satisfied: prompt-toolkit!=3.0.0,!=3.0.1,<3.1.0,>=2.0.0 in /opt/conda/lib/python3.8/site-packages (from ipython->jupyterlab==3.4.8) (3.0.18)\n",
      "Requirement already satisfied: pexpect>4.3 in /opt/conda/lib/python3.8/site-packages (from ipython->jupyterlab==3.4.8) (4.8.0)\n",
      "Requirement already satisfied: decorator in /opt/conda/lib/python3.8/site-packages (from ipython->jupyterlab==3.4.8) (5.0.9)\n",
      "Requirement already satisfied: backcall in /opt/conda/lib/python3.8/site-packages (from ipython->jupyterlab==3.4.8) (0.2.0)\n",
      "Requirement already satisfied: matplotlib-inline in /opt/conda/lib/python3.8/site-packages (from ipython->jupyterlab==3.4.8) (0.1.2)\n",
      "Requirement already satisfied: pickleshare in /opt/conda/lib/python3.8/site-packages (from ipython->jupyterlab==3.4.8) (0.7.5)\n",
      "Requirement already satisfied: parso<0.9.0,>=0.8.0 in /opt/conda/lib/python3.8/site-packages (from jedi>=0.16->ipython->jupyterlab==3.4.8) (0.8.2)\n",
      "Requirement already satisfied: wcwidth in /opt/conda/lib/python3.8/site-packages (from prompt-toolkit!=3.0.0,!=3.0.1,<3.1.0,>=2.0.0->ipython->jupyterlab==3.4.8) (0.2.5)\n",
      "Requirement already satisfied: pyparsing>=2.0.2 in /opt/conda/lib/python3.8/site-packages (from packaging->jupyterlab==3.4.8) (2.4.7)\n",
      "Requirement already satisfied: urllib3<1.27,>=1.21.1 in /home/jovyan/.local/lib/python3.8/site-packages (from requests->jupyterlab-server~=2.10->jupyterlab==3.4.8) (1.26.12)\n",
      "Requirement already satisfied: chardet<5,>=3.0.2 in /opt/conda/lib/python3.8/site-packages (from requests->jupyterlab-server~=2.10->jupyterlab==3.4.8) (4.0.0)\n",
      "Requirement already satisfied: certifi>=2017.4.17 in /opt/conda/lib/python3.8/site-packages (from requests->jupyterlab-server~=2.10->jupyterlab==3.4.8) (2021.5.30)\n",
      "Installing collected packages: traitlets, fastjsonschema, nbformat, tinycss2, mistune, jinja2, nbconvert, jupyter-server, tomli, jupyterlab-server, jupyterlab\n",
      "\u001b[33m  WARNING: The script jupyter-trust is installed in '/home/jovyan/.local/bin' which is not on PATH.\n",
      "  Consider adding this directory to PATH or, if you prefer to suppress this warning, use --no-warn-script-location.\u001b[0m\n",
      "\u001b[33m  WARNING: The scripts jupyter-dejavu and jupyter-nbconvert are installed in '/home/jovyan/.local/bin' which is not on PATH.\n",
      "  Consider adding this directory to PATH or, if you prefer to suppress this warning, use --no-warn-script-location.\u001b[0m\n",
      "\u001b[33m  WARNING: The script jupyter-server is installed in '/home/jovyan/.local/bin' which is not on PATH.\n",
      "  Consider adding this directory to PATH or, if you prefer to suppress this warning, use --no-warn-script-location.\u001b[0m\n",
      "  Attempting uninstall: jupyterlab\n",
      "    Found existing installation: jupyterlab 3.2.8\n",
      "    Uninstalling jupyterlab-3.2.8:\n",
      "      Successfully uninstalled jupyterlab-3.2.8\n",
      "\u001b[33m  WARNING: The scripts jlpm, jupyter-lab, jupyter-labextension and jupyter-labhub are installed in '/home/jovyan/.local/bin' which is not on PATH.\n",
      "  Consider adding this directory to PATH or, if you prefer to suppress this warning, use --no-warn-script-location.\u001b[0m\n",
      "Successfully installed fastjsonschema-2.16.2 jinja2-3.1.2 jupyter-server-1.19.1 jupyterlab-3.4.8 jupyterlab-server-2.15.2 mistune-2.0.4 nbconvert-7.2.1 nbformat-5.6.1 tinycss2-1.1.1 tomli-2.0.1 traitlets-5.4.0\n"
     ]
    }
   ],
   "source": [
    "# upgrade jupyter lab\n",
    "# !{sys.executable} -m pip install --upgrade --user jupyterlab==3.2.8\n",
    "!{sys.executable} -m pip install --upgrade --user jupyterlab==3.4.8"
   ]
  },
  {
   "cell_type": "markdown",
   "id": "7d40132c-4e12-471e-82e7-bb7703a0d762",
   "metadata": {},
   "source": [
    "## Restart this notebook server\n",
    "* Stop kernel\n",
    "* close Notebook\n",
    "* close JupyterLab Tab\n",
    "* Stop the JupyterLab Server in KubeFlow Notebook\n",
    "* Start the JupyterLab Server in KubeFlow Notebook"
   ]
  },
  {
   "cell_type": "code",
   "execution_count": null,
   "id": "8497db31-0728-4ace-8e11-b151e63470e6",
   "metadata": {},
   "outputs": [],
   "source": [
    "# Know you shall see the Jupyter Lab is updated\n",
    "!{sys.executable} -m pip show jupyterlab # 3.0.16"
   ]
  },
  {
   "cell_type": "markdown",
   "id": "7c687d75-4f36-4c90-8af2-ec5780f16e9a",
   "metadata": {},
   "source": [
    "# Install packages in Jupter notebook\n",
    "\n",
    "https://jakevdp.github.io/blog/2017/12/05/installing-python-packages-from-jupyter/"
   ]
  },
  {
   "cell_type": "code",
   "execution_count": null,
   "id": "7361c65b-eca6-4422-8557-3385472f7830",
   "metadata": {},
   "outputs": [],
   "source": [
    "# Install a pip package in the current Jupyter Kernel\n",
    "# import sys\n",
    "!{sys.executable} -m pip install --user numpy tensorflow panda"
   ]
  },
  {
   "cell_type": "markdown",
   "id": "d0363e64-dc78-47df-a120-4300afaa6e30",
   "metadata": {},
   "source": [
    "# Running TensorFlow code"
   ]
  },
  {
   "cell_type": "code",
   "execution_count": null,
   "id": "93747137-8822-4425-8771-89641bc109a5",
   "metadata": {},
   "outputs": [],
   "source": [
    "import tensorflow as tf\n",
    "print(\"TensorFlow version:\", tf.__version__)"
   ]
  },
  {
   "cell_type": "code",
   "execution_count": null,
   "id": "d64eff80-a4bf-4edf-9b0d-2576f87e947f",
   "metadata": {},
   "outputs": [],
   "source": [
    "\n"
   ]
  }
 ],
 "metadata": {
  "kernelspec": {
   "display_name": "Python 3",
   "language": "python",
   "name": "python3"
  },
  "language_info": {
   "codemirror_mode": {
    "name": "ipython",
    "version": 3
   },
   "file_extension": ".py",
   "mimetype": "text/x-python",
   "name": "python",
   "nbconvert_exporter": "python",
   "pygments_lexer": "ipython3",
   "version": "3.8.10"
  }
 },
 "nbformat": 4,
 "nbformat_minor": 5
}
