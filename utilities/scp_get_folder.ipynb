{
 "cells": [
  {
   "cell_type": "markdown",
   "id": "74527523-7a8e-4f9a-b42b-a36ddad4b02c",
   "metadata": {},
   "source": [
    "## About this notebook\n",
    "@author: Yingding Wang\n",
    "\n",
    "This notebook shows the approach to use scp client in a Jupyter Notebook to copy data folder from an remote server.\n"
   ]
  },
  {
   "cell_type": "code",
   "execution_count": null,
   "id": "686d0158-f2f5-41d0-b242-aa1053591ada",
   "metadata": {},
   "outputs": [],
   "source": [
    "import sys\n",
    "!{sys.executable} -m pip install paramiko scp python-dotenv"
   ]
  },
  {
   "cell_type": "markdown",
   "id": "1fae8435-fc95-4e26-85b2-7b6b258734e7",
   "metadata": {},
   "source": [
    "## (optional) create an .env file \n",
    "\n",
    "Uncomment the following cell to create an .env file, change the user and password for your ssh connection before running the cell"
   ]
  },
  {
   "cell_type": "code",
   "execution_count": 26,
   "id": "13f5021e-3e81-41e5-b52d-63534810259b",
   "metadata": {},
   "outputs": [
    {
     "name": "stdout",
     "output_type": "stream",
     "text": [
      "Overwriting .env\n"
     ]
    }
   ],
   "source": [
    "#%%writefile .env\n",
    "## environment variables for ssh\n",
    "#SSH_HOST=\"remote_host_name\"\n",
    "#SSH_USER=\"user_name\"\n",
    "#SSH_PW=\"pass_word\""
   ]
  },
  {
   "cell_type": "code",
   "execution_count": 2,
   "id": "b3c89e2d-334a-4c72-b9e8-66cc9336b8c8",
   "metadata": {},
   "outputs": [
    {
     "data": {
      "text/plain": [
       "True"
      ]
     },
     "execution_count": 2,
     "metadata": {},
     "output_type": "execute_result"
    }
   ],
   "source": [
    "from paramiko import SSHClient, AutoAddPolicy\n",
    "from scp import SCPClient\n",
    "from dotenv import load_dotenv\n",
    "import os\n",
    "\n",
    "load_dotenv()"
   ]
  },
  {
   "cell_type": "code",
   "execution_count": 4,
   "id": "06634cf7-61bf-46fe-8a9b-5d4448f55310",
   "metadata": {},
   "outputs": [],
   "source": [
    "# debug .env file with\n",
    "#print(os.environ[\"SSH_HOST\"])\n",
    "#print(os.environ[\"SSH_USER\"])\n",
    "#print(os.environ[\"SSH_PW\"])"
   ]
  },
  {
   "cell_type": "markdown",
   "id": "faea90a8-e020-4ba6-9604-328377927068",
   "metadata": {},
   "source": [
    "### Add HostKey without varification in a private network\n",
    "* issue with unkown host key: https://stackoverflow.com/questions/53635843/paramiko-ssh-failing-with-server-not-found-in-known-hosts-when-run-on-we/53645945#53645945\n",
    "* Example of copy file recursive: https://stackoverflow.com/questions/52954532/how-to-copy-a-complete-directory-recursively-to-a-remote-server-in-python-param\n",
    "* Example of file copy: https://pypi.org/project/scp/\n",
    "* SCP get code: https://github.com/jbardin/scp.py/blob/master/scp.py#L148"
   ]
  },
  {
   "cell_type": "code",
   "execution_count": 5,
   "id": "cfc04fcf-55e4-46ea-818b-85fc55a383f4",
   "metadata": {},
   "outputs": [],
   "source": [
    "# data folder on an remote scp host\n",
    "SOURCE_DIR=\"/home/bioinformatic/data\"\n",
    "# save the source_dir directory to the target_dir (local parent directory)\n",
    "TARGET_DIR=\"/home/jovyan\"\n",
    "\n",
    "with SSHClient() as ssh:\n",
    "    ssh.set_missing_host_key_policy(AutoAddPolicy())\n",
    "    ssh.connect(os.environ[\"SSH_HOST\"], port=22, username=os.environ[\"SSH_USER\"], password=os.environ[\"SSH_PW\"])\n",
    "    \n",
    "    with SCPClient(ssh.get_transport()) as scp:\n",
    "        scp.get(SOURCE_DIR, local_path=TARGET_DIR, recursive=True, preserve_times=True)"
   ]
  },
  {
   "cell_type": "code",
   "execution_count": null,
   "id": "0b535d3e-1cca-428d-9690-30609b76ee1b",
   "metadata": {},
   "outputs": [],
   "source": []
  }
 ],
 "metadata": {
  "kernelspec": {
   "display_name": "Python 3",
   "language": "python",
   "name": "python3"
  },
  "language_info": {
   "codemirror_mode": {
    "name": "ipython",
    "version": 3
   },
   "file_extension": ".py",
   "mimetype": "text/x-python",
   "name": "python",
   "nbconvert_exporter": "python",
   "pygments_lexer": "ipython3",
   "version": "3.8.10"
  }
 },
 "nbformat": 4,
 "nbformat_minor": 5
}
