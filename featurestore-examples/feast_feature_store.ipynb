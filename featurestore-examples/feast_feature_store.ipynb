{
 "cells": [
  {
   "cell_type": "markdown",
   "id": "de4b8e6a-19dc-4e67-99aa-3cf90e4a29b2",
   "metadata": {},
   "source": [
    "## About this notebook\n",
    "@author: Yingding Wang\n",
    "\n",
    "This notebook shows the approach to save and load a feaure data set with google feast connected to an online postgres db.\n",
    "* feast: https://feast.dev/\n",
    "* feast-postgres: https://github.com/nossrannug/feast-postgres\n",
    "* postgres on dockerhub: https://hub.docker.com/_/postgres\n"
   ]
  },
  {
   "cell_type": "code",
   "execution_count": null,
   "id": "738cfdde-02ad-43d9-b8d1-97aca8c219eb",
   "metadata": {},
   "outputs": [],
   "source": [
    "# %%capture \n",
    "# discard the pip output\n",
    "\n",
    "import sys, os\n",
    "!{sys.executable} -m pip install feast feast-postgres python-dotenv pandas"
   ]
  },
  {
   "cell_type": "markdown",
   "id": "d8afab2f-f676-4635-8e16-4cbf0b52f728",
   "metadata": {},
   "source": [
    "## (optional) create an .env file \n",
    "\n",
    "Uncomment the following cell to create an .env file, change the param values to meet your settings before running the cell\n",
    "\n",
    "Note:\n",
    "Uncomment the block comment and the `%%writefile .env` should be the first in the line."
   ]
  },
  {
   "cell_type": "code",
   "execution_count": null,
   "id": "35d16f93-0442-4ff0-a253-2626d4c60958",
   "metadata": {},
   "outputs": [],
   "source": [
    "'''\n",
    "%%writefile .env\n",
    "# environment variables for online feature_store\n",
    "ON_FS_HOST=\"POSTGRES_HOST_NAME\"\n",
    "ON_FS_DB=\"featurestore\"\n",
    "ON_FS_PORT=\"5432\"\n",
    "ON_FS_USER=\"postgres_name\"\n",
    "ON_FS_PW=\"postgres_pw\"\n",
    "'''"
   ]
  },
  {
   "cell_type": "code",
   "execution_count": null,
   "id": "f03ab472-657a-4c64-8d8f-0b5642d65f93",
   "metadata": {},
   "outputs": [],
   "source": [
    "from dotenv import load_dotenv\n",
    "# load all values paar from ./.env into environment variables\n",
    "load_dotenv()\n",
    "\n",
    "'''\n",
    "print(f\"\\\n",
    "{os.environ['ON_FS_HOST']}\\n\\\n",
    "{os.environ['ON_FS_DB']}\\n\\\n",
    "{os.environ['ON_FS_PORT']}\\n\\\n",
    "{os.environ['ON_FS_USER']}\\n\\\n",
    "{os.environ['ON_FS_PW']}\\n\\\n",
    "\")\n",
    "'''"
   ]
  },
  {
   "cell_type": "markdown",
   "id": "82124fb8-a236-4054-af75-beb28786bdbb",
   "metadata": {},
   "source": [
    "## Init a feature store local repo"
   ]
  },
  {
   "cell_type": "code",
   "execution_count": null,
   "id": "767bd054-71e1-4a47-89dd-ca78e30efeef",
   "metadata": {},
   "outputs": [],
   "source": [
    "feature_repo=\"/home/jovyan/feature_repo\"\n",
    "config_file=f\"{feature_repo}/feature_store.yaml\"\n",
    "# print(f\"{config_file}\")"
   ]
  },
  {
   "cell_type": "code",
   "execution_count": null,
   "id": "d637526e-adbe-48b3-ade0-6cfb073b45db",
   "metadata": {},
   "outputs": [],
   "source": [
    "# init local repo\n",
    "!feast init $feature_repo"
   ]
  },
  {
   "cell_type": "markdown",
   "id": "a70d9345-d4b5-40a1-8734-9e9e6c606943",
   "metadata": {},
   "source": [
    "## Update the feature store configuration file\n",
    "* create custom \"%%writetemplate\" magic command: https://stackoverflow.com/questions/26385041/is-it-possible-to-write-the-value-of-a-variable-in-a-writefile-magic-command-i/63784887#63784887\n",
    "* use filename variable in \"%%writefile\" magic command: https://github.com/ipython/ipython/issues/6701#issue-45873574"
   ]
  },
  {
   "cell_type": "code",
   "execution_count": null,
   "id": "ffc493c1-1aad-4327-82ae-23636dace072",
   "metadata": {},
   "outputs": [],
   "source": [
    "# import feast_postgres"
   ]
  },
  {
   "cell_type": "code",
   "execution_count": null,
   "id": "2da94bca-b99f-486d-a152-c90c9254e92d",
   "metadata": {},
   "outputs": [],
   "source": [
    "from IPython.core.magic import register_line_cell_magic\n",
    "\n",
    "# create a custom template magic command %%writetemplate\n",
    "# https://github.com/ipython/ipython/issues/6701#issuecomment-382640776\n",
    "@register_line_cell_magic\n",
    "def writetemplate(line, cell):\n",
    "    with open(line, 'w') as f:\n",
    "        f.write(cell.format(**globals()))\n",
    "        \n",
    "        \n",
    "# all need to assign global variables from environment variables\n",
    "ON_FS_HOST=os.environ['ON_FS_HOST']\n",
    "ON_FS_PORT=os.environ['ON_FS_PORT']\n",
    "ON_FS_DB=os.environ['ON_FS_DB']\n",
    "ON_FS_USER=os.environ['ON_FS_USER']\n",
    "ON_FS_PW=os.environ['ON_FS_PW']"
   ]
  },
  {
   "cell_type": "code",
   "execution_count": null,
   "id": "454b61f6-2a08-44a2-8434-eb0c539bd3fd",
   "metadata": {},
   "outputs": [],
   "source": [
    "%%writetemplate $config_file\n",
    "project: feature_repo\n",
    "registry: data/registry.db\n",
    "provider: local\n",
    "online_store:\n",
    "    type: feast_postgres.PostgreSQLOnlineStore # MUST be this value\n",
    "    host: {ON_FS_HOST}\n",
    "    port: {ON_FS_PORT}   # Optional, default is 5432\n",
    "    database: {ON_FS_DB} # postgres is the default postgres db\n",
    "    db_schema: feature_store      # Optional, default is None      \n",
    "    user: {ON_FS_USER}\n",
    "    password: {ON_FS_PW}    "
   ]
  },
  {
   "cell_type": "markdown",
   "id": "3a4e3de3-344e-41be-b558-5b3359b48726",
   "metadata": {},
   "source": [
    "Examples of change the working directory in Jupyter Notebook, which is not needed in this example:\n",
    "\n",
    "* get current work directory: `CUR_DIR=os.getcwd()`\n",
    "* Default work directory: `WORK_DIR=\"/home/jovyan/\"`\n",
    "* change the current work directory: `os.chdir(feature_repo)`"
   ]
  },
  {
   "cell_type": "code",
   "execution_count": null,
   "id": "5af5a182-d59d-457e-98ad-c00555b5bac2",
   "metadata": {},
   "outputs": [],
   "source": [
    "# apply the features, and the notebook cell work directory remain unchanged\n",
    "!cd $feature_repo && feast apply"
   ]
  },
  {
   "cell_type": "markdown",
   "id": "16e71832-f58d-4024-bc11-b51d5a6c3aa9",
   "metadata": {},
   "source": [
    "## deploy feature to online feature store\n",
    "\n",
    "https://www.mikulskibartosz.name/adding-datasets-to-feast-feature-store/"
   ]
  },
  {
   "cell_type": "code",
   "execution_count": null,
   "id": "c56ad03f-fc81-4f4c-9170-988eddefbac1",
   "metadata": {},
   "outputs": [],
   "source": [
    "proteome_olink_data_path=\"/home/jovyan/data/Proteome_Olink_data.csv\""
   ]
  },
  {
   "cell_type": "code",
   "execution_count": null,
   "id": "ab2cce4e-8e85-4e17-8352-63f9095ebb7f",
   "metadata": {},
   "outputs": [],
   "source": [
    "import pandas\n",
    "from datetime import datetime, timezone\n",
    "df = pandas.read_csv(proteome_olink_data_path)\n",
    "# df.reset_index(level=0, inplace=True) # turn  the index into a columne\n",
    "\n",
    "# datetime(year, month, day, hour, min, sec).timestamp() returns utc timestamp in secs as float, cast it to int()\n",
    "# ts = datetime(2021, 11, 22, 20, 0, 0).replace(tzinfo=timezone.utc).timestamp()\n",
    "# ts_rounded = int(ts)\n",
    "\n",
    "# must be a datetime and can not be int timestamp\n",
    "df['observation_dt'] = datetime(2021, 11, 22, 20, 30, 0).replace(tzinfo=timezone.utc)\n",
    "df.head(5)"
   ]
  },
  {
   "cell_type": "code",
   "execution_count": null,
   "id": "ae8732f4-1b1a-408b-b9b2-9c668dcc0333",
   "metadata": {
    "jupyter": {
     "source_hidden": true
    },
    "tags": []
   },
   "outputs": [],
   "source": [
    "df.describe()"
   ]
  },
  {
   "cell_type": "code",
   "execution_count": null,
   "id": "20a145ba-50b2-4828-8234-4e678cc3040c",
   "metadata": {},
   "outputs": [],
   "source": [
    "# save the dataframe to local parquet file\n",
    "df.to_parquet(\"/home/jovyan/feature_repo/data/proteome_olink.parquet\")"
   ]
  },
  {
   "cell_type": "markdown",
   "id": "e7eb66ef-798e-4b64-839f-8bead096531c",
   "metadata": {},
   "source": [
    "## Define new features in Feast repository\n",
    "\n",
    "The code flow does three things:\n",
    "\n",
    "* It defines the feature source location. In this case, a path to the local file system. Note that the FileSource also requires the column containing the event timestamp.\n",
    "* The Entity object describes which column contains the entity identifier. In our example, the value is useless and has no business meaning, but we still need it.\n",
    "* Finally, we define the FeatureView, which combines the available column names (and types) with the entity identifier and the data location. We have only historical data in our example, so I set the online parameter to False.\n",
    "\n",
    "Note:\\\n",
    "Since Feast 0.11, we can skip the features parameter in FeatureView, and the library will infer the column names and types from the data."
   ]
  },
  {
   "cell_type": "code",
   "execution_count": null,
   "id": "f3a6b86a-b0af-4c45-9871-46bfafed11ac",
   "metadata": {},
   "outputs": [],
   "source": [
    "%%writefile $feature_repo/proteome_olink.py\n",
    "# this file defines the proteome_oline_data.csv\n",
    "from datetime import timedelta\n",
    "from google.protobuf.duration_pb2 import Duration\n",
    "from feast import Entity, Feature, FeatureView, ValueType, FileSource\n",
    "#from feast.data_source import FileSource\n",
    "\n",
    "proteome_olink_observations = FileSource(\n",
    "    path=\"/home/jovyan/feature_repo/data/proteome_olink.parquet\",\n",
    "    event_timestamp_column=\"observation_dt\",\n",
    ")\n",
    "\n",
    "proteome_olink = Entity(name=\"OlinkID\", value_type=ValueType.STRING, description=\"olink identifier\",)\n",
    "\n",
    "proteome_olink_observations_view = FeatureView(\n",
    "    name=\"proteome_olink_observations\",\n",
    "    entities=[\"OlinkID\"],\n",
    "    ttl=timedelta(days=-1),\n",
    "#    features=[\n",
    "#        Feature(name=\"UniPort\", dtype=ValueType.STRING),\n",
    "#        Feature(name=\"sepal_width\", dtype=ValueType.FLOAT),\n",
    "#        Feature(name=\"petal_length\", dtype=ValueType.INT64),\n",
    "#        Feature(name=\"petal_width\", dtype=ValueType.INT64),\n",
    "#        Feature(name=\"species\", dtype=ValueType.STRING),\n",
    "#    ],\n",
    "    online=True,\n",
    "#    input=proteome_olink_observations,\n",
    "    batch_source=proteome_olink_observations,\n",
    "    tags={},\n",
    ")"
   ]
  },
  {
   "cell_type": "code",
   "execution_count": null,
   "id": "14fd92f8-bb8f-464b-8048-e04a62d473cc",
   "metadata": {},
   "outputs": [],
   "source": [
    "# reload feature repository\n",
    "!cd $feature_repo && feast apply"
   ]
  },
  {
   "cell_type": "code",
   "execution_count": null,
   "id": "64a00caf-9b3e-4943-9aff-86e55ad69a8e",
   "metadata": {},
   "outputs": [],
   "source": [
    "!cd $feature_repo && feast version"
   ]
  },
  {
   "cell_type": "markdown",
   "id": "e2fed4b1-4d16-4a30-be43-9f33cd915e89",
   "metadata": {},
   "source": [
    "## Populate data to online store\n",
    "https://aws.amazon.com/blogs/opensource/getting-started-with-feast-an-open-source-feature-store-running-on-aws-managed-services/"
   ]
  },
  {
   "cell_type": "code",
   "execution_count": null,
   "id": "d2c84232-e426-4241-b3ab-9c88410835d9",
   "metadata": {},
   "outputs": [],
   "source": [
    "# populate feature value to online store, incremental\n",
    "!cd feature_repo && feast materialize-incremental $(date -u +\"%Y-%m-%dT%H:%M:%S\")"
   ]
  },
  {
   "cell_type": "markdown",
   "id": "1c0dc607-75e5-4f01-bc5f-26195f23ca50",
   "metadata": {},
   "source": [
    "## Advanced feature store with TTL\n",
    "\n",
    "**What does TTL mean?**\\\n",
    "In the example below, we retrieve the value from the feature store. We must specify the event_timestamp. The ttl describes the maximal time difference between the actual event timestamp and the timestamp we want to get. Of course, it is a difference “in the past.” We can never retrieve events “in the future.”"
   ]
  },
  {
   "cell_type": "code",
   "execution_count": null,
   "id": "b88c3a31-74ff-46e5-b01d-e22ec7c54f24",
   "metadata": {},
   "outputs": [],
   "source": []
  }
 ],
 "metadata": {
  "kernelspec": {
   "display_name": "Python 3",
   "language": "python",
   "name": "python3"
  },
  "language_info": {
   "codemirror_mode": {
    "name": "ipython",
    "version": 3
   },
   "file_extension": ".py",
   "mimetype": "text/x-python",
   "name": "python",
   "nbconvert_exporter": "python",
   "pygments_lexer": "ipython3",
   "version": "3.8.10"
  }
 },
 "nbformat": 4,
 "nbformat_minor": 5
}
