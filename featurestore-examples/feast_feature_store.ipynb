{
 "cells": [
  {
   "cell_type": "markdown",
   "id": "de4b8e6a-19dc-4e67-99aa-3cf90e4a29b2",
   "metadata": {},
   "source": [
    "## About this notebook\n",
    "@author: Yingding Wang\n",
    "\n",
    "This notebook shows the approach to save and load a feaure data set with google feast connected to an online postgres db.\n",
    "* feast: https://feast.dev/\n",
    "* feast-postgres: https://github.com/nossrannug/feast-postgres\n",
    "* postgres on dockerhub: https://hub.docker.com/_/postgres\n"
   ]
  },
  {
   "cell_type": "code",
   "execution_count": 1,
   "id": "82ccacbf-4eb0-4bc9-a571-cf1b7ddbaa84",
   "metadata": {},
   "outputs": [],
   "source": [
    "import sys, os"
   ]
  },
  {
   "cell_type": "code",
   "execution_count": null,
   "id": "738cfdde-02ad-43d9-b8d1-97aca8c219eb",
   "metadata": {},
   "outputs": [],
   "source": [
    "# %%capture \n",
    "# discard the pip output\n",
    "\n",
    "# Fixed feast and feast-postgres version, since this works and feel free to change it for the future release\n",
    "!{sys.executable} -m pip install feast==0.17.0 feast-postgres==0.2.4 python-dotenv pandas"
   ]
  },
  {
   "cell_type": "markdown",
   "id": "d8afab2f-f676-4635-8e16-4cbf0b52f728",
   "metadata": {},
   "source": [
    "## (optional) create an .env file \n",
    "\n",
    "Uncomment the following cell to create an .env file, change the param values to meet your settings before running the cell\n",
    "\n",
    "Note:\n",
    "Uncomment the block comment and the `%%writefile .env` should be the first in the line."
   ]
  },
  {
   "cell_type": "code",
   "execution_count": null,
   "id": "35d16f93-0442-4ff0-a253-2626d4c60958",
   "metadata": {},
   "outputs": [],
   "source": [
    "'''\n",
    "%%writefile .env\n",
    "# environment variables for online feature_store\n",
    "ON_FS_HOST=\"POSTGRES_HOST_NAME\"\n",
    "ON_FS_DB=\"featurestore\"\n",
    "ON_FS_PORT=\"5432\"\n",
    "ON_FS_USER=\"postgres_name\"\n",
    "ON_FS_PW=\"postgres_pw\"\n",
    "'''"
   ]
  },
  {
   "cell_type": "code",
   "execution_count": null,
   "id": "f03ab472-657a-4c64-8d8f-0b5642d65f93",
   "metadata": {},
   "outputs": [],
   "source": [
    "from dotenv import load_dotenv\n",
    "# load all values paar from ./.env into environment variables\n",
    "load_dotenv(override=True)\n",
    "\n",
    "'''\n",
    "print(f\"\\\n",
    "{os.environ['ON_FS_HOST']}\\n\\\n",
    "{os.environ['ON_FS_DB']}\\n\\\n",
    "{os.environ['ON_FS_PORT']}\\n\\\n",
    "{os.environ['ON_FS_USER']}\\n\\\n",
    "{os.environ['ON_FS_PW']}\\n\\\n",
    "\")\n",
    "'''"
   ]
  },
  {
   "cell_type": "markdown",
   "id": "82124fb8-a236-4054-af75-beb28786bdbb",
   "metadata": {},
   "source": [
    "## Init a feature store local repo"
   ]
  },
  {
   "cell_type": "code",
   "execution_count": 4,
   "id": "767bd054-71e1-4a47-89dd-ca78e30efeef",
   "metadata": {},
   "outputs": [
    {
     "name": "stdout",
     "output_type": "stream",
     "text": [
      "/home/jovyan/fsrepo\n"
     ]
    }
   ],
   "source": [
    "home_dir=\"/home/jovyan\"\n",
    "feature_repo_name=\"fsrepo\"\n",
    "feature_repo_path=f\"{home_dir}/{feature_repo_name}\"\n",
    "print(f\"{feature_repo_path}\")\n",
    "\n",
    "config_file=f\"{feature_repo_path}/feature_store.yaml\"\n",
    "# print(f\"{config_file}\")"
   ]
  },
  {
   "cell_type": "code",
   "execution_count": 5,
   "id": "d637526e-adbe-48b3-ade0-6cfb073b45db",
   "metadata": {},
   "outputs": [
    {
     "name": "stdout",
     "output_type": "stream",
     "text": [
      "\n",
      "Creating a new Feast repository in \u001b[1m\u001b[32m/home/jovyan/fsrepo\u001b[0m.\n",
      "\n"
     ]
    }
   ],
   "source": [
    "# use bash cd to change the directory, since feast -c doesn't work in version 0.15.1\n",
    "if os.path.exists(feature_repo_path) and os.path.isdir(feature_repo_path):\n",
    "    print(f\"feast repository already exists: {feature_repo_path}\")\n",
    "else:\n",
    "    !cd $home_dir && feast init $feature_repo_name\n",
    "\n",
    "# print(f\"{os.getcwd()}\")"
   ]
  },
  {
   "cell_type": "markdown",
   "id": "a70d9345-d4b5-40a1-8734-9e9e6c606943",
   "metadata": {},
   "source": [
    "## Update the feature store configuration file\n",
    "* create custom \"%%writetemplate\" magic command: https://stackoverflow.com/questions/26385041/is-it-possible-to-write-the-value-of-a-variable-in-a-writefile-magic-command-i/63784887#63784887\n",
    "* use filename variable in \"%%writefile\" magic command: https://github.com/ipython/ipython/issues/6701#issue-45873574"
   ]
  },
  {
   "cell_type": "code",
   "execution_count": 6,
   "id": "2da94bca-b99f-486d-a152-c90c9254e92d",
   "metadata": {},
   "outputs": [],
   "source": [
    "from IPython.core.magic import register_line_cell_magic\n",
    "\n",
    "# create a custom template magic command %%writetemplate\n",
    "# https://github.com/ipython/ipython/issues/6701#issuecomment-382640776\n",
    "@register_line_cell_magic\n",
    "def writetemplate(line, cell):\n",
    "    with open(line, 'w') as f:\n",
    "        f.write(cell.format(**globals()))\n",
    "        \n",
    "        \n",
    "# all need to assign global variables from environment variables\n",
    "ON_FS_HOST=os.environ['ON_FS_HOST']\n",
    "ON_FS_PORT=os.environ['ON_FS_PORT']\n",
    "ON_FS_DB=os.environ['ON_FS_DB']\n",
    "ON_FS_USER=os.environ['ON_FS_USER']\n",
    "ON_FS_PW=os.environ['ON_FS_PW']"
   ]
  },
  {
   "cell_type": "code",
   "execution_count": 7,
   "id": "454b61f6-2a08-44a2-8434-eb0c539bd3fd",
   "metadata": {},
   "outputs": [],
   "source": [
    "%%writetemplate $config_file\n",
    "project: feature_repo\n",
    "registry: data/registry.db\n",
    "provider: local\n",
    "online_store:\n",
    "    type: feast_postgres.PostgreSQLOnlineStore # MUST be this value\n",
    "    host: {ON_FS_HOST}\n",
    "    port: {ON_FS_PORT}       # Optional, default is 5432\n",
    "    database: {ON_FS_DB}     # postgres is the default postgres db\n",
    "    db_schema: feature_store # Optional, default is None, feature_store schema will be created and please enable the view of this new schema in your DB GUI Tools       \n",
    "    user: {ON_FS_USER}\n",
    "    password: {ON_FS_PW}\n",
    "\n",
    "#registry:\n",
    "#    registry_store_type: feast_postgres.PostgreSQLRegistryStore\n",
    "#    path: feast_registry    # This will become the table name for the registry\n",
    "#    host: {ON_FS_HOST}\n",
    "#    port: {ON_FS_PORT}      # Optional, default is 5432\n",
    "#    database: {ON_FS_DB}\n",
    "#    db_schema: registry_feature_store\n",
    "#    user: {ON_FS_USER}\n",
    "#    password: {ON_FS_PW} "
   ]
  },
  {
   "cell_type": "markdown",
   "id": "3a4e3de3-344e-41be-b558-5b3359b48726",
   "metadata": {},
   "source": [
    "Examples of change the working directory in Jupyter Notebook, which is not needed in this example:\n",
    "\n",
    "* get current work directory: `CUR_DIR=os.getcwd()`\n",
    "* Default work directory: `WORK_DIR=\"/home/jovyan/\"`\n",
    "* change the current work directory: `os.chdir(feature_repo)`"
   ]
  },
  {
   "cell_type": "code",
   "execution_count": 8,
   "id": "5af5a182-d59d-457e-98ad-c00555b5bac2",
   "metadata": {},
   "outputs": [
    {
     "name": "stdout",
     "output_type": "stream",
     "text": [
      "Created entity \u001b[1m\u001b[32mdriver_id\u001b[0m\n",
      "Created feature view \u001b[1m\u001b[32mdriver_hourly_stats\u001b[0m\n"
     ]
    }
   ],
   "source": [
    "# apply the features, and the notebook cell work directory remain unchanged\n",
    "!cd $feature_repo_path && feast apply"
   ]
  },
  {
   "cell_type": "code",
   "execution_count": 9,
   "id": "e324a2f1-4090-43f4-94bd-e081a9ce3c1b",
   "metadata": {},
   "outputs": [
    {
     "name": "stdout",
     "output_type": "stream",
     "text": [
      "Materializing \u001b[1m\u001b[32m1\u001b[0m feature views to \u001b[1m\u001b[32m2022-01-11 11:58:56+00:00\u001b[0m into the \u001b[1m\u001b[32mfeast_postgres.PostgreSQLOnlineStore\u001b[0m online store.\n",
      "\n",
      "\u001b[1m\u001b[32mdriver_hourly_stats\u001b[0m from \u001b[1m\u001b[32m2022-01-10 11:58:56+00:00\u001b[0m to \u001b[1m\u001b[32m2022-01-11 11:58:56+00:00\u001b[0m:\n",
      "15it [00:00, 848.45it/s]                                                                            \n"
     ]
    }
   ],
   "source": [
    "!cd $feature_repo_path && feast materialize-incremental $(date -u +\"%Y-%m-%dT%H:%M:%S\")"
   ]
  },
  {
   "cell_type": "markdown",
   "id": "16e71832-f58d-4024-bc11-b51d5a6c3aa9",
   "metadata": {},
   "source": [
    "## deploy feature to online feature store\n",
    "\n",
    "https://www.mikulskibartosz.name/adding-datasets-to-feast-feature-store/"
   ]
  },
  {
   "cell_type": "code",
   "execution_count": 10,
   "id": "c56ad03f-fc81-4f4c-9170-988eddefbac1",
   "metadata": {},
   "outputs": [],
   "source": [
    "proteome_olink_data_path=\"/home/jovyan/data/Proteome_Olink_data.csv\""
   ]
  },
  {
   "cell_type": "code",
   "execution_count": null,
   "id": "ab2cce4e-8e85-4e17-8352-63f9095ebb7f",
   "metadata": {},
   "outputs": [],
   "source": [
    "import pandas\n",
    "from datetime import datetime, timezone\n",
    "df = pandas.read_csv(proteome_olink_data_path)\n",
    "# df.reset_index(level=0, inplace=True) # turn  the index into a columne\n",
    "\n",
    "# datetime(year, month, day, hour, min, sec).timestamp() returns utc timestamp in secs as float, cast it to int()\n",
    "# ts = datetime(2021, 11, 22, 20, 0, 0).replace(tzinfo=timezone.utc).timestamp()\n",
    "# ts_rounded = int(ts)\n",
    "\n",
    "# must be a datetime and can not be int timestamp\n",
    "df['observation_dt'] = datetime(2021, 11, 22, 20, 30, 0).replace(tzinfo=timezone.utc)\n",
    "df.head(1000)"
   ]
  },
  {
   "cell_type": "code",
   "execution_count": null,
   "id": "ae8732f4-1b1a-408b-b9b2-9c668dcc0333",
   "metadata": {
    "jupyter": {
     "source_hidden": true
    },
    "tags": []
   },
   "outputs": [],
   "source": [
    "df.describe()"
   ]
  },
  {
   "cell_type": "code",
   "execution_count": 12,
   "id": "20a145ba-50b2-4828-8234-4e678cc3040c",
   "metadata": {},
   "outputs": [
    {
     "name": "stdout",
     "output_type": "stream",
     "text": [
      "/home/jovyan/fsrepo\n"
     ]
    }
   ],
   "source": [
    "# save the dataframe to local parquet file\n",
    "print(f\"{feature_repo_path}\")\n",
    "df.to_parquet(f\"{feature_repo_path}/data/proteome_olink.parquet\")"
   ]
  },
  {
   "cell_type": "markdown",
   "id": "e7eb66ef-798e-4b64-839f-8bead096531c",
   "metadata": {},
   "source": [
    "## Define new features in Feast repository\n",
    "\n",
    "The code flow does three things:\n",
    "\n",
    "* It defines the feature source location. In this case, a path to the local file system. Note that the FileSource also requires the column containing the event timestamp.\n",
    "* The Entity object describes which column contains the entity identifier. In our example, the value is useless and has no business meaning, but we still need it.\n",
    "* Finally, we define the FeatureView, which combines the available column names (and types) with the entity identifier and the data location. We have only historical data in our example, so I set the online parameter to False.\n",
    "\n",
    "Note:\\\n",
    "Since Feast 0.11, we can skip the features parameter in FeatureView, and the library will infer the column names and types from the data.\n",
    "\n",
    "Reference:\n",
    "* Feature View feast 0.17: https://docs.feast.dev/getting-started/concepts/feature-view"
   ]
  },
  {
   "cell_type": "code",
   "execution_count": null,
   "id": "f3a6b86a-b0af-4c45-9871-46bfafed11ac",
   "metadata": {},
   "outputs": [],
   "source": [
    "%%writefile $feature_repo_path/proteome_sample.py\n",
    "# this file defines the proteome_oline_data.csv\n",
    "from datetime import timedelta\n",
    "from google.protobuf.duration_pb2 import Duration\n",
    "from feast import Entity, Feature, FeatureView, ValueType, FileSource\n",
    "#from feast.data_source import FileSource\n",
    "\n",
    "proteome_sample_observations = FileSource(\n",
    "    # NOTICE: need to change this path to fit the feast repository print(f\"{feature_repo_path}\") \n",
    "    path=\"/home/jovyan/fsrepo/data/proteome_olink.parquet\",\n",
    "    event_timestamp_column=\"observation_dt\",\n",
    ")\n",
    "\n",
    "proteome_sample = Entity(name=\"SampleID\", value_type=ValueType.STRING, description=\"Sample Identifier\",)\n",
    "\n",
    "proteome_sample_observations_view = FeatureView(\n",
    "    name=\"proteome_sample_observations\",\n",
    "    entities=[\"SampleID\"],\n",
    "    ttl=timedelta(days=-1),\n",
    "    features=[\n",
    "         Feature(name=\"OlinkID\", dtype=ValueType.STRING),\n",
    "         Feature(name=\"UniPort\", dtype=ValueType.STRING),\n",
    "         Feature(name=\"Assay\", dtype=ValueType.STRING),\n",
    "#        Feature(name=\"UniPort\", dtype=ValueType.STRING),\n",
    "#        Feature(name=\"sepal_width\", dtype=ValueType.FLOAT),\n",
    "#        Feature(name=\"petal_length\", dtype=ValueType.INT64),\n",
    "#        Feature(name=\"petal_width\", dtype=ValueType.INT64),\n",
    "#        Feature(name=\"species\", dtype=ValueType.STRING),\n",
    "    ],\n",
    "    online=True,\n",
    "#    input=proteome_sample_observations,\n",
    "    batch_source=proteome_sample_observations,\n",
    "    tags={},\n",
    ")"
   ]
  },
  {
   "cell_type": "code",
   "execution_count": 18,
   "id": "14fd92f8-bb8f-464b-8048-e04a62d473cc",
   "metadata": {},
   "outputs": [
    {
     "name": "stdout",
     "output_type": "stream",
     "text": [
      "Unchanged entity \u001b[1m\u001b[94mSampleID\u001b[0m\n",
      "Unchanged entity \u001b[1m\u001b[94mdriver_id\u001b[0m\n",
      "Unchanged feature view \u001b[1m\u001b[94mdriver_hourly_stats\u001b[0m\n",
      "Unchanged feature view \u001b[1m\u001b[94mproteome_sample_observations\u001b[0m\n",
      "Deploying infrastructure for \u001b[1m\u001b[32mdriver_hourly_stats\u001b[0m\n",
      "Deploying infrastructure for \u001b[1m\u001b[32mproteome_sample_observations\u001b[0m\n"
     ]
    }
   ],
   "source": [
    "# reload feature repository\n",
    "import feast_postgres\n",
    "!cd $feature_repo_path && feast apply"
   ]
  },
  {
   "cell_type": "code",
   "execution_count": 19,
   "id": "64a00caf-9b3e-4943-9aff-86e55ad69a8e",
   "metadata": {},
   "outputs": [
    {
     "name": "stdout",
     "output_type": "stream",
     "text": [
      "Feast SDK Version: \"feast 0.17.0\"\n"
     ]
    }
   ],
   "source": [
    "!cd $feature_repo_path && feast version"
   ]
  },
  {
   "cell_type": "markdown",
   "id": "e2fed4b1-4d16-4a30-be43-9f33cd915e89",
   "metadata": {},
   "source": [
    "## Populate data to online store\n",
    "https://aws.amazon.com/blogs/opensource/getting-started-with-feast-an-open-source-feature-store-running-on-aws-managed-services/"
   ]
  },
  {
   "cell_type": "code",
   "execution_count": 20,
   "id": "d2c84232-e426-4241-b3ab-9c88410835d9",
   "metadata": {},
   "outputs": [
    {
     "name": "stdout",
     "output_type": "stream",
     "text": [
      "Materializing \u001b[1m\u001b[32m2\u001b[0m feature views to \u001b[1m\u001b[32m2022-01-11 12:01:15+00:00\u001b[0m into the \u001b[1m\u001b[32mfeast_postgres.PostgreSQLOnlineStore\u001b[0m online store.\n",
      "\n",
      "\u001b[1m\u001b[32mdriver_hourly_stats\u001b[0m from \u001b[1m\u001b[32m2022-01-11 11:58:56+00:00\u001b[0m to \u001b[1m\u001b[32m2022-01-11 12:01:15+00:00\u001b[0m:\n",
      "0it [00:00, ?it/s]\n",
      "\u001b[1m\u001b[32mproteome_sample_observations\u001b[0m from \u001b[1m\u001b[32m2022-01-12 12:01:16+00:00\u001b[0m to \u001b[1m\u001b[32m2022-01-11 12:01:15+00:00\u001b[0m:\n",
      "Traceback (most recent call last):\n",
      "  File \"/opt/conda/bin/feast\", line 8, in <module>\n",
      "    sys.exit(cli())\n",
      "  File \"/opt/conda/lib/python3.8/site-packages/click/core.py\", line 829, in __call__\n",
      "    return self.main(*args, **kwargs)\n",
      "  File \"/opt/conda/lib/python3.8/site-packages/click/core.py\", line 782, in main\n",
      "    rv = self.invoke(ctx)\n",
      "  File \"/opt/conda/lib/python3.8/site-packages/click/core.py\", line 1259, in invoke\n",
      "    return _process_result(sub_ctx.command.invoke(sub_ctx))\n",
      "  File \"/opt/conda/lib/python3.8/site-packages/click/core.py\", line 1066, in invoke\n",
      "    return ctx.invoke(self.callback, **ctx.params)\n",
      "  File \"/opt/conda/lib/python3.8/site-packages/click/core.py\", line 610, in invoke\n",
      "    return callback(*args, **kwargs)\n",
      "  File \"/opt/conda/lib/python3.8/site-packages/click/decorators.py\", line 21, in new_func\n",
      "    return f(get_current_context(), *args, **kwargs)\n",
      "  File \"/opt/conda/lib/python3.8/site-packages/feast/cli.py\", line 467, in materialize_incremental_command\n",
      "    store.materialize_incremental(\n",
      "  File \"/opt/conda/lib/python3.8/site-packages/feast/usage.py\", line 269, in wrapper\n",
      "    return func(*args, **kwargs)\n",
      "  File \"/opt/conda/lib/python3.8/site-packages/feast/feature_store.py\", line 877, in materialize_incremental\n",
      "    provider.materialize_single_feature_view(\n",
      "  File \"/opt/conda/lib/python3.8/site-packages/feast/infra/passthrough_provider.py\", line 142, in materialize_single_feature_view\n",
      "    table = offline_job.to_arrow()\n",
      "  File \"/opt/conda/lib/python3.8/site-packages/feast/infra/offline_stores/offline_store.py\", line 67, in to_arrow\n",
      "    return self._to_arrow_internal()\n",
      "  File \"/opt/conda/lib/python3.8/site-packages/feast/usage.py\", line 280, in wrapper\n",
      "    raise exc.with_traceback(traceback)\n",
      "  File \"/opt/conda/lib/python3.8/site-packages/feast/usage.py\", line 269, in wrapper\n",
      "    return func(*args, **kwargs)\n",
      "  File \"/opt/conda/lib/python3.8/site-packages/feast/infra/offline_stores/file.py\", line 66, in _to_arrow_internal\n",
      "    df = self.evaluation_function()\n",
      "  File \"/opt/conda/lib/python3.8/site-packages/feast/infra/offline_stores/file.py\", line 334, in evaluate_offline_job\n",
      "    return last_values_df[columns_to_extract]\n",
      "  File \"/opt/conda/lib/python3.8/site-packages/pandas/core/frame.py\", line 3030, in __getitem__\n",
      "    indexer = self.loc._get_listlike_indexer(key, axis=1, raise_missing=True)[1]\n",
      "  File \"/opt/conda/lib/python3.8/site-packages/pandas/core/indexing.py\", line 1266, in _get_listlike_indexer\n",
      "    self._validate_read_indexer(keyarr, indexer, axis, raise_missing=raise_missing)\n",
      "  File \"/opt/conda/lib/python3.8/site-packages/pandas/core/indexing.py\", line 1316, in _validate_read_indexer\n",
      "    raise KeyError(f\"{not_found} not in index\")\n",
      "KeyError: \"['UniPort'] not in index\"\n"
     ]
    }
   ],
   "source": [
    "# populate feature value to online store, incremental\n",
    "!cd $feature_repo_path && feast materialize-incremental $(date -u +\"%Y-%m-%dT%H:%M:%S\")"
   ]
  },
  {
   "cell_type": "code",
   "execution_count": null,
   "id": "f801505f-bf0e-412a-91a5-2fcbf19a8eb8",
   "metadata": {},
   "outputs": [],
   "source": [
    "# optional: call feature materialize from a past UTC datetime to ingest all the data\n",
    "!cd $feature_repo_path && feast materialize \"2010-10-10T00:00:00\" $(date -u +\"%Y-%m-%dT%H:%M:%S\")"
   ]
  },
  {
   "cell_type": "markdown",
   "id": "1c0dc607-75e5-4f01-bc5f-26195f23ca50",
   "metadata": {},
   "source": [
    "## Advanced feature store with TTL\n",
    "\n",
    "**What does TTL mean?**\\\n",
    "In the example below, we retrieve the value from the feature store. We must specify the event_timestamp. The ttl describes the maximal time difference between the actual event timestamp and the timestamp we want to get. Of course, it is a difference “in the past.” We can never retrieve events “in the future.”"
   ]
  },
  {
   "cell_type": "code",
   "execution_count": null,
   "id": "b88c3a31-74ff-46e5-b01d-e22ec7c54f24",
   "metadata": {},
   "outputs": [],
   "source": []
  }
 ],
 "metadata": {
  "kernelspec": {
   "display_name": "Python 3",
   "language": "python",
   "name": "python3"
  },
  "language_info": {
   "codemirror_mode": {
    "name": "ipython",
    "version": 3
   },
   "file_extension": ".py",
   "mimetype": "text/x-python",
   "name": "python",
   "nbconvert_exporter": "python",
   "pygments_lexer": "ipython3",
   "version": "3.8.10"
  }
 },
 "nbformat": 4,
 "nbformat_minor": 5
}
