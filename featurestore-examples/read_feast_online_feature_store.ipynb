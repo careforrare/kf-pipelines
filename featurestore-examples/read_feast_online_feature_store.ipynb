{
 "cells": [
  {
   "cell_type": "markdown",
   "id": "8461d864-7d81-44f2-b651-e16b34e167b3",
   "metadata": {},
   "source": [
    "## About this Notebook\n",
    "@author: Yingding Wang\n",
    "\n",
    "This notebook shows the approach to read from a feast online features from a postgres db."
   ]
  },
  {
   "cell_type": "code",
   "execution_count": null,
   "id": "795c0f75-6ea8-4a6d-9a9f-72e594168bc1",
   "metadata": {},
   "outputs": [],
   "source": [
    "import sys\n",
    "!{sys.executable} -m pip install --user --upgrade feast feast-postgres==0.2.4"
   ]
  },
  {
   "cell_type": "code",
   "execution_count": null,
   "id": "a8baa3ca-a521-4ddd-9426-2baa75ad23b5",
   "metadata": {},
   "outputs": [],
   "source": [
    "from pprint import pprint\n",
    "from feast import FeatureStore\n",
    "home_dir=\"/home/jovyan\"\n",
    "fs_repo_name=\"fsrepo\"\n",
    "fs_repo_path=f\"{home_dir}/{fs_repo_name}\"\n",
    "print(f\"{fs_repo_path}\")\n",
    "\n",
    "store = FeatureStore(repo_path=fs_repo_path)"
   ]
  },
  {
   "cell_type": "code",
   "execution_count": null,
   "id": "02996317-ba7e-4893-bea1-a692066fd06a",
   "metadata": {},
   "outputs": [],
   "source": [
    "feature_vector = store.get_online_features(\n",
    "    features=[\n",
    "    'proteome_sample_observations:OlinkID',\n",
    "    'proteome_sample_observations:UniPort',\n",
    "    'proteome_sample_observations:Assay'\n",
    "    ],\n",
    "    entity_rows=[{\"SampleID\": \"COV041_20_47\"}]\n",
    ").to_dict()"
   ]
  },
  {
   "cell_type": "markdown",
   "id": "48cc4dc2-1565-490b-856e-ff999eaa070d",
   "metadata": {},
   "source": [
    "```python\n",
    "feature_vector = store.get_online_features(\n",
    "    features=[\n",
    "    'proteome_olink_observations:OlinkID'\n",
    "    'proteome_olink_observations:UniPort'\n",
    "    'proteome_olink_observations:Assay'\n",
    "    ],\n",
    "    entity_rows=[{}]\n",
    ").to_dict()\n",
    "```"
   ]
  },
  {
   "cell_type": "code",
   "execution_count": null,
   "id": "00933533-9515-404a-b72e-8680fa695eec",
   "metadata": {},
   "outputs": [],
   "source": [
    "pprint(feature_vector)"
   ]
  },
  {
   "cell_type": "code",
   "execution_count": null,
   "id": "91e9d9e9-dfbb-4580-b7ae-6c4fc6c00309",
   "metadata": {},
   "outputs": [],
   "source": [
    "print(type(feature_vector))"
   ]
  },
  {
   "cell_type": "code",
   "execution_count": null,
   "id": "bcf9285f-d003-4e68-9a45-c7e20123505f",
   "metadata": {},
   "outputs": [],
   "source": [
    "print(len(feature_vector))"
   ]
  },
  {
   "cell_type": "code",
   "execution_count": null,
   "id": "fff6044f-9114-46f8-a244-edbe59f89bb3",
   "metadata": {},
   "outputs": [],
   "source": []
  }
 ],
 "metadata": {
  "kernelspec": {
   "display_name": "Python 3",
   "language": "python",
   "name": "python3"
  },
  "language_info": {
   "codemirror_mode": {
    "name": "ipython",
    "version": 3
   },
   "file_extension": ".py",
   "mimetype": "text/x-python",
   "name": "python",
   "nbconvert_exporter": "python",
   "pygments_lexer": "ipython3",
   "version": "3.8.10"
  }
 },
 "nbformat": 4,
 "nbformat_minor": 5
}
