{
 "cells": [
  {
   "cell_type": "markdown",
   "id": "8461d864-7d81-44f2-b651-e16b34e167b3",
   "metadata": {},
   "source": [
    "## About this Notebook\n",
    "@author: Yingding Wang\n",
    "\n",
    "This notebook shows the approach to read from a feast online features from a postgres db."
   ]
  },
  {
   "cell_type": "code",
   "execution_count": null,
   "id": "795c0f75-6ea8-4a6d-9a9f-72e594168bc1",
   "metadata": {},
   "outputs": [],
   "source": [
    "import sys\n",
    "!{sys.executable} -m pip install feast feast-postgres"
   ]
  },
  {
   "cell_type": "code",
   "execution_count": null,
   "id": "a8baa3ca-a521-4ddd-9426-2baa75ad23b5",
   "metadata": {},
   "outputs": [],
   "source": [
    "from pprint import pprint\n",
    "from feast import FeatureStore\n",
    "fs_repo_path=\"/home/jovyan/feature_repo\"\n",
    "store = FeatureStore(repo_path=fs_repo_path)"
   ]
  },
  {
   "cell_type": "code",
   "execution_count": null,
   "id": "02996317-ba7e-4893-bea1-a692066fd06a",
   "metadata": {},
   "outputs": [],
   "source": [
    "feature_vector = store.get_online_features(\n",
    "    features=[\n",
    "    'proteome_olink_observations:UniPort'\n",
    "    ],\n",
    "    entity_rows=[{\"OlinkID\": \"OID21145\"}]\n",
    ").to_dict()"
   ]
  },
  {
   "cell_type": "code",
   "execution_count": null,
   "id": "00933533-9515-404a-b72e-8680fa695eec",
   "metadata": {},
   "outputs": [],
   "source": [
    "pprint(feature_vector)"
   ]
  },
  {
   "cell_type": "code",
   "execution_count": null,
   "id": "91e9d9e9-dfbb-4580-b7ae-6c4fc6c00309",
   "metadata": {},
   "outputs": [],
   "source": []
  }
 ],
 "metadata": {
  "kernelspec": {
   "display_name": "Python 3",
   "language": "python",
   "name": "python3"
  },
  "language_info": {
   "codemirror_mode": {
    "name": "ipython",
    "version": 3
   },
   "file_extension": ".py",
   "mimetype": "text/x-python",
   "name": "python",
   "nbconvert_exporter": "python",
   "pygments_lexer": "ipython3",
   "version": "3.8.10"
  }
 },
 "nbformat": 4,
 "nbformat_minor": 5
}
