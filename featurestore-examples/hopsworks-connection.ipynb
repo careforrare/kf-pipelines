{
 "cells": [
  {
   "cell_type": "markdown",
   "id": "06f23b11-1541-419c-b92a-32e39a938c56",
   "metadata": {
    "tags": []
   },
   "source": [
    "# About this notebook\n",
    "\n",
    "@author: Yingding Wang\n",
    "\n",
    "This notebook demonstrate an example to connect to hopsworks featurestore from a kubeflow notebook"
   ]
  },
  {
   "cell_type": "markdown",
   "id": "f38152fc-ad4b-466c-83f2-e54976ddcb8b",
   "metadata": {
    "tags": []
   },
   "source": [
    "## Prerequisites\n",
    "* Make sure a API Key is created in hopsworks project and feature store, project and job are allowed.\n",
    "* Read the following step carefully to get `hsfs` from pip installed into your conda env\n",
    "\n",
    "Reference: \n",
    "* Create user API keys in Hopsworks Feature Store: https://hopsworks.readthedocs.io/en/2.0/featurestore/integrations/guides/custom.html\n",
    "* Integrate Feature Store in KubeFlow Notebook: https://docs.hopsworks.ai/feature-store-api/latest/integrations/python/\n",
    "\n",
    "## Install pip package inside conda venv\n",
    "\n",
    "#### 1. In the console create a conda venv names hops\n",
    "```console\n",
    "conda install -y gcc=11.2.0\n",
    "conda create -y -n hops \n",
    "conda activate hops\n",
    "conda install -y pip\n",
    "pip install --no-cache-dir --upgrade hsfs[hive]==2.4.7\n",
    "conda deactivate\n",
    "```\n",
    "<!-- \n",
    "# python -m ipykernel install --user --name=hops\n",
    "# ipython kernel install --user --name=hops\n",
    "# python -m ipykernel install --user --name=hops\n",
    "# conda env remove --name hops\n",
    "-->\n",
    "\n",
    "#### 2. Make conda env in JupyterLab available\n",
    "```\n",
    "conda activate hops\n",
    "conda install -y ipykernel\n",
    "ipython kernel install --user --name=hops\n",
    "conda deactivate\n",
    "```\n",
    "Reference:\n",
    "* https://stackoverflow.com/questions/53004311/how-to-add-conda-environment-to-jupyter-lab/53546634#53546634\n",
    "\n",
    "#### 3. Restart notebooks with new kernel hops\n",
    "\n",
    "* You may need to stop the kernel and close the notebook and reopen it, until the new kernel with name `hops` is visible\n",
    "* Select kernel `hops` and restart kernel\n",
    "\n",
    "#### 4. (optional) List you env in conda:\n",
    "```\n",
    "conda env list\n",
    "```\n",
    "\n",
    "#### 5. (optional) Remove a virtual\n",
    "```console\n",
    "jupyter kernelspec uninstall -y <VENV_NAME>\n",
    "conda env remove --name <VENV_NAME>\n",
    "```\n",
    "Reference:\n",
    "* https://stackoverflow.com/questions/41060382/using-pip-to-install-packages-to-anaconda-environment/43729857#43729857\n"
   ]
  },
  {
   "cell_type": "code",
   "execution_count": 75,
   "id": "6a4db2a5-dd0b-4d63-baf1-99d8e0461791",
   "metadata": {},
   "outputs": [
    {
     "name": "stdout",
     "output_type": "stream",
     "text": [
      "Sys version: 3.10.0 | packaged by conda-forge | (default, Nov 20 2021, 02:24:10) [GCC 9.4.0]\n"
     ]
    }
   ],
   "source": [
    "import sys\n",
    "print(f\"Sys version: {sys.version}\")"
   ]
  },
  {
   "cell_type": "code",
   "execution_count": 76,
   "id": "2adc78a6-217f-4ec6-959c-a37098b6d896",
   "metadata": {},
   "outputs": [
    {
     "name": "stdout",
     "output_type": "stream",
     "text": [
      "Requirement already satisfied: python-dotenv in /opt/conda/envs/hops/lib/python3.10/site-packages (0.19.2)\n"
     ]
    }
   ],
   "source": [
    "# This kernel runs with pip\n",
    "!{sys.executable} -m pip install python-dotenv\n",
    "# !{sys.executable} -m pip install hsfs[hive]==2.4.7"
   ]
  },
  {
   "cell_type": "markdown",
   "id": "b3e7ae9a-13f3-4843-a57b-a2c4ea835738",
   "metadata": {
    "tags": []
   },
   "source": [
    "### (Optional) Uncomment the following cell to create a key file for featurestore\n",
    "\n",
    "Replace the following line with your real API key\n",
    "\n",
    "Notice: This method doesn't always works, it doesn't noticed that it is a local installation and will call a aws region sometimes. Wth API_KEY_VALUE works."
   ]
  },
  {
   "cell_type": "code",
   "execution_count": 77,
   "id": "151932a7-919b-4f01-9397-3f787b6ab540",
   "metadata": {},
   "outputs": [],
   "source": [
    "#%%writefile featurestore.key\n",
    "#xxxxxxxxxxx"
   ]
  },
  {
   "cell_type": "markdown",
   "id": "96f465b7-8cc6-4cbf-95f1-a53107012a04",
   "metadata": {},
   "source": [
    "### (Optional) Adding Env Variables for feature store\n",
    "\n",
    "copy the following cell template and uncomment the content and edit with your credentials"
   ]
  },
  {
   "cell_type": "code",
   "execution_count": 78,
   "id": "10303e82-ab20-4ba3-aa2a-2ee0f4028fed",
   "metadata": {},
   "outputs": [],
   "source": [
    "#%%writefile fs.env\n",
    "## environment variables for online feature_store\n",
    "#ON_FS_HOST=\"DNS_host_name\"\n",
    "#ON_FS_PROJ=\"proj_name\"\n",
    "#ON_FS_PORT=\"443\"\n",
    "#ON_FS_APIKEY=\"You_API_KEY_VALUE\""
   ]
  },
  {
   "cell_type": "code",
   "execution_count": 79,
   "id": "63b48e0e-42c8-44c9-b6ae-d297efabdb61",
   "metadata": {},
   "outputs": [
    {
     "data": {
      "text/plain": [
       "True"
      ]
     },
     "execution_count": 79,
     "metadata": {},
     "output_type": "execute_result"
    }
   ],
   "source": [
    "# Load env\n",
    "import os\n",
    "from dotenv import load_dotenv\n",
    "load_dotenv(dotenv_path=\"fs.env\", override=True)"
   ]
  },
  {
   "cell_type": "code",
   "execution_count": 80,
   "id": "7dd67c97-a7ca-4e56-9009-5f6c8881ae3b",
   "metadata": {},
   "outputs": [],
   "source": [
    "#print(f\"{os.environ['ON_FS_HOST']}\")\n",
    "#print(f\"{os.environ['ON_FS_PROJ']}\")\n",
    "#print(f\"{os.environ['ON_FS_PORT']}\")\n",
    "#print(f\"{os.environ['ON_FS_APIKEY']}\")"
   ]
  },
  {
   "cell_type": "code",
   "execution_count": 81,
   "id": "4ff85670-1376-40b2-be35-6387d88fbf6c",
   "metadata": {},
   "outputs": [],
   "source": [
    "import hsfs"
   ]
  },
  {
   "cell_type": "code",
   "execution_count": 82,
   "id": "8071eb82-d405-41fe-931e-dd70a37df73f",
   "metadata": {},
   "outputs": [
    {
     "name": "stdout",
     "output_type": "stream",
     "text": [
      "Connected. Call `.close()` to terminate connection gracefully.\n"
     ]
    }
   ],
   "source": [
    "conn = hsfs.connection(\n",
    "    host=str(os.environ['ON_FS_HOST']),    # DNS of your Feature Store instance\n",
    "    port=int(os.environ['ON_FS_PORT']),    # Port to reach your Hopsworks instance, defaults to 443\n",
    "    project=str(os.environ['ON_FS_PROJ']), # Name of your Hopsworks Feature Store project\n",
    "    api_key_value=str(os.environ['ON_FS_APIKEY']),   # API Key Value String\n",
    "    hostname_verification=False            # Disable for self-signed certificates\n",
    ")\n",
    "fs = conn.get_feature_store()              # Get the project's default feature store\""
   ]
  },
  {
   "cell_type": "code",
   "execution_count": null,
   "id": "137f15f0-fa78-4a84-aa88-a39b5d754583",
   "metadata": {},
   "outputs": [],
   "source": []
  },
  {
   "cell_type": "code",
   "execution_count": 83,
   "id": "71652d0b-01bd-435b-861c-14c86bc818fb",
   "metadata": {},
   "outputs": [
    {
     "name": "stdout",
     "output_type": "stream",
     "text": [
      "Connection closed.\n"
     ]
    }
   ],
   "source": [
    "conn.close()"
   ]
  },
  {
   "cell_type": "code",
   "execution_count": null,
   "id": "04be3429-9801-46dd-8178-b0e6bba7f90c",
   "metadata": {},
   "outputs": [],
   "source": []
  }
 ],
 "metadata": {
  "kernelspec": {
   "display_name": "hops",
   "language": "python",
   "name": "hops"
  },
  "language_info": {
   "codemirror_mode": {
    "name": "ipython",
    "version": 3
   },
   "file_extension": ".py",
   "mimetype": "text/x-python",
   "name": "python",
   "nbconvert_exporter": "python",
   "pygments_lexer": "ipython3",
   "version": "3.10.0"
  }
 },
 "nbformat": 4,
 "nbformat_minor": 5
}
