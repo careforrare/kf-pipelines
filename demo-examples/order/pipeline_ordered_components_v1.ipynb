{
 "cells": [
  {
   "cell_type": "markdown",
   "id": "44860fba-5deb-4986-8492-7632f9a487e3",
   "metadata": {},
   "source": [
    "# About this Jupyter Notebook\n",
    "\n",
    "@author: Yingding Wang\n",
    "\n",
    "This notebook demonstrates how ordered components in kf pipeline can be defined"
   ]
  },
  {
   "cell_type": "code",
   "execution_count": 1,
   "id": "61cda2c4-0433-4e50-88b0-9426e7b655c2",
   "metadata": {},
   "outputs": [
    {
     "name": "stdout",
     "output_type": "stream",
     "text": [
      "Requirement already satisfied: kfp==1.8.12 in /home/jovyan/.local/lib/python3.8/site-packages (1.8.12)\n",
      "Requirement already satisfied: click<9,>=7.1.2 in /opt/conda/lib/python3.8/site-packages (from kfp==1.8.12) (7.1.2)\n",
      "Requirement already satisfied: google-cloud-storage<2,>=1.20.0 in /opt/conda/lib/python3.8/site-packages (from kfp==1.8.12) (1.44.0)\n",
      "Requirement already satisfied: absl-py<2,>=0.9 in /opt/conda/lib/python3.8/site-packages (from kfp==1.8.12) (0.11.0)\n",
      "Requirement already satisfied: docstring-parser<1,>=0.7.3 in /opt/conda/lib/python3.8/site-packages (from kfp==1.8.12) (0.13)\n",
      "Requirement already satisfied: kfp-server-api<2.0.0,>=1.1.2 in /home/jovyan/.local/lib/python3.8/site-packages (from kfp==1.8.12) (1.8.1)\n",
      "Requirement already satisfied: tabulate<1,>=0.8.6 in /opt/conda/lib/python3.8/site-packages (from kfp==1.8.12) (0.8.9)\n",
      "Requirement already satisfied: google-auth<2,>=1.6.1 in /opt/conda/lib/python3.8/site-packages (from kfp==1.8.12) (1.35.0)\n",
      "Requirement already satisfied: protobuf<4,>=3.13.0 in /opt/conda/lib/python3.8/site-packages (from kfp==1.8.12) (3.17.3)\n",
      "Requirement already satisfied: kfp-pipeline-spec<0.2.0,>=0.1.14 in /home/jovyan/.local/lib/python3.8/site-packages (from kfp==1.8.12) (0.1.16)\n",
      "Requirement already satisfied: cloudpickle<3,>=2.0.0 in /home/jovyan/.local/lib/python3.8/site-packages (from kfp==1.8.12) (2.1.0)\n",
      "Requirement already satisfied: typer<1.0,>=0.3.2 in /home/jovyan/.local/lib/python3.8/site-packages (from kfp==1.8.12) (0.4.1)\n",
      "Requirement already satisfied: Deprecated<2,>=1.2.7 in /opt/conda/lib/python3.8/site-packages (from kfp==1.8.12) (1.2.13)\n",
      "Requirement already satisfied: google-api-core!=2.0.*,!=2.1.*,!=2.2.*,!=2.3.0,<3.0.0dev,>=1.31.5 in /opt/conda/lib/python3.8/site-packages (from kfp==1.8.12) (2.7.1)\n",
      "Requirement already satisfied: fire<1,>=0.3.1 in /opt/conda/lib/python3.8/site-packages (from kfp==1.8.12) (0.4.0)\n",
      "Requirement already satisfied: PyYAML<6,>=5.3 in /opt/conda/lib/python3.8/site-packages (from kfp==1.8.12) (5.4.1)\n",
      "Requirement already satisfied: google-api-python-client<2,>=1.7.8 in /opt/conda/lib/python3.8/site-packages (from kfp==1.8.12) (1.12.10)\n",
      "Requirement already satisfied: kubernetes<19,>=8.0.0 in /opt/conda/lib/python3.8/site-packages (from kfp==1.8.12) (12.0.1)\n",
      "Requirement already satisfied: requests-toolbelt<1,>=0.8.0 in /opt/conda/lib/python3.8/site-packages (from kfp==1.8.12) (0.9.1)\n",
      "Requirement already satisfied: strip-hints<1,>=0.1.8 in /opt/conda/lib/python3.8/site-packages (from kfp==1.8.12) (0.1.10)\n",
      "Requirement already satisfied: typing-extensions<4,>=3.7.4 in /home/jovyan/.local/lib/python3.8/site-packages (from kfp==1.8.12) (3.10.0.2)\n",
      "Requirement already satisfied: jsonschema<4,>=3.0.1 in /opt/conda/lib/python3.8/site-packages (from kfp==1.8.12) (3.2.0)\n",
      "Requirement already satisfied: pydantic<2,>=1.8.2 in /home/jovyan/.local/lib/python3.8/site-packages (from kfp==1.8.12) (1.9.1)\n",
      "Requirement already satisfied: uritemplate<4,>=3.0.1 in /opt/conda/lib/python3.8/site-packages (from kfp==1.8.12) (3.0.1)\n",
      "Requirement already satisfied: six in /opt/conda/lib/python3.8/site-packages (from absl-py<2,>=0.9->kfp==1.8.12) (1.16.0)\n",
      "Requirement already satisfied: wrapt<2,>=1.10 in /opt/conda/lib/python3.8/site-packages (from Deprecated<2,>=1.2.7->kfp==1.8.12) (1.13.3)\n",
      "Requirement already satisfied: termcolor in /opt/conda/lib/python3.8/site-packages (from fire<1,>=0.3.1->kfp==1.8.12) (1.1.0)\n",
      "Requirement already satisfied: requests<3.0.0dev,>=2.18.0 in /opt/conda/lib/python3.8/site-packages (from google-api-core!=2.0.*,!=2.1.*,!=2.2.*,!=2.3.0,<3.0.0dev,>=1.31.5->kfp==1.8.12) (2.25.1)\n",
      "Requirement already satisfied: googleapis-common-protos<2.0dev,>=1.52.0 in /opt/conda/lib/python3.8/site-packages (from google-api-core!=2.0.*,!=2.1.*,!=2.2.*,!=2.3.0,<3.0.0dev,>=1.31.5->kfp==1.8.12) (1.55.0)\n",
      "Requirement already satisfied: google-auth-httplib2>=0.0.3 in /opt/conda/lib/python3.8/site-packages (from google-api-python-client<2,>=1.7.8->kfp==1.8.12) (0.1.0)\n",
      "Requirement already satisfied: httplib2<1dev,>=0.15.0 in /opt/conda/lib/python3.8/site-packages (from google-api-python-client<2,>=1.7.8->kfp==1.8.12) (0.20.4)\n",
      "Requirement already satisfied: rsa<5,>=3.1.4 in /opt/conda/lib/python3.8/site-packages (from google-auth<2,>=1.6.1->kfp==1.8.12) (4.8)\n",
      "Requirement already satisfied: pyasn1-modules>=0.2.1 in /opt/conda/lib/python3.8/site-packages (from google-auth<2,>=1.6.1->kfp==1.8.12) (0.2.8)\n",
      "Requirement already satisfied: setuptools>=40.3.0 in /opt/conda/lib/python3.8/site-packages (from google-auth<2,>=1.6.1->kfp==1.8.12) (49.6.0.post20210108)\n",
      "Requirement already satisfied: cachetools<5.0,>=2.0.0 in /opt/conda/lib/python3.8/site-packages (from google-auth<2,>=1.6.1->kfp==1.8.12) (4.2.4)\n",
      "Requirement already satisfied: google-cloud-core<3.0dev,>=1.6.0 in /opt/conda/lib/python3.8/site-packages (from google-cloud-storage<2,>=1.20.0->kfp==1.8.12) (2.2.3)\n",
      "Requirement already satisfied: google-resumable-media<3.0dev,>=1.3.0 in /opt/conda/lib/python3.8/site-packages (from google-cloud-storage<2,>=1.20.0->kfp==1.8.12) (2.3.2)\n",
      "Requirement already satisfied: google-crc32c<2.0dev,>=1.0 in /opt/conda/lib/python3.8/site-packages (from google-resumable-media<3.0dev,>=1.3.0->google-cloud-storage<2,>=1.20.0->kfp==1.8.12) (1.3.0)\n",
      "Requirement already satisfied: pyparsing!=3.0.0,!=3.0.1,!=3.0.2,!=3.0.3,<4,>=2.4.2 in /opt/conda/lib/python3.8/site-packages (from httplib2<1dev,>=0.15.0->google-api-python-client<2,>=1.7.8->kfp==1.8.12) (2.4.7)\n",
      "Requirement already satisfied: pyrsistent>=0.14.0 in /opt/conda/lib/python3.8/site-packages (from jsonschema<4,>=3.0.1->kfp==1.8.12) (0.17.3)\n",
      "Requirement already satisfied: attrs>=17.4.0 in /opt/conda/lib/python3.8/site-packages (from jsonschema<4,>=3.0.1->kfp==1.8.12) (21.2.0)\n",
      "Requirement already satisfied: urllib3>=1.15 in /opt/conda/lib/python3.8/site-packages (from kfp-server-api<2.0.0,>=1.1.2->kfp==1.8.12) (1.26.5)\n",
      "Requirement already satisfied: python-dateutil in /opt/conda/lib/python3.8/site-packages (from kfp-server-api<2.0.0,>=1.1.2->kfp==1.8.12) (2.8.1)\n",
      "Requirement already satisfied: certifi in /opt/conda/lib/python3.8/site-packages (from kfp-server-api<2.0.0,>=1.1.2->kfp==1.8.12) (2021.5.30)\n",
      "Requirement already satisfied: websocket-client!=0.40.0,!=0.41.*,!=0.42.*,>=0.32.0 in /opt/conda/lib/python3.8/site-packages (from kubernetes<19,>=8.0.0->kfp==1.8.12) (1.0.1)\n",
      "Requirement already satisfied: requests-oauthlib in /opt/conda/lib/python3.8/site-packages (from kubernetes<19,>=8.0.0->kfp==1.8.12) (1.3.1)\n",
      "Requirement already satisfied: pyasn1<0.5.0,>=0.4.6 in /opt/conda/lib/python3.8/site-packages (from pyasn1-modules>=0.2.1->google-auth<2,>=1.6.1->kfp==1.8.12) (0.4.8)\n",
      "Requirement already satisfied: chardet<5,>=3.0.2 in /opt/conda/lib/python3.8/site-packages (from requests<3.0.0dev,>=2.18.0->google-api-core!=2.0.*,!=2.1.*,!=2.2.*,!=2.3.0,<3.0.0dev,>=1.31.5->kfp==1.8.12) (4.0.0)\n",
      "Requirement already satisfied: idna<3,>=2.5 in /opt/conda/lib/python3.8/site-packages (from requests<3.0.0dev,>=2.18.0->google-api-core!=2.0.*,!=2.1.*,!=2.2.*,!=2.3.0,<3.0.0dev,>=1.31.5->kfp==1.8.12) (2.10)\n",
      "Requirement already satisfied: wheel in /opt/conda/lib/python3.8/site-packages (from strip-hints<1,>=0.1.8->kfp==1.8.12) (0.36.2)\n",
      "Requirement already satisfied: oauthlib>=3.0.0 in /opt/conda/lib/python3.8/site-packages (from requests-oauthlib->kubernetes<19,>=8.0.0->kfp==1.8.12) (3.2.0)\n"
     ]
    }
   ],
   "source": [
    "import sys\n",
    "!{sys.executable} -m pip install --upgrade --user kfp==1.8.12"
   ]
  },
  {
   "cell_type": "markdown",
   "id": "c9ce72f9-b9b7-43ce-8126-f771066c1083",
   "metadata": {},
   "source": [
    "# (optional step) Upgrade juypterlab\n",
    "Run the follow cell to upgrade the jupyterlab server and you need to restart the notebook to see effect"
   ]
  },
  {
   "cell_type": "code",
   "execution_count": 2,
   "id": "0c125941-749e-49e1-b117-6eee3d938aea",
   "metadata": {},
   "outputs": [
    {
     "name": "stdout",
     "output_type": "stream",
     "text": [
      "Name: jupyterlab\n",
      "Version: 3.4.3\n",
      "Summary: JupyterLab computational environment\n",
      "Home-page: https://jupyter.org\n",
      "Author: Jupyter Development Team\n",
      "Author-email: jupyter@googlegroups.com\n",
      "License: None\n",
      "Location: /home/jovyan/.local/lib/python3.8/site-packages\n",
      "Requires: nbclassic, packaging, jupyterlab-server, jupyter-server, jupyter-core, jinja2, ipython, tornado\n",
      "Required-by: \n"
     ]
    }
   ],
   "source": [
    "!{sys.executable} -m pip show jupyterlab # 3.0.16\n",
    "# !{sys.executable} -m pip show jupyter_contrib_nbextensions"
   ]
  },
  {
   "cell_type": "code",
   "execution_count": 3,
   "id": "59d048eb-21c7-46ca-864d-acde71986cec",
   "metadata": {},
   "outputs": [],
   "source": [
    "# update the jupyter lab\n",
    "# uncomment the following command to update juypterlab\n",
    "# !{sys.executable} -m pip install --upgrade --user jupyterlab==3.4.3"
   ]
  },
  {
   "cell_type": "markdown",
   "id": "f81251b5-71f0-4f84-92b9-4ba2ea2c2aeb",
   "metadata": {},
   "source": [
    "## (optional) Restart your notebook server in Kubeflow by stop and start"
   ]
  },
  {
   "cell_type": "markdown",
   "id": "695cd2af-3615-4ec4-8d58-dbe090d6b4d9",
   "metadata": {},
   "source": [
    "## (optional) Upgrade your kfp-server-api\n",
    "Should you see a headtoken issue while starting the kubeflow pipeline from your notebook. Please execute this optional step to upgrade the kfp-server-api to match the kubeflow pipeline backend\n"
   ]
  },
  {
   "cell_type": "code",
   "execution_count": 4,
   "id": "fab671fa-e5ff-49b1-a556-0fed56015855",
   "metadata": {},
   "outputs": [
    {
     "name": "stdout",
     "output_type": "stream",
     "text": [
      "kfp                      1.8.12\n",
      "kfp-pipeline-spec        0.1.16\n",
      "kfp-server-api           1.8.1\n"
     ]
    }
   ],
   "source": [
    "# show the kfp-server-api version, 1.7.0 for kf 1.4, 1.7.1 for kf 1.4.1 and 1.8.1 for kf 1.5.0\n",
    "!{sys.executable} -m pip list | grep kfp"
   ]
  },
  {
   "cell_type": "code",
   "execution_count": 5,
   "id": "386b9c28-af66-42b9-b87e-5c0f24585c83",
   "metadata": {},
   "outputs": [
    {
     "data": {
      "text/plain": [
       "'upgrade the kfp server api version to 1.8.1 for KF 1.5'"
      ]
     },
     "execution_count": 5,
     "metadata": {},
     "output_type": "execute_result"
    }
   ],
   "source": [
    "\"\"\"upgrade the kfp server api version to 1.7.0 for KF 1.4\"\"\"\n",
    "# !{sys.executable} -m pip uninstall -y kfp-server-api\n",
    "# !{sys.executable} -m pip install --user --upgrade kfp-server-api==1.7.0\n",
    "\"\"\"upgrade the kfp server api version to 1.8.1 for KF 1.5\"\"\"\n",
    "# !{sys.executable} -m pip uninstall -y kfp-server-api\n",
    "# !{sys.executable} -m pip install --user --upgrade kfp-server-api==1.8.1"
   ]
  },
  {
   "cell_type": "markdown",
   "id": "45f7ed5e-eb07-48c8-94cb-ed3ab8abcf05",
   "metadata": {},
   "source": [
    "## Define function to restrict ContainerOp resource for kfp with multi-tenancy"
   ]
  },
  {
   "cell_type": "code",
   "execution_count": 6,
   "id": "8bdacedb-7ccb-47db-a447-aa417eeddfdb",
   "metadata": {},
   "outputs": [],
   "source": [
    "from kfp.dsl import ContainerOp\n",
    "def pod_resource_transformer(op: ContainerOp, mem_req=\"200Mi\", cpu_req=\"2000m\", mem_lim=\"1000Mi\", cpu_lim='2000m'):\n",
    "    \"\"\"\n",
    "    op.set_memory_limit('1000Mi') = 1GB\n",
    "    op.set_cpu_limit('1000m') = 1 cpu core\n",
    "    \"\"\"\n",
    "    return op.set_memory_request(mem_req)\\\n",
    "            .set_memory_limit(mem_lim)\\\n",
    "            .set_cpu_request(cpu_req)\\\n",
    "            .set_cpu_limit(cpu_lim)"
   ]
  },
  {
   "cell_type": "markdown",
   "id": "22550ea8-be65-4b70-b971-cf54b87d83c9",
   "metadata": {},
   "source": [
    "## Define the variables"
   ]
  },
  {
   "cell_type": "code",
   "execution_count": 7,
   "id": "000417d4-154e-4c0b-899c-4d0a1422d623",
   "metadata": {},
   "outputs": [],
   "source": [
    "from platform import python_version\n",
    "\n",
    "EXPERIMENT_NAME = 'kf v1.5 test'        # Name of the experiment in the UI\n",
    "EXPERIMENT_DESC = 'testing KF platform'\n",
    "# BASE_IMAGE = f\"library/python:{python_version()}\" # Base image used for components in the pipeline, which has not root\n",
    "BASE_IMAGE = \"python:3.8.13\"\n",
    "NAME_SPACE = \"kubeflow-kindfor\" # change namespace if necessary"
   ]
  },
  {
   "cell_type": "markdown",
   "id": "4f7203b6-ae51-49e0-9659-6424699624ee",
   "metadata": {},
   "source": [
    "## Create kfp pipeline with KFP python sdk"
   ]
  },
  {
   "cell_type": "code",
   "execution_count": 8,
   "id": "575da335-e9ab-48cf-8623-d70f9a0ff45d",
   "metadata": {},
   "outputs": [],
   "source": [
    "import kfp\n",
    "import kubernetes\n",
    "import kfp.dsl as dsl\n",
    "import kfp.compiler as compiler\n",
    "import kfp.components as components\n",
    "from kfp.components import create_component_from_func"
   ]
  },
  {
   "cell_type": "markdown",
   "id": "439e2e6a-8ac5-4dbc-bdae-9d3e7e65c2f4",
   "metadata": {},
   "source": [
    "## create components from function"
   ]
  },
  {
   "cell_type": "code",
   "execution_count": 9,
   "id": "f35428c6-f68f-488c-8c32-8e3a4e845bc6",
   "metadata": {},
   "outputs": [],
   "source": [
    "from kfp.components import create_component_from_func\n",
    "from functools import partial\n",
    "\n",
    "@partial(\n",
    "    create_component_from_func,\n",
    "    output_component_file='step_1_component.yaml',\n",
    "    base_image=BASE_IMAGE,\n",
    "    packages_to_install=None # can't use [\"\"] as requiremnt, either None or [\"pandas\"], \n",
    ")\n",
    "def print_op_1():\n",
    "    '''Calculates sum of two arguments'''\n",
    "    print(f\"I am step 1\")"
   ]
  },
  {
   "cell_type": "code",
   "execution_count": 10,
   "id": "bcff8f22-f843-4dee-b556-b0cac16a76f0",
   "metadata": {},
   "outputs": [],
   "source": [
    "@partial(\n",
    "    create_component_from_func,\n",
    "    output_component_file='step_2_component.yaml',\n",
    "    base_image=BASE_IMAGE,\n",
    "    packages_to_install=None # can't use [\"\"] as requiremnt, either None or [\"pandas\"], \n",
    ")\n",
    "def print_op_2():\n",
    "    '''Calculates sum of two arguments'''\n",
    "    print(f\"I am step 2\")"
   ]
  },
  {
   "cell_type": "code",
   "execution_count": 11,
   "id": "9336546a-14e9-494c-9d9f-ce162114e0d5",
   "metadata": {},
   "outputs": [],
   "source": [
    "\n",
    "\n",
    "@dsl.pipeline(\n",
    "    name='confusion-matrix-pipeline',\n",
    "    description='A sample pipeline to generate Confusion Matrix for UI visualization.'\n",
    ")\n",
    "def ordered_dag_pipeline():\n",
    "    print_task_1 = print_op_1()\n",
    "    print_task_1 = pod_resource_transformer(print_task_1, mem_req=\"500Mi\", cpu_req=\"500m\")\n",
    "    print_task_1.execution_options.caching_strategy.max_cache_staleness = \"P0D\"\n",
    "    print_task_2 = print_op_2()\n",
    "    print_task_2 = pod_resource_transformer(print_task_2, mem_req=\"500Mi\", cpu_req=\"500m\")\n",
    "    print_task_2.after(print_task_1)\n",
    "\n",
    "my_pipeline = ordered_dag_pipeline    "
   ]
  },
  {
   "cell_type": "code",
   "execution_count": 12,
   "id": "3b966b22-d7d1-405e-956a-9e1e7dfe99a6",
   "metadata": {},
   "outputs": [],
   "source": [
    "NAME_SPACE=\"kubeflow-kindfor\"\n",
    "EXPERIMENT_NAME=\"kf-metrics\"\n",
    "\n",
    "client = kfp.Client()\n",
    "client.set_user_namespace(NAME_SPACE)"
   ]
  },
  {
   "cell_type": "code",
   "execution_count": 13,
   "id": "6508459b-723e-472f-af5f-99555d23182b",
   "metadata": {},
   "outputs": [
    {
     "data": {
      "text/html": [
       "<a href=\"/pipeline/#/experiments/details/744c5b5c-f45c-4382-9b33-e7ace14e7493\" target=\"_blank\" >Experiment details</a>."
      ],
      "text/plain": [
       "<IPython.core.display.HTML object>"
      ]
     },
     "metadata": {},
     "output_type": "display_data"
    },
    {
     "data": {
      "text/html": [
       "<a href=\"/pipeline/#/runs/details/23ef5fc4-38cc-42d0-849c-d45823505da7\" target=\"_blank\" >Run details</a>."
      ],
      "text/plain": [
       "<IPython.core.display.HTML object>"
      ]
     },
     "metadata": {},
     "output_type": "display_data"
    },
    {
     "data": {
      "text/plain": [
       "RunPipelineResult(run_id=23ef5fc4-38cc-42d0-849c-d45823505da7)"
      ]
     },
     "execution_count": 13,
     "metadata": {},
     "output_type": "execute_result"
    }
   ],
   "source": [
    "client.create_run_from_pipeline_func(pipeline_func=my_pipeline, arguments=None,\n",
    "                                     experiment_name=EXPERIMENT_NAME, namespace=NAME_SPACE,\n",
    "                                     pipeline_conf=dsl.PipelineConf(),\n",
    "                                     mode = dsl.PipelineExecutionMode.V1_LEGACY\n",
    "                                    )"
   ]
  },
  {
   "cell_type": "code",
   "execution_count": null,
   "id": "07f3cc91-1b6c-4730-b999-55fd778e393d",
   "metadata": {},
   "outputs": [],
   "source": []
  }
 ],
 "metadata": {
  "kernelspec": {
   "display_name": "Python 3",
   "language": "python",
   "name": "python3"
  },
  "language_info": {
   "codemirror_mode": {
    "name": "ipython",
    "version": 3
   },
   "file_extension": ".py",
   "mimetype": "text/x-python",
   "name": "python",
   "nbconvert_exporter": "python",
   "pygments_lexer": "ipython3",
   "version": "3.8.10"
  }
 },
 "nbformat": 4,
 "nbformat_minor": 5
}
