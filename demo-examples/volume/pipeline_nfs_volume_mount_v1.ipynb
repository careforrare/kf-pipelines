{
 "cells": [
  {
   "cell_type": "markdown",
   "id": "2c3c5a76-2162-462a-beec-a64f0f5e9141",
   "metadata": {},
   "source": [
    "# About this Jupyter Notebook\n",
    "\n",
    "@author: Yingding Wang\n",
    "\n",
    "This notebook demonstrates how to mount a volume to the pipeline\n",
    "\n",
    "### Useful JupyterLab Basic\n",
    "\n",
    "Before start, you may consider to update the jupyterlab with the command\n",
    "\n",
    "<code>python\n",
    "!{sys.executable} -m pip install --upgrade --user jupyterlab    \n",
    "</code>  \n",
    "\n",
    "1. Autocomplete syntax with \"Tab\"\n",
    "2. View Doc String with \"Shift + Tab\"\n",
    "3. mark the code snippet -> select with right mouse -> Show Contextual Help (see the function code)"
   ]
  },
  {
   "cell_type": "code",
   "execution_count": 1,
   "id": "86486178-ffbe-4ee2-b4ef-42c2d3dc9386",
   "metadata": {},
   "outputs": [
    {
     "name": "stdout",
     "output_type": "stream",
     "text": [
      "Sys version: 3.8.10 | packaged by conda-forge | (default, May 11 2021, 07:01:05) \n",
      "[GCC 9.3.0]\n"
     ]
    }
   ],
   "source": [
    "import sys, os\n",
    "print(f\"Sys version: {sys.version}\")"
   ]
  },
  {
   "cell_type": "code",
   "execution_count": 2,
   "id": "ff9f8324-3b71-4ebf-8708-0858180f8b10",
   "metadata": {},
   "outputs": [
    {
     "name": "stdout",
     "output_type": "stream",
     "text": [
      "Requirement already satisfied: kfp==1.8.14 in /home/jovyan/.local/lib/python3.8/site-packages (1.8.14)\n",
      "Requirement already satisfied: kfp-server-api<2.0.0,>=1.1.2 in /home/jovyan/.local/lib/python3.8/site-packages (from kfp==1.8.14) (1.8.5)\n",
      "Requirement already satisfied: uritemplate<4,>=3.0.1 in /opt/conda/lib/python3.8/site-packages (from kfp==1.8.14) (3.0.1)\n",
      "Requirement already satisfied: requests-toolbelt<1,>=0.8.0 in /opt/conda/lib/python3.8/site-packages (from kfp==1.8.14) (0.10.0)\n",
      "Requirement already satisfied: jsonschema<4,>=3.0.1 in /opt/conda/lib/python3.8/site-packages (from kfp==1.8.14) (3.2.0)\n",
      "Requirement already satisfied: kubernetes<19,>=8.0.0 in /opt/conda/lib/python3.8/site-packages (from kfp==1.8.14) (12.0.1)\n",
      "Requirement already satisfied: click<9,>=7.1.2 in /opt/conda/lib/python3.8/site-packages (from kfp==1.8.14) (7.1.2)\n",
      "Requirement already satisfied: pydantic<2,>=1.8.2 in /home/jovyan/.local/lib/python3.8/site-packages (from kfp==1.8.14) (1.9.2)\n",
      "Requirement already satisfied: strip-hints<1,>=0.1.8 in /opt/conda/lib/python3.8/site-packages (from kfp==1.8.14) (0.1.10)\n",
      "Requirement already satisfied: cloudpickle<3,>=2.0.0 in /home/jovyan/.local/lib/python3.8/site-packages (from kfp==1.8.14) (2.2.0)\n",
      "Requirement already satisfied: PyYAML<6,>=5.3 in /opt/conda/lib/python3.8/site-packages (from kfp==1.8.14) (5.4.1)\n",
      "Requirement already satisfied: fire<1,>=0.3.1 in /opt/conda/lib/python3.8/site-packages (from kfp==1.8.14) (0.4.0)\n",
      "Requirement already satisfied: typing-extensions<5,>=3.7.4 in /home/jovyan/.local/lib/python3.8/site-packages (from kfp==1.8.14) (3.10.0.2)\n",
      "Requirement already satisfied: Deprecated<2,>=1.2.7 in /opt/conda/lib/python3.8/site-packages (from kfp==1.8.14) (1.2.13)\n",
      "Requirement already satisfied: typer<1.0,>=0.3.2 in /home/jovyan/.local/lib/python3.8/site-packages (from kfp==1.8.14) (0.6.1)\n",
      "Requirement already satisfied: tabulate<1,>=0.8.6 in /opt/conda/lib/python3.8/site-packages (from kfp==1.8.14) (0.9.0)\n",
      "Requirement already satisfied: google-api-core!=2.0.*,!=2.1.*,!=2.2.*,!=2.3.0,<3.0.0dev,>=1.31.5 in /opt/conda/lib/python3.8/site-packages (from kfp==1.8.14) (2.8.2)\n",
      "Requirement already satisfied: absl-py<2,>=0.9 in /opt/conda/lib/python3.8/site-packages (from kfp==1.8.14) (0.11.0)\n",
      "Requirement already satisfied: kfp-pipeline-spec<0.2.0,>=0.1.16 in /opt/conda/lib/python3.8/site-packages (from kfp==1.8.14) (0.1.16)\n",
      "Requirement already satisfied: protobuf<4,>=3.13.0 in /opt/conda/lib/python3.8/site-packages (from kfp==1.8.14) (3.17.3)\n",
      "Requirement already satisfied: docstring-parser<1,>=0.7.3 in /opt/conda/lib/python3.8/site-packages (from kfp==1.8.14) (0.15)\n",
      "Requirement already satisfied: google-api-python-client<2,>=1.7.8 in /opt/conda/lib/python3.8/site-packages (from kfp==1.8.14) (1.12.11)\n",
      "Requirement already satisfied: google-auth<2,>=1.6.1 in /opt/conda/lib/python3.8/site-packages (from kfp==1.8.14) (1.35.0)\n",
      "Requirement already satisfied: google-cloud-storage<2,>=1.20.0 in /opt/conda/lib/python3.8/site-packages (from kfp==1.8.14) (1.44.0)\n",
      "Requirement already satisfied: six in /opt/conda/lib/python3.8/site-packages (from absl-py<2,>=0.9->kfp==1.8.14) (1.16.0)\n",
      "Requirement already satisfied: wrapt<2,>=1.10 in /opt/conda/lib/python3.8/site-packages (from Deprecated<2,>=1.2.7->kfp==1.8.14) (1.14.1)\n",
      "Requirement already satisfied: termcolor in /opt/conda/lib/python3.8/site-packages (from fire<1,>=0.3.1->kfp==1.8.14) (2.0.1)\n",
      "Requirement already satisfied: googleapis-common-protos<2.0dev,>=1.56.2 in /opt/conda/lib/python3.8/site-packages (from google-api-core!=2.0.*,!=2.1.*,!=2.2.*,!=2.3.0,<3.0.0dev,>=1.31.5->kfp==1.8.14) (1.56.4)\n",
      "Requirement already satisfied: requests<3.0.0dev,>=2.18.0 in /opt/conda/lib/python3.8/site-packages (from google-api-core!=2.0.*,!=2.1.*,!=2.2.*,!=2.3.0,<3.0.0dev,>=1.31.5->kfp==1.8.14) (2.28.1)\n",
      "Requirement already satisfied: google-auth-httplib2>=0.0.3 in /opt/conda/lib/python3.8/site-packages (from google-api-python-client<2,>=1.7.8->kfp==1.8.14) (0.1.0)\n",
      "Requirement already satisfied: httplib2<1dev,>=0.15.0 in /opt/conda/lib/python3.8/site-packages (from google-api-python-client<2,>=1.7.8->kfp==1.8.14) (0.20.4)\n",
      "Requirement already satisfied: cachetools<5.0,>=2.0.0 in /opt/conda/lib/python3.8/site-packages (from google-auth<2,>=1.6.1->kfp==1.8.14) (4.2.4)\n",
      "Requirement already satisfied: setuptools>=40.3.0 in /opt/conda/lib/python3.8/site-packages (from google-auth<2,>=1.6.1->kfp==1.8.14) (65.4.1)\n",
      "Requirement already satisfied: rsa<5,>=3.1.4 in /opt/conda/lib/python3.8/site-packages (from google-auth<2,>=1.6.1->kfp==1.8.14) (4.9)\n",
      "Requirement already satisfied: pyasn1-modules>=0.2.1 in /opt/conda/lib/python3.8/site-packages (from google-auth<2,>=1.6.1->kfp==1.8.14) (0.2.8)\n",
      "Requirement already satisfied: google-resumable-media<3.0dev,>=1.3.0 in /opt/conda/lib/python3.8/site-packages (from google-cloud-storage<2,>=1.20.0->kfp==1.8.14) (2.4.0)\n",
      "Requirement already satisfied: google-cloud-core<3.0dev,>=1.6.0 in /opt/conda/lib/python3.8/site-packages (from google-cloud-storage<2,>=1.20.0->kfp==1.8.14) (2.3.2)\n",
      "Requirement already satisfied: attrs>=17.4.0 in /opt/conda/lib/python3.8/site-packages (from jsonschema<4,>=3.0.1->kfp==1.8.14) (22.1.0)\n",
      "Requirement already satisfied: pyrsistent>=0.14.0 in /opt/conda/lib/python3.8/site-packages (from jsonschema<4,>=3.0.1->kfp==1.8.14) (0.18.1)\n",
      "Requirement already satisfied: urllib3>=1.15 in /opt/conda/lib/python3.8/site-packages (from kfp-server-api<2.0.0,>=1.1.2->kfp==1.8.14) (1.26.11)\n",
      "Requirement already satisfied: python-dateutil in /opt/conda/lib/python3.8/site-packages (from kfp-server-api<2.0.0,>=1.1.2->kfp==1.8.14) (2.8.2)\n",
      "Requirement already satisfied: certifi in /opt/conda/lib/python3.8/site-packages (from kfp-server-api<2.0.0,>=1.1.2->kfp==1.8.14) (2022.9.24)\n",
      "Requirement already satisfied: websocket-client!=0.40.0,!=0.41.*,!=0.42.*,>=0.32.0 in /opt/conda/lib/python3.8/site-packages (from kubernetes<19,>=8.0.0->kfp==1.8.14) (1.4.1)\n",
      "Requirement already satisfied: requests-oauthlib in /opt/conda/lib/python3.8/site-packages (from kubernetes<19,>=8.0.0->kfp==1.8.14) (1.3.1)\n",
      "Requirement already satisfied: wheel in /opt/conda/lib/python3.8/site-packages (from strip-hints<1,>=0.1.8->kfp==1.8.14) (0.37.1)\n",
      "Requirement already satisfied: google-crc32c<2.0dev,>=1.0 in /opt/conda/lib/python3.8/site-packages (from google-resumable-media<3.0dev,>=1.3.0->google-cloud-storage<2,>=1.20.0->kfp==1.8.14) (1.5.0)\n",
      "Requirement already satisfied: pyparsing!=3.0.0,!=3.0.1,!=3.0.2,!=3.0.3,<4,>=2.4.2 in /opt/conda/lib/python3.8/site-packages (from httplib2<1dev,>=0.15.0->google-api-python-client<2,>=1.7.8->kfp==1.8.14) (3.0.9)\n",
      "Requirement already satisfied: pyasn1<0.5.0,>=0.4.6 in /opt/conda/lib/python3.8/site-packages (from pyasn1-modules>=0.2.1->google-auth<2,>=1.6.1->kfp==1.8.14) (0.4.8)\n",
      "Requirement already satisfied: charset-normalizer<3,>=2 in /opt/conda/lib/python3.8/site-packages (from requests<3.0.0dev,>=2.18.0->google-api-core!=2.0.*,!=2.1.*,!=2.2.*,!=2.3.0,<3.0.0dev,>=1.31.5->kfp==1.8.14) (2.1.1)\n",
      "Requirement already satisfied: idna<4,>=2.5 in /opt/conda/lib/python3.8/site-packages (from requests<3.0.0dev,>=2.18.0->google-api-core!=2.0.*,!=2.1.*,!=2.2.*,!=2.3.0,<3.0.0dev,>=1.31.5->kfp==1.8.14) (3.4)\n",
      "Requirement already satisfied: oauthlib>=3.0.0 in /opt/conda/lib/python3.8/site-packages (from requests-oauthlib->kubernetes<19,>=8.0.0->kfp==1.8.14) (3.2.1)\n"
     ]
    }
   ],
   "source": [
    "# uncomment to install the kfp\n",
    "!{sys.executable} -m pip install --upgrade --user kfp==1.8.14"
   ]
  },
  {
   "cell_type": "markdown",
   "id": "2f89db02-1d23-4fc1-8f1c-01f82f236cc5",
   "metadata": {},
   "source": [
    "# (optional step) Upgrade juypterlab\n",
    "Run the follow cell to upgrade the jupyterlab server and you need to restart the notebook to see effect"
   ]
  },
  {
   "cell_type": "code",
   "execution_count": 3,
   "id": "f98d1a1a-b0c5-403f-a477-d9d1bc8251e1",
   "metadata": {},
   "outputs": [
    {
     "name": "stdout",
     "output_type": "stream",
     "text": [
      "Name: jupyterlab\n",
      "Version: 3.4.3\n",
      "Summary: JupyterLab computational environment\n",
      "Home-page: https://jupyter.org\n",
      "Author: Jupyter Development Team\n",
      "Author-email: jupyter@googlegroups.com\n",
      "License: \n",
      "Location: /opt/conda/lib/python3.8/site-packages\n",
      "Requires: ipython, jinja2, jupyter-core, jupyter-server, jupyterlab-server, nbclassic, packaging, tornado\n",
      "Required-by: \n"
     ]
    }
   ],
   "source": [
    "!{sys.executable} -m pip show jupyterlab # 3.4.3\n",
    "# !{sys.executable} -m pip show jupyter_contrib_nbextensions"
   ]
  },
  {
   "cell_type": "code",
   "execution_count": 4,
   "id": "ef227937-980d-4e14-9256-667d5c11c397",
   "metadata": {},
   "outputs": [],
   "source": [
    "# update the jupyter lab\n",
    "#!{sys.executable} -m pip install --upgrade --user jupyterlab==3.4.3"
   ]
  },
  {
   "cell_type": "code",
   "execution_count": 5,
   "id": "6fc3c2bc-7c58-40a2-8ddb-99a1ed819657",
   "metadata": {},
   "outputs": [],
   "source": [
    "# update the jupyter lab\n",
    "# uncomment the following command to update juypterlab\n",
    "# !{sys.executable} -m pip install --upgrade --user jupyterlab==3.4.3"
   ]
  },
  {
   "cell_type": "markdown",
   "id": "fecf8eb3-f9e1-4042-8aee-b7625179d191",
   "metadata": {},
   "source": [
    "## (optional) Restart your notebook server in Kubeflow by stop and start"
   ]
  },
  {
   "cell_type": "markdown",
   "id": "9ebc79e9-4ff1-40ab-9042-c1b41016acf4",
   "metadata": {},
   "source": [
    "(optional) Upgrade your kfp-server-api\n",
    "\n",
    "Should you see a headtoken issue while starting the kubeflow pipeline from your notebook. Please execute this optional step to upgrade the kfp-server-api to match the kubeflow pipeline backend\n"
   ]
  },
  {
   "cell_type": "code",
   "execution_count": 6,
   "id": "124b6038-4b11-431a-a8bf-2f3878124528",
   "metadata": {},
   "outputs": [
    {
     "name": "stdout",
     "output_type": "stream",
     "text": [
      "kfp                      1.8.14\n",
      "kfp-pipeline-spec        0.1.16\n",
      "kfp-server-api           1.8.5\n"
     ]
    }
   ],
   "source": [
    "# show the kfp-server-api version, 1.7.0 for kf 1.4, 1.7.1 for kf 1.4.1 and 1.8.1 for kf 1.5.0\n",
    "!{sys.executable} -m pip list | grep kfp"
   ]
  },
  {
   "cell_type": "code",
   "execution_count": 7,
   "id": "0501c7de-8b37-4b2b-a090-4bdab08ea06c",
   "metadata": {},
   "outputs": [
    {
     "data": {
      "text/plain": [
       "'upgrade the kfp server api version to 1.8.1 for KF 1.5'"
      ]
     },
     "execution_count": 7,
     "metadata": {},
     "output_type": "execute_result"
    }
   ],
   "source": [
    "\"\"\"upgrade the kfp server api version to 1.7.0 for KF 1.4\"\"\"\n",
    "# !{sys.executable} -m pip uninstall -y kfp-server-api\n",
    "# !{sys.executable} -m pip install --user --upgrade kfp-server-api==1.7.0\n",
    "\"\"\"upgrade the kfp server api version to 1.8.1 for KF 1.5\"\"\"\n",
    "# !{sys.executable} -m pip uninstall -y kfp-server-api\n",
    "# !{sys.executable} -m pip install --user --upgrade kfp-server-api==1.8.1"
   ]
  },
  {
   "cell_type": "code",
   "execution_count": 8,
   "id": "5e2ca499-fa75-421e-9556-1592eb4222cc",
   "metadata": {},
   "outputs": [],
   "source": [
    "# import sys\n",
    "# !{sys.executable} -m pip install --upgrade --user kfp==1.8.12\n",
    "# !{sys.executable} -m pip install --upgrade --user kubernetes==18.20.0"
   ]
  },
  {
   "cell_type": "markdown",
   "id": "d0b9ac69-447f-48d6-8c60-af8354da77c4",
   "metadata": {},
   "source": [
    "# Restart the kernal\n",
    "After update the kfp, restart this notebook kernel\n",
    "\n",
    "Jupyter notebook: Meun -> Kernel -> restart kernel"
   ]
  },
  {
   "cell_type": "markdown",
   "id": "f6f5b4f4-ba6b-4e59-b66d-c237046b4d2c",
   "metadata": {},
   "source": [
    "### Check my KubeFlow namespace total resource limits"
   ]
  },
  {
   "cell_type": "code",
   "execution_count": 9,
   "id": "36881723-2f81-40ce-a58a-68742e339edc",
   "metadata": {},
   "outputs": [
    {
     "name": "stdout",
     "output_type": "stream",
     "text": [
      "Name:                                                                 kf-resource-quota\n",
      "Namespace:                                                            kubeflow-kindfor\n",
      "Resource                                                              Used    Hard\n",
      "--------                                                              ----    ----\n",
      "cpu                                                                   3090m   36\n",
      "csi-s3.storageclass.storage.k8s.io/persistentvolumeclaims             0       10\n",
      "csi-s3.storageclass.storage.k8s.io/requests.storage                   0       2Ti\n",
      "kubeflow-nfs-csi.storageclass.storage.k8s.io/persistentvolumeclaims   2       20\n",
      "kubeflow-nfs-csi.storageclass.storage.k8s.io/requests.storage         20Gi    4Ti\n",
      "memory                                                                4486Mi  520Gi\n",
      "microk8s-hostpath.storageclass.storage.k8s.io/persistentvolumeclaims  0       5\n",
      "microk8s-hostpath.storageclass.storage.k8s.io/requests.storage        0       20Gi\n",
      "minio-nfs-csi.storageclass.storage.k8s.io/persistentvolumeclaims      1       20\n",
      "minio-nfs-csi.storageclass.storage.k8s.io/requests.storage            200Gi   10Ti\n"
     ]
    }
   ],
   "source": [
    "# run command line to see the quota\n",
    "!kubectl describe quota"
   ]
  },
  {
   "cell_type": "markdown",
   "id": "f3c0730d-418e-4771-b584-7f54e6551037",
   "metadata": {},
   "source": [
    "## Setup\n",
    "Example Pipeline from\n",
    "\n",
    "https://github.com/kubeflow/examples/tree/master/pipelines/simple-notebook-pipeline\n",
    "\n",
    "## Getting started with Python function-based components\n",
    "\n",
    "https://www.kubeflow.org/docs/components/pipelines/sdk/python-function-components/"
   ]
  },
  {
   "cell_type": "code",
   "execution_count": 10,
   "id": "8ea41301-b0c0-44bb-8fbb-5179de2e5f6d",
   "metadata": {},
   "outputs": [],
   "source": [
    "from platform import python_version\n",
    "\n",
    "EXPERIMENT_NAME = 'kf v1.5 test'        # Name of the experiment in the UI\n",
    "EXPERIMENT_DESC = 'testing KF platform'\n",
    "# BASE_IMAGE = f\"library/python:{python_version()}\" # Base image used for components in the pipeline, which has not root\n",
    "BASE_IMAGE = \"python:3.8.13\"\n",
    "NAME_SPACE = \"kubeflow-kindfor\" # change namespace if necessary"
   ]
  },
  {
   "cell_type": "code",
   "execution_count": 11,
   "id": "2aec3bba-89f9-42ed-8053-92f7dd11ac0e",
   "metadata": {},
   "outputs": [],
   "source": [
    "import kfp\n",
    "import kubernetes\n",
    "import kfp.dsl as dsl\n",
    "import kfp.compiler as compiler\n",
    "import kfp.components as components\n",
    "from kfp.dsl import PipelineVolume"
   ]
  },
  {
   "cell_type": "markdown",
   "id": "64e508d7-7586-4000-ad24-4b63923d269b",
   "metadata": {},
   "source": [
    "## Connecting KFP Python SDK from Notebook to Pipeline\n",
    "\n",
    "* https://www.kubeflow.org/docs/components/pipelines/sdk/connect-api/"
   ]
  },
  {
   "cell_type": "code",
   "execution_count": 12,
   "id": "23f373b8-831b-4394-8113-b665f4f9fb4a",
   "metadata": {},
   "outputs": [
    {
     "name": "stdout",
     "output_type": "stream",
     "text": [
      "1.8.14\n",
      "12.0.1\n"
     ]
    }
   ],
   "source": [
    "print(kfp.__version__)\n",
    "print(kubernetes.__version__)"
   ]
  },
  {
   "cell_type": "markdown",
   "id": "079d5bae-333b-4372-ac76-df4cd2aa2005",
   "metadata": {},
   "source": [
    "### Create component from function\n",
    "\n",
    "https://kubeflow-pipelines.readthedocs.io/en/latest/source/kfp.components.html\n"
   ]
  },
  {
   "cell_type": "code",
   "execution_count": 13,
   "id": "4894220f-cef5-4b57-9789-f104af7a603c",
   "metadata": {},
   "outputs": [],
   "source": [
    "from kfp.components import create_component_from_func\n",
    "from functools import partial\n",
    "@partial(\n",
    "    create_component_from_func,\n",
    "    output_component_file='add_component.yaml',\n",
    "    base_image=BASE_IMAGE,\n",
    "    packages_to_install=None # can't use [\"\"] as requiremnt, either None or [\"pandas\"], \n",
    ")\n",
    "def add_op(a: float, b: float) -> float:\n",
    "    '''Calculates sum of two arguments'''\n",
    "    print(a, '+', b, '=', a + b)\n",
    "    return a + b"
   ]
  },
  {
   "cell_type": "code",
   "execution_count": 14,
   "id": "04d61509-684c-4843-a0f5-6ec7b09ffc60",
   "metadata": {},
   "outputs": [],
   "source": [
    "@components.create_component_from_func\n",
    "def write_to_volume(sum: float):\n",
    "    with open(\"/mnt/file.txt\", \"w\") as file:\n",
    "        file.write(f\"The total sum is: {sum}\")"
   ]
  },
  {
   "cell_type": "markdown",
   "id": "d62b7fb4-5a09-450c-9e4c-7c391a7eacc0",
   "metadata": {
    "tags": []
   },
   "source": [
    "## Define function to restrict ContainerOp resource for kfp with multi-tenancy¶\n",
    "\n",
    "Add memory and cpu restriction: \n",
    "* https://github.com/kubeflow/pipelines/pull/5695"
   ]
  },
  {
   "cell_type": "code",
   "execution_count": 15,
   "id": "68800bc5-228e-4f7e-a94b-3e92b6d32725",
   "metadata": {},
   "outputs": [],
   "source": [
    "from kfp.dsl import ContainerOp\n",
    "def pod_resource_transformer(op: ContainerOp, mem_req=\"200Mi\", cpu_req=\"2000m\", mem_lim=\"1000Mi\", cpu_lim='2000m'):\n",
    "    \"\"\"\n",
    "    op.set_memory_limit('1000Mi') = 1GB\n",
    "    op.set_cpu_limit('1000m') = 1 cpu core\n",
    "    \"\"\"\n",
    "    return op.set_memory_request(mem_req)\\\n",
    "            .set_memory_limit(mem_lim)\\\n",
    "            .set_cpu_request(cpu_req)\\\n",
    "            .set_cpu_limit(cpu_lim)"
   ]
  },
  {
   "cell_type": "markdown",
   "id": "0b8c1aa8-fe60-45a2-abc1-383cf8e3249d",
   "metadata": {},
   "source": [
    "### volume example\n",
    "https://www.kubeflow.org/docs/components/pipelines/sdk/manipulate-resources/#persistent-volume-claims-pvcs\n",
    "\n",
    "https://github.com/kubeflow/pipelines/blob/sdk/release-1.8/samples/core/volume_ops/volume_ops.py@components.create_component_from_func\n",
    "def write_to_volume():\n",
    "    with open(\"/mnt/file.txt\", \"w\") as file:\n",
    "        file.write(\"Hello world\")"
   ]
  },
  {
   "cell_type": "code",
   "execution_count": 16,
   "id": "16cfd03b-2127-4722-a099-d6efeb9900e6",
   "metadata": {},
   "outputs": [],
   "source": [
    "@dsl.pipeline(\n",
    "   name='Calculation pipeline', \n",
    "   description='A toy pipeline that performs arithmetic calculations.'\n",
    ")\n",
    "def calc_pipeline(\n",
    "   a: float =0,\n",
    "   b: float =7\n",
    "):  \n",
    "    # get a volume\n",
    "    single_cell_volume = PipelineVolume(\"single-cell-nfs-minio-pvc\") # previously created volume\n",
    "    \n",
    "    # Passing pipeline parameter and a constant value as operation arguments\n",
    "    first_add_task = pod_resource_transformer(add_op(a, 4), cpu_req=\"500m\")\n",
    "    # no value taken from cache\n",
    "    first_add_task.execution_options.caching_strategy.max_cache_staleness = \"P0D\"\n",
    "    first_add_task.set_display_name(\"add two number\")\n",
    "    # first_add_task.add_pvolumes({\"/mnt\": single_cell_volume})\n",
    "    second_add_task = pod_resource_transformer(add_op(first_add_task.output, b), cpu_req=\"500m\")\n",
    "    # no cache \n",
    "    second_add_task.execution_options.caching_strategy.max_cache_staleness = \"P0D\"\n",
    "    second_add_task.set_display_name(\"add two number again\")\n",
    "    # second_add_task.add_pvolumes({\"/mnt\": single_cell_volume})\n",
    "    \n",
    "    save_task = pod_resource_transformer(write_to_volume(second_add_task.output), cpu_req=\"500m\")\n",
    "    save_task.set_display_name(\"save to nfs volume\")\n",
    "    save_task.add_pvolumes({\"/mnt\": single_cell_volume})\n",
    "    save_task.execution_options.caching_strategy.max_cache_staleness = \"P0D\"\n",
    "    "
   ]
  },
  {
   "cell_type": "markdown",
   "id": "a422d04f-448a-4fc2-90cd-2069addb7a7a",
   "metadata": {},
   "source": [
    "### (optional step) Compile the pipeline to see the settings"
   ]
  },
  {
   "cell_type": "code",
   "execution_count": 17,
   "id": "ec63e50d-81d8-4012-9a75-1375ac9a5aa0",
   "metadata": {},
   "outputs": [],
   "source": [
    "PIPE_LINE_FILE_NAME=\"calc_pipeline_with_resource_limit\"\n",
    "kfp.compiler.Compiler().compile(calc_pipeline, f\"{PIPE_LINE_FILE_NAME}.yaml\")"
   ]
  },
  {
   "cell_type": "markdown",
   "id": "d2094a2a-3803-4f6c-8535-3d7d51a18d17",
   "metadata": {},
   "source": [
    "# Run Pipeline with Multi-user Isolation\n",
    "\n",
    "https://www.kubeflow.org/docs/components/pipelines/multi-user/"
   ]
  },
  {
   "cell_type": "code",
   "execution_count": 18,
   "id": "c00f3e39-e482-4bb7-a405-289ff90b304d",
   "metadata": {},
   "outputs": [],
   "source": [
    "# get the pipeline host from env set up be the notebook instance\n",
    "client = kfp.Client()\n",
    "\n",
    "# Make sure the volume is mounted /run/secrets/kubeflow/pipelines \n",
    "# client.get_experiment(experiment_name=EXPERIMENT_NAME, namespace=NAME_SPACE)"
   ]
  },
  {
   "cell_type": "code",
   "execution_count": 19,
   "id": "7e3333eb-a26e-4d63-8266-c07b8b89000d",
   "metadata": {},
   "outputs": [],
   "source": [
    "# client.list_pipelines()"
   ]
  },
  {
   "cell_type": "code",
   "execution_count": 20,
   "id": "28776cec-8e3b-4320-b27f-8534d8d21bf4",
   "metadata": {},
   "outputs": [
    {
     "name": "stdout",
     "output_type": "stream",
     "text": [
      "kubeflow-kindfor\n"
     ]
    }
   ],
   "source": [
    "# print(NAME_SPACE)\n",
    "# client.list_experiments(namespace=NAME_SPACE)\n",
    "client.set_user_namespace(NAME_SPACE)\n",
    "print(client.get_user_namespace())"
   ]
  },
  {
   "cell_type": "code",
   "execution_count": 21,
   "id": "892ebf35-5eb6-44fb-b60f-abbb82f15cc3",
   "metadata": {},
   "outputs": [
    {
     "data": {
      "text/html": [
       "<a href=\"/pipeline/#/experiments/details/7b481432-7a22-4556-8fac-3fa5da7addc1\" target=\"_blank\" >Experiment details</a>."
      ],
      "text/plain": [
       "<IPython.core.display.HTML object>"
      ]
     },
     "metadata": {},
     "output_type": "display_data"
    }
   ],
   "source": [
    "exp = client.create_experiment(EXPERIMENT_NAME, description=EXPERIMENT_DESC)"
   ]
  },
  {
   "cell_type": "code",
   "execution_count": 22,
   "id": "95cad574-8d0b-45b6-bd85-b4b3b6857eba",
   "metadata": {
    "tags": []
   },
   "outputs": [
    {
     "data": {
      "text/html": [
       "<a href=\"/pipeline/#/experiments/details/7b481432-7a22-4556-8fac-3fa5da7addc1\" target=\"_blank\" >Experiment details</a>."
      ],
      "text/plain": [
       "<IPython.core.display.HTML object>"
      ]
     },
     "metadata": {},
     "output_type": "display_data"
    },
    {
     "data": {
      "text/html": [
       "<a href=\"/pipeline/#/runs/details/3663ac74-7a3a-4cd5-982d-56cad7de5e63\" target=\"_blank\" >Run details</a>."
      ],
      "text/plain": [
       "<IPython.core.display.HTML object>"
      ]
     },
     "metadata": {},
     "output_type": "display_data"
    },
    {
     "data": {
      "text/plain": [
       "RunPipelineResult(run_id=3663ac74-7a3a-4cd5-982d-56cad7de5e63)"
      ]
     },
     "execution_count": 22,
     "metadata": {},
     "output_type": "execute_result"
    }
   ],
   "source": [
    "# Specify pipeline argument values\n",
    "arguments = {'a': '7', 'b': '8'}\n",
    "\n",
    "# added a default pod transformer to all the pipeline ops\n",
    "pipeline_config: dsl.PipelineConf = dsl.PipelineConf()\n",
    "\n",
    "#pipeline_config.add_op_transformer(\n",
    "#    pod_defaults_transformer\n",
    "#)\n",
    "\n",
    "client.create_run_from_pipeline_func(pipeline_func=calc_pipeline, \n",
    "                                     arguments=arguments,\n",
    "                                     experiment_name=EXPERIMENT_NAME, \n",
    "                                     namespace=NAME_SPACE,\n",
    "                                     pipeline_conf=pipeline_config,\n",
    "                                     mode = dsl.PipelineExecutionMode.V1_LEGACY)\n",
    "\n",
    "# The generated links below lead to the Experiment page and the pipeline run details page, respectively"
   ]
  },
  {
   "cell_type": "code",
   "execution_count": null,
   "id": "7f206640-5a42-4bec-99a7-69e81755eae5",
   "metadata": {},
   "outputs": [],
   "source": []
  }
 ],
 "metadata": {
  "kernelspec": {
   "display_name": "Python 3 (ipykernel)",
   "language": "python",
   "name": "python3"
  },
  "language_info": {
   "codemirror_mode": {
    "name": "ipython",
    "version": 3
   },
   "file_extension": ".py",
   "mimetype": "text/x-python",
   "name": "python",
   "nbconvert_exporter": "python",
   "pygments_lexer": "ipython3",
   "version": "3.8.10"
  },
  "toc-autonumbering": false,
  "toc-showmarkdowntxt": true
 },
 "nbformat": 4,
 "nbformat_minor": 5
}
