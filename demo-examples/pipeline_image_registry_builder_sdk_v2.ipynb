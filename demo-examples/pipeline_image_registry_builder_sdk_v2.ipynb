{
 "cells": [
  {
   "cell_type": "markdown",
   "id": "96fad886-efb5-4408-8564-abd7316eb5b6",
   "metadata": {
    "tags": []
   },
   "source": [
    "# About this Jupyter Notebook\n",
    "\n",
    "@author: Yingding Wang\n",
    "\n",
    "This notebook demonstrates fetching image from a private container registry from a Python KF pipeline SDK v2"
   ]
  },
  {
   "cell_type": "code",
   "execution_count": 1,
   "id": "7edab136-65c2-4b8e-800e-86e3b413f9b7",
   "metadata": {
    "tags": []
   },
   "outputs": [],
   "source": [
    "import sys"
   ]
  },
  {
   "cell_type": "markdown",
   "id": "2f5e555d-529b-4f45-a9f0-bc62eeabcd92",
   "metadata": {
    "tags": []
   },
   "source": [
    "# Install kfp to build a pipeline\n",
    "* Build KF pipeline with SDK: https://www.kubeflow.org/docs/components/pipelines/sdk/build-pipeline/\n",
    "* Current KFP SDK version on pypi.org: https://pypi.org/project/kfp/ "
   ]
  },
  {
   "cell_type": "code",
   "execution_count": 2,
   "id": "750f371b-184e-4b6e-884b-061c7489daa3",
   "metadata": {},
   "outputs": [
    {
     "name": "stdout",
     "output_type": "stream",
     "text": [
      "Requirement already satisfied: kfp==1.8.12 in /home/jovyan/.local/lib/python3.8/site-packages (1.8.12)\n",
      "Requirement already satisfied: google-api-core!=2.0.*,!=2.1.*,!=2.2.*,!=2.3.0,<3.0.0dev,>=1.31.5 in /opt/conda/lib/python3.8/site-packages (from kfp==1.8.12) (2.7.1)\n",
      "Requirement already satisfied: pydantic<2,>=1.8.2 in /home/jovyan/.local/lib/python3.8/site-packages (from kfp==1.8.12) (1.9.1)\n",
      "Requirement already satisfied: click<9,>=7.1.2 in /opt/conda/lib/python3.8/site-packages (from kfp==1.8.12) (7.1.2)\n",
      "Requirement already satisfied: jsonschema<4,>=3.0.1 in /opt/conda/lib/python3.8/site-packages (from kfp==1.8.12) (3.2.0)\n",
      "Requirement already satisfied: Deprecated<2,>=1.2.7 in /opt/conda/lib/python3.8/site-packages (from kfp==1.8.12) (1.2.13)\n",
      "Requirement already satisfied: google-auth<2,>=1.6.1 in /opt/conda/lib/python3.8/site-packages (from kfp==1.8.12) (1.35.0)\n",
      "Requirement already satisfied: typer<1.0,>=0.3.2 in /home/jovyan/.local/lib/python3.8/site-packages (from kfp==1.8.12) (0.4.1)\n",
      "Requirement already satisfied: kubernetes<19,>=8.0.0 in /opt/conda/lib/python3.8/site-packages (from kfp==1.8.12) (12.0.1)\n",
      "Requirement already satisfied: fire<1,>=0.3.1 in /opt/conda/lib/python3.8/site-packages (from kfp==1.8.12) (0.4.0)\n",
      "Requirement already satisfied: kfp-server-api<2.0.0,>=1.1.2 in /home/jovyan/.local/lib/python3.8/site-packages (from kfp==1.8.12) (1.8.1)\n",
      "Requirement already satisfied: strip-hints<1,>=0.1.8 in /opt/conda/lib/python3.8/site-packages (from kfp==1.8.12) (0.1.10)\n",
      "Requirement already satisfied: google-cloud-storage<2,>=1.20.0 in /opt/conda/lib/python3.8/site-packages (from kfp==1.8.12) (1.44.0)\n",
      "Requirement already satisfied: uritemplate<4,>=3.0.1 in /opt/conda/lib/python3.8/site-packages (from kfp==1.8.12) (3.0.1)\n",
      "Requirement already satisfied: cloudpickle<3,>=2.0.0 in /home/jovyan/.local/lib/python3.8/site-packages (from kfp==1.8.12) (2.1.0)\n",
      "Requirement already satisfied: kfp-pipeline-spec<0.2.0,>=0.1.14 in /home/jovyan/.local/lib/python3.8/site-packages (from kfp==1.8.12) (0.1.16)\n",
      "Requirement already satisfied: protobuf<4,>=3.13.0 in /opt/conda/lib/python3.8/site-packages (from kfp==1.8.12) (3.17.3)\n",
      "Requirement already satisfied: tabulate<1,>=0.8.6 in /opt/conda/lib/python3.8/site-packages (from kfp==1.8.12) (0.8.9)\n",
      "Requirement already satisfied: absl-py<2,>=0.9 in /opt/conda/lib/python3.8/site-packages (from kfp==1.8.12) (0.11.0)\n",
      "Requirement already satisfied: PyYAML<6,>=5.3 in /opt/conda/lib/python3.8/site-packages (from kfp==1.8.12) (5.4.1)\n",
      "Requirement already satisfied: docstring-parser<1,>=0.7.3 in /opt/conda/lib/python3.8/site-packages (from kfp==1.8.12) (0.13)\n",
      "Requirement already satisfied: typing-extensions<4,>=3.7.4 in /home/jovyan/.local/lib/python3.8/site-packages (from kfp==1.8.12) (3.10.0.2)\n",
      "Requirement already satisfied: google-api-python-client<2,>=1.7.8 in /opt/conda/lib/python3.8/site-packages (from kfp==1.8.12) (1.12.10)\n",
      "Requirement already satisfied: requests-toolbelt<1,>=0.8.0 in /opt/conda/lib/python3.8/site-packages (from kfp==1.8.12) (0.9.1)\n",
      "Requirement already satisfied: six in /opt/conda/lib/python3.8/site-packages (from absl-py<2,>=0.9->kfp==1.8.12) (1.16.0)\n",
      "Requirement already satisfied: wrapt<2,>=1.10 in /opt/conda/lib/python3.8/site-packages (from Deprecated<2,>=1.2.7->kfp==1.8.12) (1.13.3)\n",
      "Requirement already satisfied: termcolor in /opt/conda/lib/python3.8/site-packages (from fire<1,>=0.3.1->kfp==1.8.12) (1.1.0)\n",
      "Requirement already satisfied: requests<3.0.0dev,>=2.18.0 in /opt/conda/lib/python3.8/site-packages (from google-api-core!=2.0.*,!=2.1.*,!=2.2.*,!=2.3.0,<3.0.0dev,>=1.31.5->kfp==1.8.12) (2.25.1)\n",
      "Requirement already satisfied: googleapis-common-protos<2.0dev,>=1.52.0 in /opt/conda/lib/python3.8/site-packages (from google-api-core!=2.0.*,!=2.1.*,!=2.2.*,!=2.3.0,<3.0.0dev,>=1.31.5->kfp==1.8.12) (1.55.0)\n",
      "Requirement already satisfied: httplib2<1dev,>=0.15.0 in /opt/conda/lib/python3.8/site-packages (from google-api-python-client<2,>=1.7.8->kfp==1.8.12) (0.20.4)\n",
      "Requirement already satisfied: google-auth-httplib2>=0.0.3 in /opt/conda/lib/python3.8/site-packages (from google-api-python-client<2,>=1.7.8->kfp==1.8.12) (0.1.0)\n",
      "Requirement already satisfied: setuptools>=40.3.0 in /opt/conda/lib/python3.8/site-packages (from google-auth<2,>=1.6.1->kfp==1.8.12) (49.6.0.post20210108)\n",
      "Requirement already satisfied: pyasn1-modules>=0.2.1 in /opt/conda/lib/python3.8/site-packages (from google-auth<2,>=1.6.1->kfp==1.8.12) (0.2.8)\n",
      "Requirement already satisfied: cachetools<5.0,>=2.0.0 in /opt/conda/lib/python3.8/site-packages (from google-auth<2,>=1.6.1->kfp==1.8.12) (4.2.4)\n",
      "Requirement already satisfied: rsa<5,>=3.1.4 in /opt/conda/lib/python3.8/site-packages (from google-auth<2,>=1.6.1->kfp==1.8.12) (4.8)\n",
      "Requirement already satisfied: google-cloud-core<3.0dev,>=1.6.0 in /opt/conda/lib/python3.8/site-packages (from google-cloud-storage<2,>=1.20.0->kfp==1.8.12) (2.2.3)\n",
      "Requirement already satisfied: google-resumable-media<3.0dev,>=1.3.0 in /opt/conda/lib/python3.8/site-packages (from google-cloud-storage<2,>=1.20.0->kfp==1.8.12) (2.3.2)\n",
      "Requirement already satisfied: google-crc32c<2.0dev,>=1.0 in /opt/conda/lib/python3.8/site-packages (from google-resumable-media<3.0dev,>=1.3.0->google-cloud-storage<2,>=1.20.0->kfp==1.8.12) (1.3.0)\n",
      "Requirement already satisfied: pyparsing!=3.0.0,!=3.0.1,!=3.0.2,!=3.0.3,<4,>=2.4.2 in /opt/conda/lib/python3.8/site-packages (from httplib2<1dev,>=0.15.0->google-api-python-client<2,>=1.7.8->kfp==1.8.12) (2.4.7)\n",
      "Requirement already satisfied: attrs>=17.4.0 in /opt/conda/lib/python3.8/site-packages (from jsonschema<4,>=3.0.1->kfp==1.8.12) (21.2.0)\n",
      "Requirement already satisfied: pyrsistent>=0.14.0 in /opt/conda/lib/python3.8/site-packages (from jsonschema<4,>=3.0.1->kfp==1.8.12) (0.17.3)\n",
      "Requirement already satisfied: urllib3>=1.15 in /opt/conda/lib/python3.8/site-packages (from kfp-server-api<2.0.0,>=1.1.2->kfp==1.8.12) (1.26.5)\n",
      "Requirement already satisfied: python-dateutil in /opt/conda/lib/python3.8/site-packages (from kfp-server-api<2.0.0,>=1.1.2->kfp==1.8.12) (2.8.1)\n",
      "Requirement already satisfied: certifi in /opt/conda/lib/python3.8/site-packages (from kfp-server-api<2.0.0,>=1.1.2->kfp==1.8.12) (2021.5.30)\n",
      "Requirement already satisfied: requests-oauthlib in /opt/conda/lib/python3.8/site-packages (from kubernetes<19,>=8.0.0->kfp==1.8.12) (1.3.1)\n",
      "Requirement already satisfied: websocket-client!=0.40.0,!=0.41.*,!=0.42.*,>=0.32.0 in /opt/conda/lib/python3.8/site-packages (from kubernetes<19,>=8.0.0->kfp==1.8.12) (1.0.1)\n",
      "Requirement already satisfied: pyasn1<0.5.0,>=0.4.6 in /opt/conda/lib/python3.8/site-packages (from pyasn1-modules>=0.2.1->google-auth<2,>=1.6.1->kfp==1.8.12) (0.4.8)\n",
      "Requirement already satisfied: idna<3,>=2.5 in /opt/conda/lib/python3.8/site-packages (from requests<3.0.0dev,>=2.18.0->google-api-core!=2.0.*,!=2.1.*,!=2.2.*,!=2.3.0,<3.0.0dev,>=1.31.5->kfp==1.8.12) (2.10)\n",
      "Requirement already satisfied: chardet<5,>=3.0.2 in /opt/conda/lib/python3.8/site-packages (from requests<3.0.0dev,>=2.18.0->google-api-core!=2.0.*,!=2.1.*,!=2.2.*,!=2.3.0,<3.0.0dev,>=1.31.5->kfp==1.8.12) (4.0.0)\n",
      "Requirement already satisfied: wheel in /opt/conda/lib/python3.8/site-packages (from strip-hints<1,>=0.1.8->kfp==1.8.12) (0.36.2)\n",
      "Requirement already satisfied: oauthlib>=3.0.0 in /opt/conda/lib/python3.8/site-packages (from requests-oauthlib->kubernetes<19,>=8.0.0->kfp==1.8.12) (3.2.0)\n"
     ]
    }
   ],
   "source": [
    "!{sys.executable} -m pip install --upgrade --user kfp==1.8.12"
   ]
  },
  {
   "cell_type": "code",
   "execution_count": 3,
   "id": "67821982-2e73-4810-80f3-e6250f8544a0",
   "metadata": {},
   "outputs": [
    {
     "name": "stdout",
     "output_type": "stream",
     "text": [
      "Name: kubernetes\n",
      "Version: 12.0.1\n",
      "Summary: Kubernetes python client\n",
      "Home-page: https://github.com/kubernetes-client/python\n",
      "Author: Kubernetes\n",
      "Author-email: \n",
      "License: Apache License Version 2.0\n",
      "Location: /opt/conda/lib/python3.8/site-packages\n",
      "Requires: python-dateutil, setuptools, six, google-auth, certifi, requests-oauthlib, urllib3, requests, pyyaml, websocket-client\n",
      "Required-by: kfp, kfserving\n"
     ]
    }
   ],
   "source": [
    "!{sys.executable} -m pip show kubernetes"
   ]
  },
  {
   "cell_type": "markdown",
   "id": "0228a40b-2e3d-4461-880e-e3ab4104a433",
   "metadata": {},
   "source": [
    "Name: kubernetes\n",
    "Version: 12.0.1\n",
    "Summary: Kubernetes python client\n",
    "Home-page: https://github.com/kubernetes-client/python\n",
    "Author: Kubernetes\n",
    "Author-email: \n",
    "License: Apache License Version 2.0\n",
    "Location: /opt/conda/lib/python3.8/site-packages\n",
    "Requires: pyyaml, requests-oauthlib, setuptools, certifi, six, urllib3, websocket-client, google-auth, requests, python-dateutil\n",
    "Required-by: kfp, kfserving"
   ]
  },
  {
   "cell_type": "markdown",
   "id": "404635e5-8e18-426d-a39c-01280bd9274f",
   "metadata": {},
   "source": [
    "## Restart the Kernal"
   ]
  },
  {
   "cell_type": "code",
   "execution_count": 4,
   "id": "c695ff05-98f3-434d-baf5-b9715795ed8c",
   "metadata": {},
   "outputs": [
    {
     "name": "stdout",
     "output_type": "stream",
     "text": [
      "current platform python version: 3.8.10\n"
     ]
    }
   ],
   "source": [
    "from platform import python_version\n",
    "print (f\"current platform python version: {python_version()}\")"
   ]
  },
  {
   "cell_type": "code",
   "execution_count": 5,
   "id": "7775ec61-9d41-4dfd-98a3-1230c007507c",
   "metadata": {},
   "outputs": [
    {
     "name": "stdout",
     "output_type": "stream",
     "text": [
      "Name:                                                                 kf-resource-quota\n",
      "Namespace:                                                            kubeflow-kindfor\n",
      "Resource                                                              Used    Hard\n",
      "--------                                                              ----    ----\n",
      "cpu                                                                   2090m   18\n",
      "csi-s3.storageclass.storage.k8s.io/persistentvolumeclaims             0       10\n",
      "csi-s3.storageclass.storage.k8s.io/requests.storage                   0       2Ti\n",
      "kubeflow-nfs-csi.storageclass.storage.k8s.io/persistentvolumeclaims   1       20\n",
      "kubeflow-nfs-csi.storageclass.storage.k8s.io/requests.storage         5Gi     4Ti\n",
      "memory                                                                4486Mi  140Gi\n",
      "microk8s-hostpath.storageclass.storage.k8s.io/persistentvolumeclaims  0       5\n",
      "microk8s-hostpath.storageclass.storage.k8s.io/requests.storage        0       20Gi\n",
      "minio-nfs-csi.storageclass.storage.k8s.io/persistentvolumeclaims      1       20\n",
      "minio-nfs-csi.storageclass.storage.k8s.io/requests.storage            1Ti     2Ti\n"
     ]
    }
   ],
   "source": [
    "# run kubectl command line to see the quota in the name space\n",
    "!kubectl describe quota"
   ]
  },
  {
   "cell_type": "markdown",
   "id": "f5e2bf37-5558-4557-b1ce-451d173a71b2",
   "metadata": {},
   "source": [
    "## Create K8s secret\n",
    "* k8s python client API doc: https://github.com/kubernetes-client/python"
   ]
  },
  {
   "cell_type": "code",
   "execution_count": 6,
   "id": "d19e16b8-5797-4041-8b24-2c4e5c0263cc",
   "metadata": {},
   "outputs": [],
   "source": [
    "from kubernetes import client as k8s_client\n",
    "from kubernetes import config as k8s_config\n",
    "\n",
    "K8_NAME_SPACE = 'kubeflow-kindfor'\n",
    "K8_GIT_SECRET_NAME = 'lrzgit-kindfor-playground'"
   ]
  },
  {
   "cell_type": "markdown",
   "id": "ee3e2c4b-6237-43bc-97c0-6b02e530f459",
   "metadata": {},
   "source": [
    "### Construct an empty k8s V1Object Reference\n",
    "\n",
    "Use the following line to construct an empty K8s V1Object for KFP Python SDK.\n",
    "```python\n",
    "secret = k8s_client.V1ObjectReference(name=K8_GIT_SECRET_NAME, namespace=K8_NAME_SPACE)\n",
    "```"
   ]
  },
  {
   "cell_type": "code",
   "execution_count": 7,
   "id": "e62cf8a0-c361-4352-8153-5333233e1c4c",
   "metadata": {},
   "outputs": [
    {
     "name": "stdout",
     "output_type": "stream",
     "text": [
      "<class 'kubernetes.client.models.v1_object_reference.V1ObjectReference'>\n",
      "{'api_version': None,\n",
      " 'field_path': None,\n",
      " 'kind': None,\n",
      " 'name': 'lrzgit-kindfor-playground',\n",
      " 'namespace': 'kubeflow-kindfor',\n",
      " 'resource_version': None,\n",
      " 'uid': None}\n",
      "kubeflow-kindfor\n"
     ]
    }
   ],
   "source": [
    "secret = k8s_client.V1ObjectReference(name=K8_GIT_SECRET_NAME, namespace=K8_NAME_SPACE)\n",
    "\n",
    "print(type(secret))\n",
    "print(secret)\n",
    "print(secret.namespace)"
   ]
  },
  {
   "cell_type": "markdown",
   "id": "b07508a8-8b27-40d4-98d0-89531e402cba",
   "metadata": {},
   "source": [
    "### create a secret with kubectl\n",
    "\n",
    "1. Create a Deployment Token on GIT LAB with an optional user name, and readonly_registory to pull image\n",
    "2. SSH Login to your k8s cluster and manually create a docker-registry secret with\n",
    "```console\n",
    "kubectl -n kubeflow-kindfor create secret docker-registry <K8_GIT_SECRET_NAME> --docker-server=<GIT_URI> --docker-email=<an_abitrary_email> --docker-password=<deployment_token_string> --docker-username=<deployment_token_user_name>\n",
    "```\n",
    "\n",
    "Reference:\n",
    "* https://kubernetes.io/docs/tasks/configure-pod-container/pull-image-private-registry/\n",
    "\n",
    "Notice:\\\n",
    "use the following command to examin the docker-registry secret you created in terminal.\n",
    "```console\n",
    "kubectl -n <kubeflow_namespace> get secret <K8_GIT_SECRET_NAME> --output=\"jsonpath={.data.\\.dockerconfigjson}\" | base64 --decode\n",
    "```"
   ]
  },
  {
   "cell_type": "markdown",
   "id": "e97eea84-273e-454b-aff8-09c6420da43e",
   "metadata": {
    "tags": []
   },
   "source": [
    "## Getting started with KubeFlow Python SDK\n",
    "\n",
    "* Python SDK V2: https://www.kubeflow.org/docs/components/pipelines/sdk-v2/python-function-components/\n",
    "* Python SDK Overview: https://www.kubeflow.org/docs/components/pipelines/sdk/sdk-overview/"
   ]
  },
  {
   "cell_type": "code",
   "execution_count": 8,
   "id": "c95c2c19-fad1-4fb0-a4f2-3f91da65deba",
   "metadata": {},
   "outputs": [
    {
     "name": "stdout",
     "output_type": "stream",
     "text": [
      "BASE_IMAGE: gitlab.lrz.de:5005/dzkj/playground/demo:0.0.1\n"
     ]
    }
   ],
   "source": [
    "EXPERIMENT_NAME = 'customcontainer'        # Name of the experiment groups runs in the GUI\n",
    "EXPERIMENT_DESC = 'Test pulling container with kfp SDK from a private image registory'\n",
    "\n",
    "IMAGE_TAG = \"0.0.1\"\n",
    "\n",
    "use_custom_image = True\n",
    "#use_custom_image = False\n",
    "if (use_custom_image):\n",
    "    BASE_IMAGE = f\"gitlab.lrz.de:5005/dzkj/playground/demo:{IMAGE_TAG}\"\n",
    "else:\n",
    "    BASE_IMAGE = \"python:3.8.13\" # f\"library/python:{python_version()}\"\n",
    "print(f\"BASE_IMAGE: {BASE_IMAGE}\")"
   ]
  },
  {
   "cell_type": "markdown",
   "id": "55cfb421-990d-49f1-951e-aa9da316ffbf",
   "metadata": {},
   "source": [
    "### V2 Compatible pipeline\n",
    "* https://www.kubeflow.org/docs/components/pipelines/sdk-v2/v2-compatibility/"
   ]
  },
  {
   "cell_type": "code",
   "execution_count": 9,
   "id": "30b4ecfe-61c1-46a7-a514-78c1d40bb435",
   "metadata": {},
   "outputs": [],
   "source": [
    "import kfp\n",
    "import kfp.dsl as dsl\n",
    "# import kfp.v2.dsl.component\n",
    "from kfp.v2.dsl import (\n",
    "    component,\n",
    "    Input,\n",
    "    Output,\n",
    "    Dataset,\n",
    "    Metrics,\n",
    "    ContainerOp\n",
    ")"
   ]
  },
  {
   "cell_type": "code",
   "execution_count": 10,
   "id": "a26a7582-703e-41f1-9d89-2243011ba452",
   "metadata": {},
   "outputs": [],
   "source": [
    "# from kfp.dsl import ContainerOp\n",
    "def pod_resource_transformer(op: ContainerOp, mem_req=\"200Mi\", cpu_req=\"500m\", mem_lim=\"1000Mi\", cpu_lim='2000m'):\n",
    "    \"\"\"\n",
    "    op.set_memory_limit('1000Mi') = 1GB\n",
    "    op.set_cpu_limit('1000m') = 1 cpu core\n",
    "    \"\"\"\n",
    "    return op.set_memory_request(mem_req)\\\n",
    "            .set_memory_limit(mem_lim)\\\n",
    "            .set_cpu_request(cpu_req)\\\n",
    "            .set_cpu_limit(cpu_lim)"
   ]
  },
  {
   "cell_type": "code",
   "execution_count": 11,
   "id": "47abe369-2f4c-4e16-8509-2112a0c8cba9",
   "metadata": {},
   "outputs": [],
   "source": [
    "def nothing():\n",
    "    print(\"hello world!\")\n",
    "\n",
    "# custom_image_op_nothing = kfp.components.create_component_from_func(\n",
    "custom_image_op_nothing = component(\n",
    "    func=nothing,\n",
    "    output_component_file='playground_component.yaml', # This is optional. It saves the component spec for future use.\n",
    "    base_image=BASE_IMAGE,\n",
    "    #packages_to_install=['']\n",
    ")"
   ]
  },
  {
   "cell_type": "code",
   "execution_count": 12,
   "id": "ceb030c1-88ce-49e0-b9d8-1b3dc3ff1972",
   "metadata": {},
   "outputs": [],
   "source": [
    "@dsl.pipeline(\n",
    "    name = EXPERIMENT_NAME,\n",
    "    description = EXPERIMENT_DESC\n",
    ")\n",
    "def custom_image_pipeline_nothing():\n",
    "    first_task = pod_resource_transformer(custom_image_op_nothing())\n",
    "    "
   ]
  },
  {
   "cell_type": "markdown",
   "id": "6bbc9570-6d91-4b2e-9d5f-6865d50a0185",
   "metadata": {},
   "source": [
    "### Setting imagePullSecretes in K8s with Pipeline config\n",
    "* Setting imagePullSecretes for Pipeline with SDK: https://github.com/kubeflow/pipelines/issues/5843#issuecomment-859799181"
   ]
  },
  {
   "cell_type": "code",
   "execution_count": 13,
   "id": "8a66e298-bc0c-4127-a119-a7ab75172757",
   "metadata": {
    "tags": []
   },
   "outputs": [],
   "source": [
    "# from kubernetes import client as k8s_client\n",
    "pipeline_config = dsl.PipelineConf()\n",
    "if (use_custom_image):\n",
    "    pipeline_config.set_image_pull_secrets([k8s_client.V1ObjectReference(name=K8_GIT_SECRET_NAME, namespace=K8_NAME_SPACE)])\n",
    "    pipeline_config.set_image_pull_policy(\"IfNotPresent\")\n",
    "\n",
    "arguments_nothing = {}"
   ]
  },
  {
   "cell_type": "code",
   "execution_count": 14,
   "id": "cd8f63fb-b31a-468e-9205-33258ba01a1e",
   "metadata": {},
   "outputs": [
    {
     "name": "stderr",
     "output_type": "stream",
     "text": [
      "/home/jovyan/.local/lib/python3.8/site-packages/kfp/compiler/compiler.py:79: UserWarning: V2_COMPATIBLE execution mode is at Beta quality. Some pipeline features may not work as expected.\n",
      "  warnings.warn('V2_COMPATIBLE execution mode is at Beta quality.'\n"
     ]
    },
    {
     "data": {
      "text/html": [
       "<a href=\"/pipeline/#/experiments/details/973b6584-7ae5-44fc-98db-9e07aa0b93d6\" target=\"_blank\" >Experiment details</a>."
      ],
      "text/plain": [
       "<IPython.core.display.HTML object>"
      ]
     },
     "metadata": {},
     "output_type": "display_data"
    },
    {
     "data": {
      "text/html": [
       "<a href=\"/pipeline/#/runs/details/5eb024de-a63e-4e45-a05a-2e995a1bc565\" target=\"_blank\" >Run details</a>."
      ],
      "text/plain": [
       "<IPython.core.display.HTML object>"
      ]
     },
     "metadata": {},
     "output_type": "display_data"
    },
    {
     "data": {
      "text/plain": [
       "RunPipelineResult(run_id=5eb024de-a63e-4e45-a05a-2e995a1bc565)"
      ]
     },
     "execution_count": 14,
     "metadata": {},
     "output_type": "execute_result"
    }
   ],
   "source": [
    "client = kfp.Client()\n",
    "\n",
    "client.create_run_from_pipeline_func(\n",
    "    pipeline_func=custom_image_pipeline_nothing,\n",
    "    arguments = arguments_nothing,\n",
    "    pipeline_conf=pipeline_config,\n",
    "    experiment_name=EXPERIMENT_NAME,\n",
    "    namespace=K8_NAME_SPACE,\n",
    "    mode=kfp.dsl.PipelineExecutionMode.V2_COMPATIBLE # can not run with V2_COMPATIBLE\n",
    ")"
   ]
  },
  {
   "cell_type": "code",
   "execution_count": null,
   "id": "f1d635cd-2770-4a11-beb6-fd18dbf27e13",
   "metadata": {},
   "outputs": [],
   "source": []
  }
 ],
 "metadata": {
  "kernelspec": {
   "display_name": "Python 3",
   "language": "python",
   "name": "python3"
  },
  "language_info": {
   "codemirror_mode": {
    "name": "ipython",
    "version": 3
   },
   "file_extension": ".py",
   "mimetype": "text/x-python",
   "name": "python",
   "nbconvert_exporter": "python",
   "pygments_lexer": "ipython3",
   "version": "3.8.10"
  }
 },
 "nbformat": 4,
 "nbformat_minor": 5
}
