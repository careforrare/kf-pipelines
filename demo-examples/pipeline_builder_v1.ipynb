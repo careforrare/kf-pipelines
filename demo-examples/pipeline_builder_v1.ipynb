{
 "cells": [
  {
   "cell_type": "markdown",
   "id": "2c3c5a76-2162-462a-beec-a64f0f5e9141",
   "metadata": {},
   "source": [
    "# About this Jupyter Notebook"
   ]
  },
  {
   "cell_type": "code",
   "execution_count": null,
   "id": "86486178-ffbe-4ee2-b4ef-42c2d3dc9386",
   "metadata": {},
   "outputs": [],
   "source": [
    "import sys\n",
    "print(f\"Sys version: {sys.version}\")"
   ]
  },
  {
   "cell_type": "markdown",
   "id": "16067128-b3d2-42e3-9f5b-cc245ed56c4a",
   "metadata": {},
   "source": [
    "# Install kfp to build a pipeline\n",
    "Reference: https://www.kubeflow.org/docs/components/pipelines/sdk/build-pipeline/"
   ]
  },
  {
   "cell_type": "code",
   "execution_count": null,
   "id": "5e2ca499-fa75-421e-9556-1592eb4222cc",
   "metadata": {},
   "outputs": [],
   "source": [
    "import sys\n",
    "!{sys.executable} -m pip install kfp --upgrade"
   ]
  },
  {
   "cell_type": "markdown",
   "id": "d0b9ac69-447f-48d6-8c60-af8354da77c4",
   "metadata": {},
   "source": [
    "# Restart the kernal\n",
    "After update the kfp, restart this notebook kernel\n",
    "\n",
    "Jupyter notebook: Meun -> Kernel -> restart kernel"
   ]
  },
  {
   "cell_type": "markdown",
   "id": "f3c0730d-418e-4771-b584-7f54e6551037",
   "metadata": {},
   "source": [
    "## Setup\n",
    "Example Pipeline from\n",
    "\n",
    "https://github.com/kubeflow/examples/tree/master/pipelines/simple-notebook-pipeline\n",
    "\n",
    "## Getting started with Python function-based components\n",
    "\n",
    "https://www.kubeflow.org/docs/components/pipelines/sdk/python-function-components/"
   ]
  },
  {
   "cell_type": "code",
   "execution_count": null,
   "id": "8ea41301-b0c0-44bb-8fbb-5179de2e5f6d",
   "metadata": {},
   "outputs": [],
   "source": [
    "from platform import python_version\n",
    "\n",
    "EXPERIMENT_NAME = 'core kf test'        # Name of the experiment in the UI\n",
    "EXPERIMENT_DESC = 'testing KF platform'\n",
    "BASE_IMAGE = f\"library/python:{python_version()}\" # Base image used for components in the pipeline\n",
    "NAME_SPACE = 'kubeflow-kindfor'"
   ]
  },
  {
   "cell_type": "code",
   "execution_count": null,
   "id": "2aec3bba-89f9-42ed-8053-92f7dd11ac0e",
   "metadata": {},
   "outputs": [],
   "source": [
    "import kfp\n",
    "import kfp.dsl as dsl\n",
    "import kfp.compiler as compiler\n",
    "import kfp.components as components"
   ]
  },
  {
   "cell_type": "code",
   "execution_count": null,
   "id": "6a54b694-cd53-43cb-b4ce-ce98cb551163",
   "metadata": {},
   "outputs": [],
   "source": [
    "def add(a: float, b: float) -> float:\n",
    "    '''Calculates sum of two arguments'''\n",
    "    print(a, '+', b, '=', a + b)\n",
    "    return a + b"
   ]
  },
  {
   "cell_type": "markdown",
   "id": "079d5bae-333b-4372-ac76-df4cd2aa2005",
   "metadata": {},
   "source": [
    "### Create component from function\n",
    "\n",
    "https://kubeflow-pipelines.readthedocs.io/en/latest/source/kfp.components.html\n"
   ]
  },
  {
   "cell_type": "code",
   "execution_count": null,
   "id": "4894220f-cef5-4b57-9789-f104af7a603c",
   "metadata": {},
   "outputs": [],
   "source": [
    "add_op = components.create_component_from_func(\n",
    "    add,\n",
    "    base_image=BASE_IMAGE,\n",
    "    output_component_file='add_component.yaml' \n",
    ")"
   ]
  },
  {
   "cell_type": "markdown",
   "id": "d62b7fb4-5a09-450c-9e4c-7c391a7eacc0",
   "metadata": {},
   "source": [
    "### Add pod memory and cpu restriction\n",
    "\n",
    "https://github.com/kubeflow/pipelines/pull/5695"
   ]
  },
  {
   "cell_type": "code",
   "execution_count": null,
   "id": "36881723-2f81-40ce-a58a-68742e339edc",
   "metadata": {},
   "outputs": [],
   "source": [
    "# run command line to see the quota\n",
    "!kubectl describe quota"
   ]
  },
  {
   "cell_type": "code",
   "execution_count": null,
   "id": "68800bc5-228e-4f7e-a94b-3e92b6d32725",
   "metadata": {},
   "outputs": [],
   "source": [
    "def pod_defaults(op):\n",
    "    op.set_memory_request('100Mi');# op.set_memory_limit('1000Mi')\n",
    "    op.set_cpu_request('100m'); # 1 core, # op.set_cpu_limit('1000m')\n",
    "    return op"
   ]
  },
  {
   "cell_type": "code",
   "execution_count": null,
   "id": "16cfd03b-2127-4722-a099-d6efeb9900e6",
   "metadata": {},
   "outputs": [],
   "source": [
    "@dsl.pipeline(\n",
    "   name='Calculation pipeline', \n",
    "   description='A toy pipeline that performs arithmetic calculations.'\n",
    ")\n",
    "def calc_pipeline(\n",
    "   a: float =0,\n",
    "   b: float =7\n",
    "):\n",
    "    # Passing pipeline parameter and a constant value as operation arguments\n",
    "    # first_add_task = add_op(a, 4)\n",
    "    first_add_task = pod_defaults(add_op(a, 4))\n",
    "    # second_add_task = add_op(first_add_task.output, b)\n",
    "    second_add_task = pod_defaults(add_op(first_add_task.output, b))"
   ]
  },
  {
   "cell_type": "markdown",
   "id": "d2094a2a-3803-4f6c-8535-3d7d51a18d17",
   "metadata": {},
   "source": [
    "# Multi-user Isolation for Pipelines\n",
    "\n",
    "https://www.kubeflow.org/docs/components/pipelines/multi-user/"
   ]
  },
  {
   "cell_type": "code",
   "execution_count": null,
   "id": "c00f3e39-e482-4bb7-a405-289ff90b304d",
   "metadata": {},
   "outputs": [],
   "source": [
    "# get the pipeline host from env set up be the notebook instance\n",
    "client = kfp.Client()"
   ]
  },
  {
   "cell_type": "code",
   "execution_count": null,
   "id": "892ebf35-5eb6-44fb-b60f-abbb82f15cc3",
   "metadata": {},
   "outputs": [],
   "source": [
    "exp = client.create_experiment(EXPERIMENT_NAME, description=EXPERIMENT_DESC, namespace=NAME_SPACE )"
   ]
  },
  {
   "cell_type": "code",
   "execution_count": null,
   "id": "95cad574-8d0b-45b6-bd85-b4b3b6857eba",
   "metadata": {},
   "outputs": [],
   "source": [
    "# Specify pipeline argument values\n",
    "arguments = {'a': '7', 'b': '8'}\n",
    "\n",
    "client.create_run_from_pipeline_func(calc_pipeline, arguments=arguments, experiment_name=exp.name)\n",
    "# The generated links below lead to the Experiment page and the pipeline run details page, respectively"
   ]
  },
  {
   "cell_type": "code",
   "execution_count": null,
   "id": "7f206640-5a42-4bec-99a7-69e81755eae5",
   "metadata": {},
   "outputs": [],
   "source": []
  }
 ],
 "metadata": {
  "kernelspec": {
   "display_name": "Python 3",
   "language": "python",
   "name": "python3"
  },
  "language_info": {
   "codemirror_mode": {
    "name": "ipython",
    "version": 3
   },
   "file_extension": ".py",
   "mimetype": "text/x-python",
   "name": "python",
   "nbconvert_exporter": "python",
   "pygments_lexer": "ipython3",
   "version": "3.8.10"
  }
 },
 "nbformat": 4,
 "nbformat_minor": 5
}
