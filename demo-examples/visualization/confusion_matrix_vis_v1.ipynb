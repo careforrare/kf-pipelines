{
 "cells": [
  {
   "cell_type": "markdown",
   "id": "44860fba-5deb-4986-8492-7632f9a487e3",
   "metadata": {},
   "source": [
    "# About this Jupyter Notebook\n",
    "\n",
    "@author: Yingding Wang\n",
    "\n",
    "This notebook is originated from the example of kubeflow visual metric with KF Pipeline UI (https://github.com/kubeflow/pipelines/blob/master/samples/test/metrics_visualization_v1.py)"
   ]
  },
  {
   "cell_type": "code",
   "execution_count": 1,
   "id": "61cda2c4-0433-4e50-88b0-9426e7b655c2",
   "metadata": {},
   "outputs": [
    {
     "name": "stdout",
     "output_type": "stream",
     "text": [
      "Requirement already satisfied: kfp==1.8.12 in /home/jovyan/.local/lib/python3.8/site-packages (1.8.12)\n",
      "Requirement already satisfied: kfp-server-api<2.0.0,>=1.1.2 in /home/jovyan/.local/lib/python3.8/site-packages (from kfp==1.8.12) (1.8.1)\n",
      "Requirement already satisfied: google-api-core!=2.0.*,!=2.1.*,!=2.2.*,!=2.3.0,<3.0.0dev,>=1.31.5 in /opt/conda/lib/python3.8/site-packages (from kfp==1.8.12) (2.7.1)\n",
      "Requirement already satisfied: typing-extensions<4,>=3.7.4 in /home/jovyan/.local/lib/python3.8/site-packages (from kfp==1.8.12) (3.10.0.2)\n",
      "Requirement already satisfied: typer<1.0,>=0.3.2 in /home/jovyan/.local/lib/python3.8/site-packages (from kfp==1.8.12) (0.4.1)\n",
      "Requirement already satisfied: cloudpickle<3,>=2.0.0 in /home/jovyan/.local/lib/python3.8/site-packages (from kfp==1.8.12) (2.1.0)\n",
      "Requirement already satisfied: google-api-python-client<2,>=1.7.8 in /opt/conda/lib/python3.8/site-packages (from kfp==1.8.12) (1.12.10)\n",
      "Requirement already satisfied: kfp-pipeline-spec<0.2.0,>=0.1.14 in /home/jovyan/.local/lib/python3.8/site-packages (from kfp==1.8.12) (0.1.16)\n",
      "Requirement already satisfied: fire<1,>=0.3.1 in /opt/conda/lib/python3.8/site-packages (from kfp==1.8.12) (0.4.0)\n",
      "Requirement already satisfied: protobuf<4,>=3.13.0 in /opt/conda/lib/python3.8/site-packages (from kfp==1.8.12) (3.17.3)\n",
      "Requirement already satisfied: strip-hints<1,>=0.1.8 in /opt/conda/lib/python3.8/site-packages (from kfp==1.8.12) (0.1.10)\n",
      "Requirement already satisfied: absl-py<2,>=0.9 in /opt/conda/lib/python3.8/site-packages (from kfp==1.8.12) (0.11.0)\n",
      "Requirement already satisfied: tabulate<1,>=0.8.6 in /opt/conda/lib/python3.8/site-packages (from kfp==1.8.12) (0.8.9)\n",
      "Requirement already satisfied: pydantic<2,>=1.8.2 in /home/jovyan/.local/lib/python3.8/site-packages (from kfp==1.8.12) (1.9.1)\n",
      "Requirement already satisfied: uritemplate<4,>=3.0.1 in /opt/conda/lib/python3.8/site-packages (from kfp==1.8.12) (3.0.1)\n",
      "Requirement already satisfied: kubernetes<19,>=8.0.0 in /opt/conda/lib/python3.8/site-packages (from kfp==1.8.12) (12.0.1)\n",
      "Requirement already satisfied: google-cloud-storage<2,>=1.20.0 in /opt/conda/lib/python3.8/site-packages (from kfp==1.8.12) (1.44.0)\n",
      "Requirement already satisfied: google-auth<2,>=1.6.1 in /opt/conda/lib/python3.8/site-packages (from kfp==1.8.12) (1.35.0)\n",
      "Requirement already satisfied: requests-toolbelt<1,>=0.8.0 in /opt/conda/lib/python3.8/site-packages (from kfp==1.8.12) (0.9.1)\n",
      "Requirement already satisfied: jsonschema<4,>=3.0.1 in /opt/conda/lib/python3.8/site-packages (from kfp==1.8.12) (3.2.0)\n",
      "Requirement already satisfied: PyYAML<6,>=5.3 in /opt/conda/lib/python3.8/site-packages (from kfp==1.8.12) (5.4.1)\n",
      "Requirement already satisfied: click<9,>=7.1.2 in /opt/conda/lib/python3.8/site-packages (from kfp==1.8.12) (7.1.2)\n",
      "Requirement already satisfied: Deprecated<2,>=1.2.7 in /opt/conda/lib/python3.8/site-packages (from kfp==1.8.12) (1.2.13)\n",
      "Requirement already satisfied: docstring-parser<1,>=0.7.3 in /opt/conda/lib/python3.8/site-packages (from kfp==1.8.12) (0.13)\n",
      "Requirement already satisfied: six in /opt/conda/lib/python3.8/site-packages (from absl-py<2,>=0.9->kfp==1.8.12) (1.16.0)\n",
      "Requirement already satisfied: wrapt<2,>=1.10 in /opt/conda/lib/python3.8/site-packages (from Deprecated<2,>=1.2.7->kfp==1.8.12) (1.13.3)\n",
      "Requirement already satisfied: termcolor in /opt/conda/lib/python3.8/site-packages (from fire<1,>=0.3.1->kfp==1.8.12) (1.1.0)\n",
      "Requirement already satisfied: requests<3.0.0dev,>=2.18.0 in /opt/conda/lib/python3.8/site-packages (from google-api-core!=2.0.*,!=2.1.*,!=2.2.*,!=2.3.0,<3.0.0dev,>=1.31.5->kfp==1.8.12) (2.25.1)\n",
      "Requirement already satisfied: googleapis-common-protos<2.0dev,>=1.52.0 in /opt/conda/lib/python3.8/site-packages (from google-api-core!=2.0.*,!=2.1.*,!=2.2.*,!=2.3.0,<3.0.0dev,>=1.31.5->kfp==1.8.12) (1.55.0)\n",
      "Requirement already satisfied: google-auth-httplib2>=0.0.3 in /opt/conda/lib/python3.8/site-packages (from google-api-python-client<2,>=1.7.8->kfp==1.8.12) (0.1.0)\n",
      "Requirement already satisfied: httplib2<1dev,>=0.15.0 in /opt/conda/lib/python3.8/site-packages (from google-api-python-client<2,>=1.7.8->kfp==1.8.12) (0.20.4)\n",
      "Requirement already satisfied: pyasn1-modules>=0.2.1 in /opt/conda/lib/python3.8/site-packages (from google-auth<2,>=1.6.1->kfp==1.8.12) (0.2.8)\n",
      "Requirement already satisfied: setuptools>=40.3.0 in /opt/conda/lib/python3.8/site-packages (from google-auth<2,>=1.6.1->kfp==1.8.12) (49.6.0.post20210108)\n",
      "Requirement already satisfied: cachetools<5.0,>=2.0.0 in /opt/conda/lib/python3.8/site-packages (from google-auth<2,>=1.6.1->kfp==1.8.12) (4.2.4)\n",
      "Requirement already satisfied: rsa<5,>=3.1.4 in /opt/conda/lib/python3.8/site-packages (from google-auth<2,>=1.6.1->kfp==1.8.12) (4.8)\n",
      "Requirement already satisfied: google-resumable-media<3.0dev,>=1.3.0 in /opt/conda/lib/python3.8/site-packages (from google-cloud-storage<2,>=1.20.0->kfp==1.8.12) (2.3.2)\n",
      "Requirement already satisfied: google-cloud-core<3.0dev,>=1.6.0 in /opt/conda/lib/python3.8/site-packages (from google-cloud-storage<2,>=1.20.0->kfp==1.8.12) (2.2.3)\n",
      "Requirement already satisfied: google-crc32c<2.0dev,>=1.0 in /opt/conda/lib/python3.8/site-packages (from google-resumable-media<3.0dev,>=1.3.0->google-cloud-storage<2,>=1.20.0->kfp==1.8.12) (1.3.0)\n",
      "Requirement already satisfied: pyparsing!=3.0.0,!=3.0.1,!=3.0.2,!=3.0.3,<4,>=2.4.2 in /opt/conda/lib/python3.8/site-packages (from httplib2<1dev,>=0.15.0->google-api-python-client<2,>=1.7.8->kfp==1.8.12) (2.4.7)\n",
      "Requirement already satisfied: attrs>=17.4.0 in /opt/conda/lib/python3.8/site-packages (from jsonschema<4,>=3.0.1->kfp==1.8.12) (21.2.0)\n",
      "Requirement already satisfied: pyrsistent>=0.14.0 in /opt/conda/lib/python3.8/site-packages (from jsonschema<4,>=3.0.1->kfp==1.8.12) (0.17.3)\n",
      "Requirement already satisfied: urllib3>=1.15 in /opt/conda/lib/python3.8/site-packages (from kfp-server-api<2.0.0,>=1.1.2->kfp==1.8.12) (1.26.5)\n",
      "Requirement already satisfied: python-dateutil in /opt/conda/lib/python3.8/site-packages (from kfp-server-api<2.0.0,>=1.1.2->kfp==1.8.12) (2.8.1)\n",
      "Requirement already satisfied: certifi in /opt/conda/lib/python3.8/site-packages (from kfp-server-api<2.0.0,>=1.1.2->kfp==1.8.12) (2021.5.30)\n",
      "Requirement already satisfied: requests-oauthlib in /opt/conda/lib/python3.8/site-packages (from kubernetes<19,>=8.0.0->kfp==1.8.12) (1.3.1)\n",
      "Requirement already satisfied: websocket-client!=0.40.0,!=0.41.*,!=0.42.*,>=0.32.0 in /opt/conda/lib/python3.8/site-packages (from kubernetes<19,>=8.0.0->kfp==1.8.12) (1.0.1)\n",
      "Requirement already satisfied: pyasn1<0.5.0,>=0.4.6 in /opt/conda/lib/python3.8/site-packages (from pyasn1-modules>=0.2.1->google-auth<2,>=1.6.1->kfp==1.8.12) (0.4.8)\n",
      "Requirement already satisfied: chardet<5,>=3.0.2 in /opt/conda/lib/python3.8/site-packages (from requests<3.0.0dev,>=2.18.0->google-api-core!=2.0.*,!=2.1.*,!=2.2.*,!=2.3.0,<3.0.0dev,>=1.31.5->kfp==1.8.12) (4.0.0)\n",
      "Requirement already satisfied: idna<3,>=2.5 in /opt/conda/lib/python3.8/site-packages (from requests<3.0.0dev,>=2.18.0->google-api-core!=2.0.*,!=2.1.*,!=2.2.*,!=2.3.0,<3.0.0dev,>=1.31.5->kfp==1.8.12) (2.10)\n",
      "Requirement already satisfied: wheel in /opt/conda/lib/python3.8/site-packages (from strip-hints<1,>=0.1.8->kfp==1.8.12) (0.36.2)\n",
      "Requirement already satisfied: oauthlib>=3.0.0 in /opt/conda/lib/python3.8/site-packages (from requests-oauthlib->kubernetes<19,>=8.0.0->kfp==1.8.12) (3.2.0)\n"
     ]
    }
   ],
   "source": [
    "import sys\n",
    "!{sys.executable} -m pip install --upgrade --user kfp==1.8.12"
   ]
  },
  {
   "cell_type": "markdown",
   "id": "03db99f0-00f8-4996-88d9-16736ec9ef26",
   "metadata": {},
   "source": [
    "## (optional) Restart your notebook server in Kubeflow by stop and start"
   ]
  },
  {
   "cell_type": "markdown",
   "id": "1967ef54-8a76-4b5a-afc5-1e065a075b09",
   "metadata": {},
   "source": [
    "## (optional) Upgrade your kfp-server-api\n",
    "\n",
    "Should you see a headtoken issue while starting the kubeflow pipeline from your notebook. Please execute this optional step to upgrade the kfp-server-api to match the kubeflow pipeline backend"
   ]
  },
  {
   "cell_type": "code",
   "execution_count": 2,
   "id": "330d809c-c2ed-43dd-8c91-630378c50b68",
   "metadata": {},
   "outputs": [
    {
     "name": "stdout",
     "output_type": "stream",
     "text": [
      "kfp                      1.8.12\n",
      "kfp-pipeline-spec        0.1.16\n",
      "kfp-server-api           1.8.1\n"
     ]
    }
   ],
   "source": [
    "# show the kfp-server-api version, 1.7.0 for kf 1.4, 1.7.1 for kf 1.4.1 and 1.8.1 for kf 1.5.0\n",
    "!{sys.executable} -m pip list | grep kfp"
   ]
  },
  {
   "cell_type": "code",
   "execution_count": 3,
   "id": "d150f358-35d2-4df0-81c0-ed4931d734d4",
   "metadata": {},
   "outputs": [
    {
     "data": {
      "text/plain": [
       "'upgrade the kfp server api version to 1.8.1 for KF 1.5'"
      ]
     },
     "execution_count": 3,
     "metadata": {},
     "output_type": "execute_result"
    }
   ],
   "source": [
    "\"\"\"upgrade the kfp server api version to 1.7.0 for KF 1.4\"\"\"\n",
    "# !{sys.executable} -m pip uninstall -y kfp-server-api\n",
    "# !{sys.executable} -m pip install --user --upgrade kfp-server-api==1.7.0\n",
    "\"\"\"upgrade the kfp server api version to 1.8.1 for KF 1.5\"\"\"\n",
    "# !{sys.executable} -m pip uninstall -y kfp-server-api\n",
    "# !{sys.executable} -m pip install --user --upgrade kfp-server-api==1.8.1"
   ]
  },
  {
   "cell_type": "code",
   "execution_count": 4,
   "id": "c4fba570-fc17-43b6-b8a3-e830c6364241",
   "metadata": {},
   "outputs": [],
   "source": [
    "# import sys\n",
    "# !{sys.executable} -m pip install --upgrade --user kfp==1.8.12\n",
    "# !{sys.executable} -m pip install --upgrade --user kubernetes==18.20.0"
   ]
  },
  {
   "cell_type": "markdown",
   "id": "ecba989d-0258-48e5-abd8-871823cf9e02",
   "metadata": {},
   "source": [
    "# Restart the kernal\n",
    "After update the kfp, restart this notebook kernel\n",
    "\n",
    "Jupyter notebook: Meun -> Kernel -> restart kernel"
   ]
  },
  {
   "cell_type": "markdown",
   "id": "a9795c8e-1ab7-46a7-b1bc-fbc9ef37acda",
   "metadata": {},
   "source": [
    "## set up resource limit helper function"
   ]
  },
  {
   "cell_type": "code",
   "execution_count": 5,
   "id": "40f8a721-c47e-4e7f-9d3f-b4d717d69293",
   "metadata": {},
   "outputs": [],
   "source": [
    "from kfp.dsl import ContainerOp\n",
    "def pod_resource_transformer(op: ContainerOp, mem_req=\"200Mi\", cpu_req=\"2000m\", mem_lim=\"1000Mi\", cpu_lim='2000m'):\n",
    "    \"\"\"\n",
    "    op.set_memory_limit('1000Mi') = 1GB\n",
    "    op.set_cpu_limit('1000m') = 1 cpu core\n",
    "    \"\"\"\n",
    "    return op.set_memory_request(mem_req)\\\n",
    "            .set_memory_limit(mem_lim)\\\n",
    "            .set_cpu_request(cpu_req)\\\n",
    "            .set_cpu_limit(cpu_lim)"
   ]
  },
  {
   "cell_type": "code",
   "execution_count": 6,
   "id": "9336546a-14e9-494c-9d9f-ce162114e0d5",
   "metadata": {},
   "outputs": [],
   "source": [
    "from typing import NamedTuple\n",
    "import kfp\n",
    "from kfp.dsl import pipeline\n",
    "from kfp.components import create_component_from_func\n",
    "\n",
    "NAME_SPACE=\"kubeflow-kindfor\"\n",
    "EXPERIMENT_NAME=\"kf-metrics\"        # Name of the experiment groups runs in the GUI\n",
    "EXPERIMENT_DESC = 'visualization examples for kf pipeline UI'\n",
    "\n",
    "@create_component_from_func\n",
    "def confusion_visualization(matrix_uri: str = 'https://raw.githubusercontent.com/kubeflow/pipelines/master/samples/core/visualization/confusion_matrix.csv') -> NamedTuple('VisualizationOutput', [('mlpipeline_ui_metadata', 'UI_metadata')]):\n",
    "    \"\"\"Provide confusion matrix csv file to visualize as metrics.\"\"\"\n",
    "    import json\n",
    "\n",
    "    metadata = {\n",
    "        'outputs' : [{\n",
    "          'type': 'confusion_matrix',\n",
    "          'format': 'csv',\n",
    "          'schema': [\n",
    "            {'name': 'target', 'type': 'CATEGORY'},\n",
    "            {'name': 'predicted', 'type': 'CATEGORY'},\n",
    "            {'name': 'count', 'type': 'NUMBER'},\n",
    "          ],\n",
    "          'source': matrix_uri,\n",
    "          'labels': ['rose', 'lily', 'iris'],\n",
    "        }]\n",
    "    }\n",
    "\n",
    "    from collections import namedtuple\n",
    "    visualization_output = namedtuple('VisualizationOutput', [\n",
    "        'mlpipeline_ui_metadata'])\n",
    "    return visualization_output(json.dumps(metadata))\n",
    "\n",
    "# @create_component_from_func\n",
    "# def produce_markdown() -> NamedTuple('Outputs', [('MLPipeline_UI_metadata', 'UI_metadata')]):\n",
    "#     import sys, json, subprocess\n",
    "#     subprocess.run([sys.executable, '-m', 'pip', 'install','pandas'])\n",
    "#     import pandas as pd \n",
    "#     matrix = [\n",
    "#         ['y', 'y', 10],\n",
    "#         ['y', 'n', 9],\n",
    "#         ['n', 'y', 6],\n",
    "#         ['n', 'y', 7]\n",
    "#     ]\n",
    "#     df = pd.DataFrame(matrix,columns=['target','predicted','count'])\n",
    "#     metadata = {\n",
    "#         \"outputs\": [\n",
    "#             {\n",
    "#                 \"type\": \"confusion_matrix\",\n",
    "#                 \"format\": \"csv\",\n",
    "#                 \"schema\": [\n",
    "#                     {\n",
    "#                         \"name\": \"target\",\n",
    "#                         \"type\": \"CATEGORY\"\n",
    "#                     },\n",
    "#                     {\n",
    "#                         \"name\": \"predicted\",\n",
    "#                         \"type\": \"CATEGORY\"\n",
    "#                     },\n",
    "#                     {\n",
    "#                         \"name\": \"count\",\n",
    "#                         \"type\": \"NUMBER\"\n",
    "#                     }\n",
    "#                 ],\n",
    "#                 \"source\": df.to_csv(header=False, index=False),\n",
    "#                 \"storage\": \"inline\",\n",
    "#                 \"labels\": [\n",
    "#                     \"y\",\n",
    "#                     \"n\"\n",
    "#                 ]\n",
    "#             }\n",
    "#         ]\n",
    "#     }\n",
    "#     return [json.dumps(metadata)]\n",
    "\n",
    "@pipeline(\n",
    "    name = EXPERIMENT_NAME,\n",
    "    description = EXPERIMENT_DESC\n",
    ")\n",
    "def my_pipeline():\n",
    "    # set up a confusion matrix with markdown\n",
    "    confusion_matrix = confusion_visualization()\n",
    "    confusion_matrix = pod_resource_transformer(confusion_matrix, mem_req=\"200Mi\", cpu_req=\"500m\")\n",
    "    confusion_matrix.set_display_name(\"confusion matrix\")\n",
    "    \n",
    "    "
   ]
  },
  {
   "cell_type": "code",
   "execution_count": 7,
   "id": "3b966b22-d7d1-405e-956a-9e1e7dfe99a6",
   "metadata": {},
   "outputs": [],
   "source": [
    "NAME_SPACE=\"kubeflow-kindfor\"\n",
    "EXPERIMENT_NAME=\"kf-metrics\"\n",
    "\n",
    "client = kfp.Client()\n",
    "client.set_user_namespace(NAME_SPACE)"
   ]
  },
  {
   "cell_type": "code",
   "execution_count": 8,
   "id": "6508459b-723e-472f-af5f-99555d23182b",
   "metadata": {},
   "outputs": [
    {
     "data": {
      "text/html": [
       "<a href=\"/pipeline/#/experiments/details/744c5b5c-f45c-4382-9b33-e7ace14e7493\" target=\"_blank\" >Experiment details</a>."
      ],
      "text/plain": [
       "<IPython.core.display.HTML object>"
      ]
     },
     "metadata": {},
     "output_type": "display_data"
    },
    {
     "data": {
      "text/html": [
       "<a href=\"/pipeline/#/runs/details/6d3a2f5e-3e68-4a16-ade6-bab6098428bd\" target=\"_blank\" >Run details</a>."
      ],
      "text/plain": [
       "<IPython.core.display.HTML object>"
      ]
     },
     "metadata": {},
     "output_type": "display_data"
    },
    {
     "data": {
      "text/plain": [
       "RunPipelineResult(run_id=6d3a2f5e-3e68-4a16-ade6-bab6098428bd)"
      ]
     },
     "execution_count": 8,
     "metadata": {},
     "output_type": "execute_result"
    }
   ],
   "source": [
    "client.create_run_from_pipeline_func(pipeline_func=my_pipeline, arguments={},\n",
    "                                     experiment_name=EXPERIMENT_NAME, namespace=NAME_SPACE,\n",
    "                                     pipeline_conf=kfp.dsl.PipelineConf(),\n",
    "                                     mode = kfp.dsl.PipelineExecutionMode.V1_LEGACY\n",
    "                                    )"
   ]
  },
  {
   "cell_type": "code",
   "execution_count": null,
   "id": "07f3cc91-1b6c-4730-b999-55fd778e393d",
   "metadata": {},
   "outputs": [],
   "source": []
  }
 ],
 "metadata": {
  "kernelspec": {
   "display_name": "Python 3",
   "language": "python",
   "name": "python3"
  },
  "language_info": {
   "codemirror_mode": {
    "name": "ipython",
    "version": 3
   },
   "file_extension": ".py",
   "mimetype": "text/x-python",
   "name": "python",
   "nbconvert_exporter": "python",
   "pygments_lexer": "ipython3",
   "version": "3.8.10"
  }
 },
 "nbformat": 4,
 "nbformat_minor": 5
}
