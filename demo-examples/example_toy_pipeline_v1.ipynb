{
 "cells": [
  {
   "cell_type": "markdown",
   "id": "2c3c5a76-2162-462a-beec-a64f0f5e9141",
   "metadata": {},
   "source": [
    "# About this Jupyter Notebook\n",
    "\n",
    "@author: Yingding Wang\n",
    "\n",
    "### Useful JupyterLab Basic\n",
    "\n",
    "Before start, you may consider to update the jupyterlab with the command\n",
    "\n",
    "<code>python\n",
    "!{sys.executable} -m pip install --upgrade --user jupyterlab    \n",
    "</code>  \n",
    "\n",
    "1. Autocomplete syntax with \"Tab\"\n",
    "2. View Doc String with \"Shift + Tab\"\n",
    "3. mark the code snippet -> select with right mouse -> Show Contextual Help (see the function code)"
   ]
  },
  {
   "cell_type": "code",
   "execution_count": null,
   "id": "56938bf3-deb2-499c-abab-622696a5bfe3",
   "metadata": {},
   "outputs": [],
   "source": [
    "# import sys, os\n",
    "# %env"
   ]
  },
  {
   "cell_type": "code",
   "execution_count": 1,
   "id": "86486178-ffbe-4ee2-b4ef-42c2d3dc9386",
   "metadata": {},
   "outputs": [
    {
     "name": "stdout",
     "output_type": "stream",
     "text": [
      "Sys version: 3.8.10 | packaged by conda-forge | (default, May 11 2021, 07:01:05) \n",
      "[GCC 9.3.0]\n"
     ]
    }
   ],
   "source": [
    "import sys, os\n",
    "print(f\"Sys version: {sys.version}\")\n",
    "\n",
    "# os.environ[\"KF_PIPELINES_SA_TOKEN_PATH\"]=\"/var/run/secrets/kubernetes.io/serviceaccount/token\"\n",
    "# os.environ[\"KF_PIPELINES_SA_TOKEN_PATH\"]=\"/var/run/secrets/kubeflow/pipelines/token\""
   ]
  },
  {
   "cell_type": "code",
   "execution_count": 2,
   "id": "ff9f8324-3b71-4ebf-8708-0858180f8b10",
   "metadata": {},
   "outputs": [
    {
     "name": "stdout",
     "output_type": "stream",
     "text": [
      "Name: jupyterlab\n",
      "Version: 3.2.8\n",
      "Summary: JupyterLab computational environment\n",
      "Home-page: https://jupyter.org\n",
      "Author: Jupyter Development Team\n",
      "Author-email: jupyter@googlegroups.com\n",
      "License: UNKNOWN\n",
      "Location: /home/jovyan/.local/lib/python3.8/site-packages\n",
      "Requires: ipython, packaging, jupyter-server, jinja2, tornado, jupyter-core, jupyterlab-server, nbclassic\n",
      "Required-by: \n"
     ]
    }
   ],
   "source": [
    "!{sys.executable} -m pip show jupyterlab # 3.0.16\n",
    "# !{sys.executable} -m pip show jupyter_contrib_nbextensions"
   ]
  },
  {
   "cell_type": "code",
   "execution_count": 4,
   "id": "ef227937-980d-4e14-9256-667d5c11c397",
   "metadata": {},
   "outputs": [],
   "source": [
    "# update the jupyter lab\n",
    "#!{sys.executable} -m pip install --upgrade --user jupyterlab"
   ]
  },
  {
   "cell_type": "code",
   "execution_count": 7,
   "id": "0501c7de-8b37-4b2b-a090-4bdab08ea06c",
   "metadata": {},
   "outputs": [
    {
     "data": {
      "text/plain": [
       "'upgrade the kfp server api version to 1.7.0 for KF 1.4'"
      ]
     },
     "execution_count": 7,
     "metadata": {},
     "output_type": "execute_result"
    }
   ],
   "source": [
    "\"\"\"upgrade the kfp server api version to 1.7.0 for KF 1.4\"\"\"\n",
    "# !{sys.executable} -m pip uninstall -y kfp-server-api\n",
    "# !{sys.executable} -m pip install --user --upgrade kfp-server-api==1.7.0\n",
    "\"\"\"upgrade the kfp server api version to 1.8.0 for KF 1.5.1\n",
    "# !{sys.executable} -m pip uninstall -y kfp-server-api\n",
    "# !{sys.executable} -m pip install --user --upgrade kfp-server-api==1.8.2"
   ]
  },
  {
   "cell_type": "code",
   "execution_count": null,
   "id": "5e2ca499-fa75-421e-9556-1592eb4222cc",
   "metadata": {},
   "outputs": [],
   "source": [
    "import sys\n",
    "!{sys.executable} -m pip install --upgrade --user kfp==1.8.12\n",
    "!{sys.executable} -m pip install --upgrade --user kubernetes==18.20.0\n",
    "#!{sys.executable} -m pip install --upgrade --user kubernetes==21.7.0"
   ]
  },
  {
   "cell_type": "markdown",
   "id": "d0b9ac69-447f-48d6-8c60-af8354da77c4",
   "metadata": {},
   "source": [
    "# Restart the kernal\n",
    "After update the kfp, restart this notebook kernel\n",
    "\n",
    "Jupyter notebook: Meun -> Kernel -> restart kernel"
   ]
  },
  {
   "cell_type": "markdown",
   "id": "a893aabd-ebd4-4394-9d6c-8a100e605234",
   "metadata": {},
   "source": [
    "## Check the KubeFlow Pipeline version on the server side"
   ]
  },
  {
   "cell_type": "code",
   "execution_count": 5,
   "id": "3f2fbe67-1987-45ba-a883-8aec9624417b",
   "metadata": {},
   "outputs": [
    {
     "name": "stdout",
     "output_type": "stream",
     "text": [
      "kfp                          1.8.12\n",
      "kfp-pipeline-spec            0.1.14\n",
      "kfp-server-api               1.7.0\n"
     ]
    }
   ],
   "source": [
    "!{sys.executable} -m pip list | grep kfp"
   ]
  },
  {
   "cell_type": "markdown",
   "id": "f6f5b4f4-ba6b-4e59-b66d-c237046b4d2c",
   "metadata": {},
   "source": [
    "### Check my KubeFlow namespace total resource limits"
   ]
  },
  {
   "cell_type": "code",
   "execution_count": 4,
   "id": "36881723-2f81-40ce-a58a-68742e339edc",
   "metadata": {},
   "outputs": [
    {
     "name": "stdout",
     "output_type": "stream",
     "text": [
      "Name:                                                         kf-resource-quota\n",
      "Namespace:                                                    kubeflow-kindfor\n",
      "Resource                                                      Used    Hard\n",
      "--------                                                      ----    ----\n",
      "basic-csi.storageclass.storage.k8s.io/persistentvolumeclaims  3       5\n",
      "basic-csi.storageclass.storage.k8s.io/requests.storage        11Gi    50Gi\n",
      "cpu                                                           2110m   128\n",
      "longhorn.storageclass.storage.k8s.io/persistentvolumeclaims   0       10\n",
      "longhorn.storageclass.storage.k8s.io/requests.storage         0       500Gi\n",
      "memory                                                        2108Mi  512Gi\n"
     ]
    }
   ],
   "source": [
    "# run command line to see the quota\n",
    "!kubectl describe quota"
   ]
  },
  {
   "cell_type": "markdown",
   "id": "f3c0730d-418e-4771-b584-7f54e6551037",
   "metadata": {},
   "source": [
    "## Setup\n",
    "Example Pipeline from\n",
    "\n",
    "https://github.com/kubeflow/examples/tree/master/pipelines/simple-notebook-pipeline\n",
    "\n",
    "## Getting started with Python function-based components\n",
    "\n",
    "https://www.kubeflow.org/docs/components/pipelines/sdk/python-function-components/"
   ]
  },
  {
   "cell_type": "code",
   "execution_count": 6,
   "id": "8ea41301-b0c0-44bb-8fbb-5179de2e5f6d",
   "metadata": {},
   "outputs": [],
   "source": [
    "from platform import python_version\n",
    "\n",
    "EXPERIMENT_NAME = 'core kf test'        # Name of the experiment in the UI\n",
    "EXPERIMENT_DESC = 'testing KF platform'\n",
    "# BASE_IMAGE = f\"library/python:{python_version()}\" # Base image used for components in the pipeline, which has not root\n",
    "BASE_IMAGE = \"python:3.8.13\"\n",
    "NAME_SPACE = \"kubeflow-kindfor\" # change namespace if necessary"
   ]
  },
  {
   "cell_type": "code",
   "execution_count": 7,
   "id": "2aec3bba-89f9-42ed-8053-92f7dd11ac0e",
   "metadata": {},
   "outputs": [],
   "source": [
    "import kfp\n",
    "import kubernetes\n",
    "import kfp.dsl as dsl\n",
    "import kfp.compiler as compiler\n",
    "import kfp.components as components"
   ]
  },
  {
   "cell_type": "markdown",
   "id": "64e508d7-7586-4000-ad24-4b63923d269b",
   "metadata": {},
   "source": [
    "## Connecting KFP Python SDK from Notebook to Pipeline\n",
    "\n",
    "* https://www.kubeflow.org/docs/components/pipelines/sdk/connect-api/"
   ]
  },
  {
   "cell_type": "code",
   "execution_count": 8,
   "id": "23f373b8-831b-4394-8113-b665f4f9fb4a",
   "metadata": {},
   "outputs": [
    {
     "name": "stdout",
     "output_type": "stream",
     "text": [
      "1.8.12\n",
      "18.20.0\n"
     ]
    }
   ],
   "source": [
    "print(kfp.__version__)\n",
    "print(kubernetes.__version__)"
   ]
  },
  {
   "cell_type": "code",
   "execution_count": 9,
   "id": "6a54b694-cd53-43cb-b4ce-ce98cb551163",
   "metadata": {},
   "outputs": [],
   "source": [
    "def add(a: float, b: float) -> float:\n",
    "    '''Calculates sum of two arguments'''\n",
    "    print(a, '+', b, '=', a + b)\n",
    "    return a + b"
   ]
  },
  {
   "cell_type": "markdown",
   "id": "079d5bae-333b-4372-ac76-df4cd2aa2005",
   "metadata": {},
   "source": [
    "### Create component from function\n",
    "\n",
    "https://kubeflow-pipelines.readthedocs.io/en/latest/source/kfp.components.html\n"
   ]
  },
  {
   "cell_type": "code",
   "execution_count": 10,
   "id": "4894220f-cef5-4b57-9789-f104af7a603c",
   "metadata": {},
   "outputs": [],
   "source": [
    "# returns a task factory function\n",
    "add_op = components.create_component_from_func(\n",
    "    add,\n",
    "    output_component_file='add_component.yaml',\n",
    "    base_image=BASE_IMAGE,\n",
    "    packages_to_install=None  \n",
    ")"
   ]
  },
  {
   "cell_type": "markdown",
   "id": "d62b7fb4-5a09-450c-9e4c-7c391a7eacc0",
   "metadata": {
    "tags": []
   },
   "source": [
    "### Add pod memory and cpu restriction\n",
    "\n",
    "https://github.com/kubeflow/pipelines/pull/5695"
   ]
  },
  {
   "cell_type": "code",
   "execution_count": 11,
   "id": "68800bc5-228e-4f7e-a94b-3e92b6d32725",
   "metadata": {},
   "outputs": [
    {
     "data": {
      "text/plain": [
       "\"\\ndef pod_defaults_transformer(op: dsl.ContainerOp):\\n    op.set_memory_request('100Mi') # op.set_memory_limit('1000Mi')\\n    op.set_memory_limit('100Mi')\\n    op.set_cpu_request('100m') # 1 core, # op.set_cpu_limit('1000m')\\n    op.set_cpu_limit('1000m') \\n    return op\\n\""
      ]
     },
     "execution_count": 11,
     "metadata": {},
     "output_type": "execute_result"
    }
   ],
   "source": [
    "'''\n",
    "def pod_defaults_transformer(op: dsl.ContainerOp):\n",
    "    op.set_memory_request('100Mi') # op.set_memory_limit('1000Mi')\n",
    "    op.set_memory_limit('100Mi')\n",
    "    op.set_cpu_request('100m') # 1 core, # op.set_cpu_limit('1000m')\n",
    "    op.set_cpu_limit('1000m') \n",
    "    return op\n",
    "'''"
   ]
  },
  {
   "cell_type": "code",
   "execution_count": 12,
   "id": "6b002c6a-4f5d-42b1-88b7-d4c1b95b7d45",
   "metadata": {},
   "outputs": [],
   "source": [
    "def pod_defaults_transformer(op: dsl.ContainerOp):\n",
    "    \"\"\"\n",
    "    op.set_memory_limit('1000Mi') = 1GB\n",
    "    op.set_cpu_limit('1000m') = 1 cpu core\n",
    "    \"\"\"\n",
    "    return op.set_memory_request('200Mi')\\\n",
    "            .set_memory_limit('1000Mi')\\\n",
    "            .set_cpu_request('2000m')\\\n",
    "            .set_cpu_limit('2000m')"
   ]
  },
  {
   "cell_type": "code",
   "execution_count": 19,
   "id": "16cfd03b-2127-4722-a099-d6efeb9900e6",
   "metadata": {},
   "outputs": [],
   "source": [
    "@dsl.pipeline(\n",
    "   name='Calculation pipeline', \n",
    "   description='A toy pipeline that performs arithmetic calculations.'\n",
    ")\n",
    "def calc_pipeline(\n",
    "   a: float =0,\n",
    "   b: float =7\n",
    "):\n",
    "    # Passing pipeline parameter and a constant value as operation arguments\n",
    "    # first_add_task = add_op(a, 4)\n",
    "    first_add_task = pod_defaults_transformer(add_op(a, 4))\n",
    "    # no value taken from cache\n",
    "    first_add_task.execution_options.caching_strategy.max_cache_staleness = \"P0D\"\n",
    "    # second_add_task = add_op(first_add_task.output, b)\n",
    "    second_add_task = pod_defaults_transformer(add_op(first_add_task.output, b))\n",
    "    # no cache \n",
    "    second_add_task.execution_options.caching_strategy.max_cache_staleness = \"P0D\""
   ]
  },
  {
   "cell_type": "markdown",
   "id": "a422d04f-448a-4fc2-90cd-2069addb7a7a",
   "metadata": {},
   "source": [
    "### (optional step) Compile the pipeline to see the settings"
   ]
  },
  {
   "cell_type": "code",
   "execution_count": 20,
   "id": "ec63e50d-81d8-4012-9a75-1375ac9a5aa0",
   "metadata": {},
   "outputs": [],
   "source": [
    "PIPE_LINE_FILE_NAME=\"calc_pipeline_with_resource_limit\"\n",
    "kfp.compiler.Compiler().compile(calc_pipeline, f\"{PIPE_LINE_FILE_NAME}.yaml\")"
   ]
  },
  {
   "cell_type": "markdown",
   "id": "d2094a2a-3803-4f6c-8535-3d7d51a18d17",
   "metadata": {},
   "source": [
    "# Run Pipeline with Multi-user Isolation\n",
    "\n",
    "https://www.kubeflow.org/docs/components/pipelines/multi-user/"
   ]
  },
  {
   "cell_type": "code",
   "execution_count": 22,
   "id": "c00f3e39-e482-4bb7-a405-289ff90b304d",
   "metadata": {},
   "outputs": [],
   "source": [
    "# get the pipeline host from env set up be the notebook instance\n",
    "client = kfp.Client()\n",
    "\n",
    "# Make sure the volume is mounted /run/secrets/kubeflow/pipelines \n",
    "# client.get_experiment(experiment_name=EXPERIMENT_NAME, namespace=NAME_SPACE)"
   ]
  },
  {
   "cell_type": "code",
   "execution_count": 23,
   "id": "7e3333eb-a26e-4d63-8266-c07b8b89000d",
   "metadata": {},
   "outputs": [],
   "source": [
    "# client.list_pipelines()"
   ]
  },
  {
   "cell_type": "code",
   "execution_count": 24,
   "id": "28776cec-8e3b-4320-b27f-8534d8d21bf4",
   "metadata": {},
   "outputs": [
    {
     "name": "stdout",
     "output_type": "stream",
     "text": [
      "kubeflow-kindfor\n"
     ]
    }
   ],
   "source": [
    "# print(NAME_SPACE)\n",
    "# client.list_experiments(namespace=NAME_SPACE)\n",
    "client.set_user_namespace(NAME_SPACE)\n",
    "print(client.get_user_namespace())"
   ]
  },
  {
   "cell_type": "code",
   "execution_count": 25,
   "id": "892ebf35-5eb6-44fb-b60f-abbb82f15cc3",
   "metadata": {},
   "outputs": [
    {
     "data": {
      "text/html": [
       "<a href=\"/pipeline/#/experiments/details/c72bc5aa-4c35-4b18-aaa7-ff459d893795\" target=\"_blank\" >Experiment details</a>."
      ],
      "text/plain": [
       "<IPython.core.display.HTML object>"
      ]
     },
     "metadata": {},
     "output_type": "display_data"
    }
   ],
   "source": [
    "exp = client.create_experiment(EXPERIMENT_NAME, description=EXPERIMENT_DESC)"
   ]
  },
  {
   "cell_type": "code",
   "execution_count": 26,
   "id": "95cad574-8d0b-45b6-bd85-b4b3b6857eba",
   "metadata": {
    "tags": []
   },
   "outputs": [
    {
     "data": {
      "text/html": [
       "<a href=\"/pipeline/#/experiments/details/c72bc5aa-4c35-4b18-aaa7-ff459d893795\" target=\"_blank\" >Experiment details</a>."
      ],
      "text/plain": [
       "<IPython.core.display.HTML object>"
      ]
     },
     "metadata": {},
     "output_type": "display_data"
    },
    {
     "data": {
      "text/html": [
       "<a href=\"/pipeline/#/runs/details/33f61e72-c1d2-45de-8e4a-2bbf39843af0\" target=\"_blank\" >Run details</a>."
      ],
      "text/plain": [
       "<IPython.core.display.HTML object>"
      ]
     },
     "metadata": {},
     "output_type": "display_data"
    },
    {
     "data": {
      "text/plain": [
       "RunPipelineResult(run_id=33f61e72-c1d2-45de-8e4a-2bbf39843af0)"
      ]
     },
     "execution_count": 26,
     "metadata": {},
     "output_type": "execute_result"
    }
   ],
   "source": [
    "# Specify pipeline argument values\n",
    "arguments = {'a': '7', 'b': '8'}\n",
    "\n",
    "# added a default pod transformer to all the pipeline ops\n",
    "pipeline_config: dsl.PipelineConf = dsl.PipelineConf()\n",
    "\n",
    "#pipeline_config.add_op_transformer(\n",
    "#    pod_defaults_transformer\n",
    "#)\n",
    "\n",
    "client.create_run_from_pipeline_func(pipeline_func=calc_pipeline, arguments=arguments,\n",
    "                                     experiment_name=EXPERIMENT_NAME, namespace=NAME_SPACE,\n",
    "                                     pipeline_conf=pipeline_config)\n",
    "# The generated links below lead to the Experiment page and the pipeline run details page, respectively"
   ]
  },
  {
   "cell_type": "code",
   "execution_count": null,
   "id": "7f206640-5a42-4bec-99a7-69e81755eae5",
   "metadata": {},
   "outputs": [],
   "source": []
  }
 ],
 "metadata": {
  "kernelspec": {
   "display_name": "Python 3 (ipykernel)",
   "language": "python",
   "name": "python3"
  },
  "language_info": {
   "codemirror_mode": {
    "name": "ipython",
    "version": 3
   },
   "file_extension": ".py",
   "mimetype": "text/x-python",
   "name": "python",
   "nbconvert_exporter": "python",
   "pygments_lexer": "ipython3",
   "version": "3.8.10"
  },
  "toc-autonumbering": false,
  "toc-showmarkdowntxt": true
 },
 "nbformat": 4,
 "nbformat_minor": 5
}
