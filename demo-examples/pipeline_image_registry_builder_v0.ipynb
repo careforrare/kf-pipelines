{
 "cells": [
  {
   "cell_type": "markdown",
   "id": "96fad886-efb5-4408-8564-abd7316eb5b6",
   "metadata": {
    "tags": []
   },
   "source": [
    "# About this Jupyter Notebook\n",
    "\n",
    "@author: Yingding Wang\n",
    "\n",
    "This notebook demonstrates fetching image from a private container registry from a Python KF pipeline SDK"
   ]
  },
  {
   "cell_type": "code",
   "execution_count": 32,
   "id": "7edab136-65c2-4b8e-800e-86e3b413f9b7",
   "metadata": {
    "tags": []
   },
   "outputs": [],
   "source": [
    "import sys"
   ]
  },
  {
   "cell_type": "code",
   "execution_count": 22,
   "id": "919b9234-cbe7-473d-86d0-6ccd47a4d729",
   "metadata": {},
   "outputs": [],
   "source": [
    "# Debugging the environment variables\n",
    "# %env"
   ]
  },
  {
   "cell_type": "markdown",
   "id": "2f5e555d-529b-4f45-a9f0-bc62eeabcd92",
   "metadata": {
    "tags": []
   },
   "source": [
    "# Install kfp to build a pipeline\n",
    "* Build KF pipeline with SDK: https://www.kubeflow.org/docs/components/pipelines/sdk/build-pipeline/\n",
    "* Current KFP SDK version on pypi.org: https://pypi.org/project/kfp/ "
   ]
  },
  {
   "cell_type": "code",
   "execution_count": null,
   "id": "750f371b-184e-4b6e-884b-061c7489daa3",
   "metadata": {},
   "outputs": [],
   "source": [
    "!{sys.executable} -m pip install --upgrade --user kfp==1.8.11\n",
    "# !{sys.executable} -m pip install --upgrade --user kubernetes==18.20.0\n",
    "# !{sys.executable} -m pip install --upgrade --user kubernetes==21.7.0"
   ]
  },
  {
   "cell_type": "code",
   "execution_count": 34,
   "id": "67821982-2e73-4810-80f3-e6250f8544a0",
   "metadata": {},
   "outputs": [
    {
     "name": "stdout",
     "output_type": "stream",
     "text": [
      "Name: kubernetes\n",
      "Version: 18.20.0\n",
      "Summary: Kubernetes python client\n",
      "Home-page: https://github.com/kubernetes-client/python\n",
      "Author: Kubernetes\n",
      "Author-email: \n",
      "License: Apache License Version 2.0\n",
      "Location: /home/jovyan/.local/lib/python3.8/site-packages\n",
      "Requires: requests-oauthlib, setuptools, six, google-auth, requests, certifi, urllib3, pyyaml, websocket-client, python-dateutil\n",
      "Required-by: kfp, kfserving\n"
     ]
    }
   ],
   "source": [
    "!{sys.executable} -m pip show kubernetes"
   ]
  },
  {
   "cell_type": "markdown",
   "id": "0228a40b-2e3d-4461-880e-e3ab4104a433",
   "metadata": {},
   "source": [
    "Name: kubernetes\n",
    "Version: 12.0.1\n",
    "Summary: Kubernetes python client\n",
    "Home-page: https://github.com/kubernetes-client/python\n",
    "Author: Kubernetes\n",
    "Author-email: \n",
    "License: Apache License Version 2.0\n",
    "Location: /opt/conda/lib/python3.8/site-packages\n",
    "Requires: pyyaml, requests-oauthlib, setuptools, certifi, six, urllib3, websocket-client, google-auth, requests, python-dateutil\n",
    "Required-by: kfp, kfserving"
   ]
  },
  {
   "cell_type": "markdown",
   "id": "404635e5-8e18-426d-a39c-01280bd9274f",
   "metadata": {},
   "source": [
    "## Restart the Kernal"
   ]
  },
  {
   "cell_type": "code",
   "execution_count": 35,
   "id": "c695ff05-98f3-434d-baf5-b9715795ed8c",
   "metadata": {},
   "outputs": [
    {
     "name": "stdout",
     "output_type": "stream",
     "text": [
      "current platform python version: 3.8.10\n"
     ]
    }
   ],
   "source": [
    "from platform import python_version\n",
    "print (f\"current platform python version: {python_version()}\")"
   ]
  },
  {
   "cell_type": "code",
   "execution_count": null,
   "id": "7775ec61-9d41-4dfd-98a3-1230c007507c",
   "metadata": {},
   "outputs": [],
   "source": [
    "# run kubectl command line to see the quota in the name space\n",
    "!kubectl describe quota"
   ]
  },
  {
   "cell_type": "markdown",
   "id": "f5e2bf37-5558-4557-b1ce-451d173a71b2",
   "metadata": {},
   "source": [
    "## Create K8s secret\n",
    "* k8s python client API doc: https://github.com/kubernetes-client/python"
   ]
  },
  {
   "cell_type": "code",
   "execution_count": 37,
   "id": "d19e16b8-5797-4041-8b24-2c4e5c0263cc",
   "metadata": {},
   "outputs": [],
   "source": [
    "from kubernetes import client as k8s_client\n",
    "from kubernetes import config as k8s_config\n",
    "\n",
    "K8_NAME_SPACE = 'kubeflow-kindfor'\n",
    "K8_GIT_SECRET_NAME = 'lrzgit-kindfor-playground'"
   ]
  },
  {
   "cell_type": "markdown",
   "id": "ee3e2c4b-6237-43bc-97c0-6b02e530f459",
   "metadata": {},
   "source": [
    "### Construct an empty k8s V1Object Reference\n",
    "\n",
    "Use the following line to construct an empty K8s V1Object for KFP Python SDK.\n",
    "```python\n",
    "secret = k8s_client.V1ObjectReference(name=K8_GIT_SECRET_NAME, namespace=K8_NAME_SPACE)\n",
    "```"
   ]
  },
  {
   "cell_type": "code",
   "execution_count": 38,
   "id": "e62cf8a0-c361-4352-8153-5333233e1c4c",
   "metadata": {},
   "outputs": [
    {
     "name": "stdout",
     "output_type": "stream",
     "text": [
      "<class 'kubernetes.client.models.v1_object_reference.V1ObjectReference'>\n",
      "{'api_version': None,\n",
      " 'field_path': None,\n",
      " 'kind': None,\n",
      " 'name': 'lrzgit-kindfor-playground',\n",
      " 'namespace': 'kubeflow-kindfor',\n",
      " 'resource_version': None,\n",
      " 'uid': None}\n",
      "kubeflow-kindfor\n"
     ]
    }
   ],
   "source": [
    "secret = k8s_client.V1ObjectReference(name=K8_GIT_SECRET_NAME, namespace=K8_NAME_SPACE)\n",
    "\n",
    "print(type(secret))\n",
    "print(secret)\n",
    "print(secret.namespace)"
   ]
  },
  {
   "cell_type": "markdown",
   "id": "b07508a8-8b27-40d4-98d0-89531e402cba",
   "metadata": {},
   "source": [
    "### create a secret with kubectl\n",
    "\n",
    "1. Create a Deployment Token on GIT LAB with an optional user name, and readonly_registory to pull image\n",
    "2. SSH Login to your k8s cluster and manually create a docker-registry secret with\n",
    "```console\n",
    "kubectl -n kubeflow-kindfor create secret docker-registry <K8_GIT_SECRET_NAME> --docker-server=<GIT_URI> --docker-email=<an_abitrary_email> --docker-password=<deployment_token_string> --docker-username=<deployment_token_user_name>\n",
    "```\n",
    "\n",
    "Reference:\n",
    "* https://kubernetes.io/docs/tasks/configure-pod-container/pull-image-private-registry/\n",
    "\n",
    "Notice:\\\n",
    "use the following command to examin the docker-registry secret you created in terminal.\n",
    "```console\n",
    "kubectl -n <kubeflow_namespace> get secret <K8_GIT_SECRET_NAME> --output=\"jsonpath={.data.\\.dockerconfigjson}\" | base64 --decode\n",
    "```"
   ]
  },
  {
   "cell_type": "markdown",
   "id": "e97eea84-273e-454b-aff8-09c6420da43e",
   "metadata": {
    "tags": []
   },
   "source": [
    "## Getting started with KubeFlow Python SDK\n",
    "\n",
    "* Python SDK V2: https://www.kubeflow.org/docs/components/pipelines/sdk-v2/python-function-components/\n",
    "* Python SDK Overview: https://www.kubeflow.org/docs/components/pipelines/sdk/sdk-overview/"
   ]
  },
  {
   "cell_type": "code",
   "execution_count": 39,
   "id": "c95c2c19-fad1-4fb0-a4f2-3f91da65deba",
   "metadata": {},
   "outputs": [
    {
     "name": "stdout",
     "output_type": "stream",
     "text": [
      "BASE_IMAGE: gitlab.lrz.de:5005/dzkj/playground:branch-docker-cd\n"
     ]
    }
   ],
   "source": [
    "EXPERIMENT_NAME = 'test containers pulling'        # Name of the experiment groups runs in the GUI\n",
    "EXPERIMENT_DESC = 'Test pulling container with kfp SDK from a private image registory'\n",
    "use_custom_image = True\n",
    "#use_custom_image = False\n",
    "if (use_custom_image):\n",
    "    BASE_IMAGE = f\"gitlab.lrz.de:5005/dzkj/playground:branch-docker-cd\"\n",
    "else:\n",
    "    BASE_IMAGE = f\"library/python:{python_version()}\"\n",
    "print(f\"BASE_IMAGE: {BASE_IMAGE}\")"
   ]
  },
  {
   "cell_type": "code",
   "execution_count": null,
   "id": "30b4ecfe-61c1-46a7-a514-78c1d40bb435",
   "metadata": {},
   "outputs": [],
   "source": [
    "import kfp\n",
    "import kfp.dsl as dsl\n",
    "# import kfp.v2.dsl as dsl\n",
    "'''\n",
    "from kfp.v2.dsl import (\n",
    "    component,\n",
    "    Input,\n",
    "    Output,\n",
    "    Dataset,\n",
    "    Metrics\n",
    ")\n",
    "'''"
   ]
  },
  {
   "cell_type": "code",
   "execution_count": 44,
   "id": "47abe369-2f4c-4e16-8509-2112a0c8cba9",
   "metadata": {},
   "outputs": [],
   "source": [
    "def nothing():\n",
    "    pass\n",
    "\n",
    "def add(a: float, b: float) -> float:\n",
    "    '''Calculates sum of two arguments'''\n",
    "    print(a, '+', b, '=', a + b)\n",
    "    return a + b\n",
    "\n",
    "custom_image_op = kfp.components.create_component_from_func(\n",
    "    func=add,\n",
    "    output_component_file='playground_component.yaml', # This is optional. It saves the component spec for future use.\n",
    "    base_image=BASE_IMAGE,\n",
    "    #packages_to_install=['']\n",
    ")\n",
    "\n",
    "custom_image_op_nothing = kfp.components.create_component_from_func(\n",
    "    func=nothing,\n",
    "    output_component_file='playground_component.yaml', # This is optional. It saves the component spec for future use.\n",
    "    base_image=BASE_IMAGE,\n",
    "    #packages_to_install=['']\n",
    ")"
   ]
  },
  {
   "cell_type": "code",
   "execution_count": 45,
   "id": "ceb030c1-88ce-49e0-b9d8-1b3dc3ff1972",
   "metadata": {},
   "outputs": [],
   "source": [
    "@dsl.pipeline(\n",
    "    name = EXPERIMENT_NAME,\n",
    "    description = EXPERIMENT_DESC\n",
    ")\n",
    "def custom_image_pipeline(\n",
    "    a: float = 0,\n",
    "    b: float = 7\n",
    "):\n",
    "    first_task = custom_image_op(a, b)\n",
    "    \n",
    "\n",
    "@dsl.pipeline(\n",
    "    name = EXPERIMENT_NAME,\n",
    "    description = EXPERIMENT_DESC\n",
    ")\n",
    "def custom_image_pipeline_nothing():\n",
    "    first_task = custom_image_op_nothing()    \n",
    "    "
   ]
  },
  {
   "cell_type": "markdown",
   "id": "6bbc9570-6d91-4b2e-9d5f-6865d50a0185",
   "metadata": {},
   "source": [
    "### Setting imagePullSecretes in K8s with Pipeline config\n",
    "* Setting imagePullSecretes for Pipeline with SDK: https://github.com/kubeflow/pipelines/issues/5843#issuecomment-859799181"
   ]
  },
  {
   "cell_type": "code",
   "execution_count": 47,
   "id": "8a66e298-bc0c-4127-a119-a7ab75172757",
   "metadata": {
    "tags": []
   },
   "outputs": [],
   "source": [
    "# from kubernetes import client as k8s_client\n",
    "pipeline_config = kfp.dsl.PipelineConf()\n",
    "if (use_custom_image):\n",
    "    pipeline_config.set_image_pull_secrets([k8s_client.V1ObjectReference(name=K8_GIT_SECRET_NAME, namespace=K8_NAME_SPACE)])\n",
    "    pipeline_config.set_image_pull_policy(\"IfNotPresent\")\n",
    "    # pipeline_config.set_image_pull_policy(\"Always\")\n",
    "arguments = {'a': '7', 'b': '8'}\n",
    "arguments_nothing = {}"
   ]
  },
  {
   "cell_type": "code",
   "execution_count": 48,
   "id": "cd8f63fb-b31a-468e-9205-33258ba01a1e",
   "metadata": {},
   "outputs": [
    {
     "data": {
      "text/html": [
       "<a href=\"/pipeline/#/experiments/details/a2ad1ecc-359c-4706-8eca-e64dadaff507\" target=\"_blank\" >Experiment details</a>."
      ],
      "text/plain": [
       "<IPython.core.display.HTML object>"
      ]
     },
     "metadata": {},
     "output_type": "display_data"
    },
    {
     "data": {
      "text/html": [
       "<a href=\"/pipeline/#/runs/details/d9ae0579-7982-42a1-b382-932ab1d2be18\" target=\"_blank\" >Run details</a>."
      ],
      "text/plain": [
       "<IPython.core.display.HTML object>"
      ]
     },
     "metadata": {},
     "output_type": "display_data"
    },
    {
     "data": {
      "text/plain": [
       "RunPipelineResult(run_id=d9ae0579-7982-42a1-b382-932ab1d2be18)"
      ]
     },
     "execution_count": 48,
     "metadata": {},
     "output_type": "execute_result"
    }
   ],
   "source": [
    "client = kfp.Client()\n",
    "'''\n",
    "client.create_run_from_pipeline_func(\n",
    "    pipeline_func=custom_image_pipeline,\n",
    "    arguments = arguments_nothing,\n",
    "    pipeline_conf=pipeline_config,\n",
    "    experiment_name=EXPERIMENT_NAME,\n",
    "    namespace=K8_NAME_SPACE,\n",
    "    # mode=kfp.dsl.PipelineExecutionMode.V2_COMPATIBLE # can not run wiht V2_COMPATIBLE\n",
    ")\n",
    "'''\n",
    "\n",
    "client.create_run_from_pipeline_func(\n",
    "    pipeline_func=custom_image_pipeline_nothing,\n",
    "    arguments = arguments_nothing,\n",
    "    pipeline_conf=pipeline_config,\n",
    "    experiment_name=EXPERIMENT_NAME,\n",
    "    namespace=K8_NAME_SPACE,\n",
    "    # mode=kfp.dsl.PipelineExecutionMode.V2_COMPATIBLE # can not run wiht V2_COMPATIBLE\n",
    ")"
   ]
  },
  {
   "cell_type": "code",
   "execution_count": null,
   "id": "f1d635cd-2770-4a11-beb6-fd18dbf27e13",
   "metadata": {},
   "outputs": [],
   "source": []
  }
 ],
 "metadata": {
  "kernelspec": {
   "display_name": "Python 3",
   "language": "python",
   "name": "python3"
  },
  "language_info": {
   "codemirror_mode": {
    "name": "ipython",
    "version": 3
   },
   "file_extension": ".py",
   "mimetype": "text/x-python",
   "name": "python",
   "nbconvert_exporter": "python",
   "pygments_lexer": "ipython3",
   "version": "3.8.10"
  }
 },
 "nbformat": 4,
 "nbformat_minor": 5
}
