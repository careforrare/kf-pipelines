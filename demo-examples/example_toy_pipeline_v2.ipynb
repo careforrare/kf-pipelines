{
 "cells": [
  {
   "cell_type": "markdown",
   "id": "2c3c5a76-2162-462a-beec-a64f0f5e9141",
   "metadata": {
    "tags": []
   },
   "source": [
    "# About this notebook\n",
    "@author: Yingding Wang\\\n",
    "@created_on: 18.10.2022\\\n",
    "@upated_on: 18.10.2022\n",
    "\n",
    "This notebook shows how to create a KFP v2 pipeline, with the KFP SDK. It also runs the KFP v2 pipeline in V2_COMPATIBLE mode. \n",
    "\n",
    "Notice:\n",
    "* v2 compatible mode -- known caveasts and breaking changes: https://github.com/kubeflow/pipelines/issues/6133\n",
    "\n",
    "### Useful JupyterLab Basic\n",
    "\n",
    "Before start, you may consider to update the jupyterlab with the command\n",
    "\n",
    "<code>python\n",
    "!{sys.executable} -m pip install --upgrade --user jupyterlab    \n",
    "</code>  \n",
    "\n",
    "### Useful Jupyter Notebook Basic\n",
    "1. Autocomplete syntax with \"Tab\"\n",
    "2. View Doc String with \"Shift + Tab\"\n",
    "3. mark the code snippet -> select with right mouse -> Show Contextual Help (see the function code)\n",
    "4. comment lines on macosx the cmd + / (over num pad, not the / on 7)"
   ]
  },
  {
   "cell_type": "code",
   "execution_count": 1,
   "id": "86486178-ffbe-4ee2-b4ef-42c2d3dc9386",
   "metadata": {},
   "outputs": [
    {
     "name": "stdout",
     "output_type": "stream",
     "text": [
      "Sys version: 3.8.10 | packaged by conda-forge | (default, May 11 2021, 07:01:05) \n",
      "[GCC 9.3.0]\n"
     ]
    }
   ],
   "source": [
    "import sys, os\n",
    "print(f\"Sys version: {sys.version}\")\n",
    "\n",
    "# %env\n",
    "# os.environ[\"KF_PIPELINES_SA_TOKEN_PATH\"]=\"/var/run/secrets/kubernetes.io/serviceaccount/token\"\n",
    "# os.environ[\"KF_PIPELINES_SA_TOKEN_PATH\"]=\"/var/run/secrets/kubeflow/pipelines/token\""
   ]
  },
  {
   "cell_type": "code",
   "execution_count": 2,
   "id": "4fd0be96-cafc-4898-90d4-43e8d88ea4ef",
   "metadata": {},
   "outputs": [
    {
     "name": "stdout",
     "output_type": "stream",
     "text": [
      "current platform python version: 3.8.10\n"
     ]
    }
   ],
   "source": [
    "from platform import python_version\n",
    "print (f\"current platform python version: {python_version()}\")"
   ]
  },
  {
   "cell_type": "markdown",
   "id": "b2a6f0b4-6603-4c6a-8fe1-09cbf546a503",
   "metadata": {},
   "source": [
    "### Update the JupyterLab"
   ]
  },
  {
   "cell_type": "code",
   "execution_count": 3,
   "id": "ff9f8324-3b71-4ebf-8708-0858180f8b10",
   "metadata": {},
   "outputs": [
    {
     "name": "stdout",
     "output_type": "stream",
     "text": [
      "Name: jupyterlab\n",
      "Version: 3.4.8\n",
      "Summary: JupyterLab computational environment\n",
      "Home-page: https://jupyter.org\n",
      "Author: Jupyter Development Team\n",
      "Author-email: jupyter@googlegroups.com\n",
      "License: \n",
      "Location: /home/jovyan/.local/lib/python3.8/site-packages\n",
      "Requires: ipython, jinja2, jupyter-core, jupyter-server, jupyterlab-server, nbclassic, notebook, packaging, tomli, tornado\n",
      "Required-by: \n"
     ]
    }
   ],
   "source": [
    "!{sys.executable} -m pip show jupyterlab # 3.0.16\n",
    "# !{sys.executable} -m pip show jupyter_contrib_nbextensions"
   ]
  },
  {
   "cell_type": "code",
   "execution_count": 4,
   "id": "ef227937-980d-4e14-9256-667d5c11c397",
   "metadata": {},
   "outputs": [],
   "source": [
    "# update the jupyter lab\n",
    "#!{sys.executable} -m pip install --upgrade --user jupyterlab"
   ]
  },
  {
   "cell_type": "code",
   "execution_count": 5,
   "id": "0501c7de-8b37-4b2b-a090-4bdab08ea06c",
   "metadata": {},
   "outputs": [
    {
     "data": {
      "text/plain": [
       "'upgrade the kfp server api version to 1.8.5 for KF 1.6.1 (with backend 2.0.0a5 for V2 compatible)'"
      ]
     },
     "execution_count": 5,
     "metadata": {},
     "output_type": "execute_result"
    }
   ],
   "source": [
    "\"\"\"upgrade the kfp server api version to 1.7.0 for KF 1.4\"\"\"\n",
    "# !{sys.executable} -m pip uninstall -y kfp-server-api\n",
    "# !{sys.executable} -m pip install --user --upgrade kfp-server-api==1.7.0\n",
    "\"\"\"upgrade the kfp server api version to 1.8.0 for KF 1.5.1\"\"\"\n",
    "# !{sys.executable} -m pip uninstall -y kfp-server-api\n",
    "# !{sys.executable} -m pip install --user --upgrade kfp-server-api==1.8.2\n",
    "\"\"\"upgrade the kfp server api version to 1.8.5 for KF 1.6.1 (with backend 2.0.0a5 for V2 compatible)\"\"\"\n",
    "# !{sys.executable} -m pip uninstall -y kfp-server-api\n",
    "# !{sys.executable} -m pip install --user --upgrade kfp-server-api==1.8.5"
   ]
  },
  {
   "cell_type": "code",
   "execution_count": 6,
   "id": "5e2ca499-fa75-421e-9556-1592eb4222cc",
   "metadata": {},
   "outputs": [],
   "source": [
    "%%capture\n",
    "# use %%capture magic to suppress the output of this cell, comment it to see the installation logs.\n",
    "\n",
    "# the kfp-server-api 1.8.5 shall be updated with the KFP 1.8.14.\n",
    "!{sys.executable} -m pip install --upgrade --user kfp==1.8.14\n",
    "\n",
    "#!{sys.executable} -m pip install --upgrade --user kubernetes==18.20.0\n",
    "#!{sys.executable} -m pip install --upgrade --user kubernetes==21.7.0"
   ]
  },
  {
   "cell_type": "markdown",
   "id": "d0b9ac69-447f-48d6-8c60-af8354da77c4",
   "metadata": {},
   "source": [
    "# Restart the kernal\n",
    "After update the kfp, restart this notebook kernel\n",
    "\n",
    "Jupyter notebook: Meun -> Kernel -> restart kernel"
   ]
  },
  {
   "cell_type": "markdown",
   "id": "a893aabd-ebd4-4394-9d6c-8a100e605234",
   "metadata": {},
   "source": [
    "## Check the KubeFlow Pipeline version on the server side"
   ]
  },
  {
   "cell_type": "code",
   "execution_count": 7,
   "id": "0b32d8be-3661-4988-8b76-410bee88c1b1",
   "metadata": {},
   "outputs": [],
   "source": [
    "import sys"
   ]
  },
  {
   "cell_type": "code",
   "execution_count": 8,
   "id": "3f2fbe67-1987-45ba-a883-8aec9624417b",
   "metadata": {},
   "outputs": [
    {
     "name": "stdout",
     "output_type": "stream",
     "text": [
      "kfp                      1.8.14\n",
      "kfp-pipeline-spec        0.1.16\n",
      "kfp-server-api           1.8.5\n"
     ]
    }
   ],
   "source": [
    "!{sys.executable} -m pip list | grep kfp"
   ]
  },
  {
   "cell_type": "markdown",
   "id": "f6f5b4f4-ba6b-4e59-b66d-c237046b4d2c",
   "metadata": {},
   "source": [
    "### Check my KubeFlow namespace total resource limits"
   ]
  },
  {
   "cell_type": "code",
   "execution_count": 9,
   "id": "36881723-2f81-40ce-a58a-68742e339edc",
   "metadata": {},
   "outputs": [],
   "source": [
    "# run command line to see the quota\n",
    "# !kubectl describe quota"
   ]
  },
  {
   "cell_type": "markdown",
   "id": "f3c0730d-418e-4771-b584-7f54e6551037",
   "metadata": {},
   "source": [
    "### Setup\n",
    "Example Pipeline from\n",
    "https://github.com/kubeflow/examples/tree/master/pipelines/simple-notebook-pipeline\n",
    "\n",
    "### Getting started with Python function-based components\n",
    "https://www.kubeflow.org/docs/components/pipelines/v1/sdk-v2/python-function-components/"
   ]
  },
  {
   "cell_type": "code",
   "execution_count": 10,
   "id": "f656c83c-1ce2-4799-b883-799e1708142d",
   "metadata": {},
   "outputs": [],
   "source": [
    "from dataclasses import dataclass\n",
    "# Used components in the pipeline, which has no root\n",
    "@dataclass\n",
    "class Setup():\n",
    "    base_image: str = \"python:3.8.15\"\n",
    "    \n",
    "setup = Setup()    "
   ]
  },
  {
   "cell_type": "code",
   "execution_count": 11,
   "id": "2aec3bba-89f9-42ed-8053-92f7dd11ac0e",
   "metadata": {},
   "outputs": [],
   "source": [
    "import kfp\n",
    "import kubernetes\n",
    "\n",
    "# import kfp.compiler as compiler\n",
    "# use the v2 dsl and components to run the pipeline in V2_COMPATIBLE mode\n",
    "from kfp.v2 import dsl\n",
    "from kfp.v2.dsl import (\n",
    "    ContainerOp,\n",
    "    component,\n",
    "    Input,\n",
    "    Output,\n",
    "    Artifact,\n",
    "    Dataset,\n",
    "    Model\n",
    ")\n",
    "\n",
    "EXPERIMENT_NAME = 'demo' # Name of the experiment folder in the KF WebApp UI\n",
    "EXPERIMENT_DESC = 'demo of kubeflow experiment folder'\n",
    "# client = kfp.Client()\n",
    "NAME_SPACE = kfp.Client().get_user_namespace() # read the namespace of notebook namespace"
   ]
  },
  {
   "cell_type": "markdown",
   "id": "64e508d7-7586-4000-ad24-4b63923d269b",
   "metadata": {},
   "source": [
    "## Connecting KFP Python SDK from Notebook to Pipeline\n",
    "\n",
    "* Overview https://www.kubeflow.org/docs/components/pipelines/sdk/connect-api/\n",
    "* From Inside KF https://www.kubeflow.org/docs/components/pipelines/v1/sdk/connect-api/#full-kubeflow-subfrom-inside-clustersub"
   ]
  },
  {
   "cell_type": "code",
   "execution_count": 12,
   "id": "23f373b8-831b-4394-8113-b665f4f9fb4a",
   "metadata": {},
   "outputs": [
    {
     "name": "stdout",
     "output_type": "stream",
     "text": [
      "1.8.14\n",
      "12.0.1\n"
     ]
    }
   ],
   "source": [
    "print(kfp.__version__)\n",
    "print(kubernetes.__version__)"
   ]
  },
  {
   "cell_type": "code",
   "execution_count": 13,
   "id": "6a54b694-cd53-43cb-b4ce-ce98cb551163",
   "metadata": {},
   "outputs": [],
   "source": [
    "@component(\n",
    "    base_image=setup.base_image,\n",
    "    packages_to_install=[\"numpy==1.23.4\"],\n",
    "    output_component_file=\"my_cal_op_component.yaml\"\n",
    ")\n",
    "def add_op(a: float, b: float) -> float:\n",
    "    '''Calculates sum of two arguments'''\n",
    "    import numpy as np\n",
    "    vec_a = np.array([a])\n",
    "    vec_b = np.array([b])\n",
    "    vec_sum = np.add(vec_a, vec_b)\n",
    "    print(f\"vec_a: {vec_a} + vec_b: {vec_b} = {vec_sum}\")\n",
    "    return vec_sum[0]"
   ]
  },
  {
   "cell_type": "markdown",
   "id": "d62b7fb4-5a09-450c-9e4c-7c391a7eacc0",
   "metadata": {
    "tags": []
   },
   "source": [
    "### Add pod memory and cpu restriction\n",
    "\n",
    "https://github.com/kubeflow/pipelines/pull/5695"
   ]
  },
  {
   "cell_type": "code",
   "execution_count": 14,
   "id": "6b002c6a-4f5d-42b1-88b7-d4c1b95b7d45",
   "metadata": {},
   "outputs": [],
   "source": [
    "def op_resource_transformer(op: ContainerOp, mem_req=\"200Mi\", cpu_req=\"500m\", mem_lim=\"4000Mi\", cpu_lim='4000m'):\n",
    "    \"\"\"\n",
    "    this function helps to set the resource limit for container operators\n",
    "    op.set_memory_limit('1000Mi') = 1GB\n",
    "    op.set_cpu_limit('1000m') = 1 cpu core\n",
    "    \"\"\"\n",
    "    return op.set_memory_request(mem_req)\\\n",
    "            .set_memory_limit(mem_lim)\\\n",
    "            .set_cpu_request(cpu_req)\\\n",
    "            .set_cpu_limit(cpu_lim)"
   ]
  },
  {
   "cell_type": "markdown",
   "id": "1048e997-68f9-4bfc-b474-9695b821ebab",
   "metadata": {},
   "source": [
    "### Run V2/V2 compatible pipeline\n",
    "* https://www.kubeflow.org/docs/components/pipelines/v1/sdk-v2/build-pipeline/#compile-and-run-your-pipeline"
   ]
  },
  {
   "cell_type": "code",
   "execution_count": 15,
   "id": "16cfd03b-2127-4722-a099-d6efeb9900e6",
   "metadata": {},
   "outputs": [],
   "source": [
    "@dsl.pipeline(\n",
    "   name='Calculation-Pipeline', \n",
    "   description='A toy pipeline that performs arithmetic calculations.',\n",
    "   # no pipeline root necessary to use the built-in on-prem minio artifact respository \n",
    "   # You can optionally specify your own pipeline_root,\n",
    "   # pipeline_root='minio://mlpipeline/v2/artifacts'\n",
    ")\n",
    "def calc_pipeline(\n",
    "   a: float =0,\n",
    "   b: float =7\n",
    "):  \n",
    "    increase: float = 4\n",
    "    \n",
    "    first_add_task = op_resource_transformer(add_op(a, increase))\n",
    "    first_add_task.set_caching_options(False)\n",
    "    first_add_task.set_display_name(\"add op 1\")\n",
    "    second_add_task = op_resource_transformer(add_op(first_add_task.output, b)) \n",
    "    second_add_task.set_caching_options(False)\n",
    "    second_add_task.set_display_name(\"add op 2\")"
   ]
  },
  {
   "cell_type": "markdown",
   "id": "a422d04f-448a-4fc2-90cd-2069addb7a7a",
   "metadata": {},
   "source": [
    "### (optional step) Compile the pipeline to see the settings"
   ]
  },
  {
   "cell_type": "code",
   "execution_count": 16,
   "id": "ec63e50d-81d8-4012-9a75-1375ac9a5aa0",
   "metadata": {},
   "outputs": [
    {
     "name": "stderr",
     "output_type": "stream",
     "text": [
      "/opt/conda/lib/python3.8/site-packages/kfp/compiler/compiler.py:79: UserWarning: V2_COMPATIBLE execution mode is at Beta quality. Some pipeline features may not work as expected.\n",
      "  warnings.warn('V2_COMPATIBLE execution mode is at Beta quality.'\n"
     ]
    }
   ],
   "source": [
    "PIPE_LINE_FILE_NAME=\"calc_pipeline_with_resource_limits_v2\"\n",
    "kfp.compiler.Compiler(\n",
    "    mode=kfp.dsl.PipelineExecutionMode.V2_COMPATIBLE\n",
    ").compile(\n",
    "    pipeline_func=calc_pipeline,\n",
    "    package_path=f\"{PIPE_LINE_FILE_NAME}.yaml\"\n",
    ")"
   ]
  },
  {
   "cell_type": "markdown",
   "id": "d2094a2a-3803-4f6c-8535-3d7d51a18d17",
   "metadata": {},
   "source": [
    "# Run Pipeline with Multi-user Isolation\n",
    "\n",
    "https://www.kubeflow.org/docs/components/pipelines/multi-user/"
   ]
  },
  {
   "cell_type": "code",
   "execution_count": 17,
   "id": "c00f3e39-e482-4bb7-a405-289ff90b304d",
   "metadata": {},
   "outputs": [],
   "source": [
    "client = kfp.Client()"
   ]
  },
  {
   "cell_type": "code",
   "execution_count": 18,
   "id": "a1901d2d-0221-48d1-99bb-9e92089dc445",
   "metadata": {},
   "outputs": [],
   "source": [
    "# Make sure the volume is mounted /run/secrets/kubeflow/pipelines \n",
    "# client.get_experiment(experiment_name=EXPERIMENT_NAME, namespace=NAME_SPACE)"
   ]
  },
  {
   "cell_type": "code",
   "execution_count": 19,
   "id": "7e3333eb-a26e-4d63-8266-c07b8b89000d",
   "metadata": {},
   "outputs": [],
   "source": [
    "# client.list_pipelines()\n",
    "# print(NAME_SPACE)\n",
    "# client.list_experiments(namespace=NAME_SPACE)\n",
    "# exp = client.create_experiment(EXPERIMENT_NAME, description=EXPERIMENT_DESC)"
   ]
  },
  {
   "cell_type": "code",
   "execution_count": 20,
   "id": "95cad574-8d0b-45b6-bd85-b4b3b6857eba",
   "metadata": {
    "tags": []
   },
   "outputs": [],
   "source": [
    "# Specify pipeline argument values\n",
    "arguments = {'a': '7', 'b': '8'}\n",
    "pipeline_config: kfp.dsl.PipelineConf = kfp.dsl.PipelineConf().set_image_pull_policy(\"IfNotPresent\")"
   ]
  },
  {
   "cell_type": "code",
   "execution_count": 21,
   "id": "95fa30cb-639d-4fdc-be9a-39c2c67221c9",
   "metadata": {},
   "outputs": [
    {
     "data": {
      "text/html": [
       "<a href=\"/pipeline/#/experiments/details/6728cf36-e575-4579-bb2e-28c02c519e90\" target=\"_blank\" >Experiment details</a>."
      ],
      "text/plain": [
       "<IPython.core.display.HTML object>"
      ]
     },
     "metadata": {},
     "output_type": "display_data"
    },
    {
     "data": {
      "text/html": [
       "<a href=\"/pipeline/#/runs/details/26124936-a076-4a31-95ec-3f10c4944a65\" target=\"_blank\" >Run details</a>."
      ],
      "text/plain": [
       "<IPython.core.display.HTML object>"
      ]
     },
     "metadata": {},
     "output_type": "display_data"
    }
   ],
   "source": [
    "run_result = client.create_run_from_pipeline_func(\n",
    "    pipeline_func=calc_pipeline, \n",
    "    arguments=arguments,\n",
    "    experiment_name=EXPERIMENT_NAME, \n",
    "    namespace=NAME_SPACE,\n",
    "    enable_caching=False,\n",
    "    pipeline_conf=pipeline_config,\n",
    "    mode=kfp.dsl.PipelineExecutionMode.V2_COMPATIBLE\n",
    ")"
   ]
  },
  {
   "cell_type": "markdown",
   "id": "e810a3e1-3da2-46c8-bd80-d605f73d95fa",
   "metadata": {},
   "source": [
    "### Wait for the run completion\n",
    "* doc: https://kubeflow-pipelines.readthedocs.io/en/latest/_modules/kfp/_client.html"
   ]
  },
  {
   "cell_type": "code",
   "execution_count": 22,
   "id": "591333f1-ec57-46cb-8723-9e6d9184db0c",
   "metadata": {},
   "outputs": [],
   "source": [
    "seconds_to_wait = 60\n",
    "max_try = 2"
   ]
  },
  {
   "cell_type": "code",
   "execution_count": 23,
   "id": "7f206640-5a42-4bec-99a7-69e81755eae5",
   "metadata": {},
   "outputs": [
    {
     "name": "stdout",
     "output_type": "stream",
     "text": [
      "Timeout detected, try to get run status again.\n",
      "Succeeded\n"
     ]
    }
   ],
   "source": [
    "from datetime import timedelta\n",
    "from kfp_server_api.models.api_run_detail import ApiRunDetail\n",
    "timeout = timedelta(seconds=seconds_to_wait)\n",
    "\n",
    "# check the run status, with max_try times if a timeout is detected.\n",
    "current_try = 0\n",
    "while current_try < max_try:\n",
    "    try:\n",
    "        # wait for run completion with timeout given\n",
    "        kfp_run: ApiRunDetail = run_result.wait_for_run_completion(timeout)\n",
    "        print(kfp_run.run.status)\n",
    "        break\n",
    "    except TimeoutError as e:\n",
    "        print(\"Timeout detected, try to get run status again.\")\n",
    "    finally:\n",
    "        current_try += 1"
   ]
  },
  {
   "cell_type": "code",
   "execution_count": null,
   "id": "937f4003-b223-456b-bea3-4d5b7bfaa248",
   "metadata": {},
   "outputs": [],
   "source": []
  }
 ],
 "metadata": {
  "kernelspec": {
   "display_name": "Python 3 (ipykernel)",
   "language": "python",
   "name": "python3"
  },
  "language_info": {
   "codemirror_mode": {
    "name": "ipython",
    "version": 3
   },
   "file_extension": ".py",
   "mimetype": "text/x-python",
   "name": "python",
   "nbconvert_exporter": "python",
   "pygments_lexer": "ipython3",
   "version": "3.8.10"
  },
  "toc-autonumbering": false,
  "toc-showmarkdowntxt": true
 },
 "nbformat": 4,
 "nbformat_minor": 5
}
